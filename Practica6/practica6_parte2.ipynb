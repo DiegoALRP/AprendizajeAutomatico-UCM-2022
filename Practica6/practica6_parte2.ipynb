{
 "cells": [
  {
   "cell_type": "code",
   "execution_count": 1,
   "id": "d310bf82",
   "metadata": {},
   "outputs": [],
   "source": [
    "#Imports\n",
    "import numpy as np\n",
    "from scipy.io import loadmat\n",
    "import scipy.optimize as opt\n",
    "import matplotlib.pyplot as plt\n",
    "from scipy.optimize import minimize\n",
    "from sklearn import svm\n",
    "from get_vocab_dict import getVocabDict\n",
    "import process_email as mail\n",
    "import codecs\n",
    "import glob"
   ]
  },
  {
   "cell_type": "markdown",
   "id": "1ea71888",
   "metadata": {},
   "source": [
    "## Deteccion de spam"
   ]
  },
  {
   "cell_type": "code",
   "execution_count": 2,
   "id": "772c7489",
   "metadata": {},
   "outputs": [],
   "source": [
    "def read_file(filename, vocab):\n",
    "    email_content = codecs.open(filename, 'r', encoding='utf-8', errors='ignore').read()\n",
    "    email = mail.email2TokenList(email_content)\n",
    "    mail_arr = np.zeros(len(vocab))\n",
    "    for word in email:\n",
    "        if word in vocab.keys():\n",
    "            mail_arr[vocab[word] - 1] = 1\n",
    "    return mail_arr\n",
    "\n",
    "def read_folder(foldername, vocab):\n",
    "    \n",
    "    files_in_folder = glob.glob(foldername)\n",
    "    files_in_folder = sorted(files_in_folder)\n",
    "    num_of_files = len(files_in_folder)\n",
    "    vocab_len = len(vocab)\n",
    "    \n",
    "    emails = np.empty((num_of_files, vocab_len))\n",
    "    i = 0\n",
    "    for filename in files_in_folder:\n",
    "        emails[i] = read_file(filename, vocab)\n",
    "        i = i + 1\n",
    "    \n",
    "    return emails\n",
    "    "
   ]
  },
  {
   "cell_type": "code",
   "execution_count": 3,
   "id": "71d4d242",
   "metadata": {},
   "outputs": [],
   "source": [
    "def main():\n",
    "    \n",
    "    \"\"\"\n",
    "    Function to read in the supplied vocab list text file into a dictionary.\n",
    "    Dictionary key is the stemmed word, value is the index in the text file\n",
    "    If \"reverse\", the keys and values are switched.\n",
    "    \"\"\"\n",
    "    vocab = getVocabDict()\n",
    "    \n",
    "    spam_emails = read_folder(\"p6/spam/*\", vocab)\n",
    "    X_spam = spam_emails\n",
    "    y_spam = np.ones(X_spam.shape[0])\n",
    "    \n",
    "    easyHam_emails = read_folder(\"p6/easy_ham/*\", vocab)\n",
    "    X_easyHam = spam_emails\n",
    "    y_easyHam = np.ones(X_easyHam.shape[0])\n",
    "    \n",
    "    hardHam_emails = read_folder(\"p6/hard_ham/*\", vocab)\n",
    "    X_hardHam = spam_emails\n",
    "    y_hardHam = np.ones(X_hardHam.shape[0])\n",
    "    \n",
    "    print(X_spam.shape[0])\n",
    "    print(X_easyHam.shape[0])\n",
    "    print(X_hardHam.shape[0])"
   ]
  },
  {
   "cell_type": "code",
   "execution_count": 4,
   "id": "798e43d9",
   "metadata": {},
   "outputs": [
    {
     "name": "stdout",
     "output_type": "stream",
     "text": [
      "500\n",
      "500\n",
      "500\n"
     ]
    }
   ],
   "source": [
    "main()"
   ]
  },
  {
   "cell_type": "code",
   "execution_count": null,
   "id": "370d8e64",
   "metadata": {},
   "outputs": [],
   "source": []
  }
 ],
 "metadata": {
  "kernelspec": {
   "display_name": "Python 3 (ipykernel)",
   "language": "python",
   "name": "python3"
  },
  "language_info": {
   "codemirror_mode": {
    "name": "ipython",
    "version": 3
   },
   "file_extension": ".py",
   "mimetype": "text/x-python",
   "name": "python",
   "nbconvert_exporter": "python",
   "pygments_lexer": "ipython3",
   "version": "3.9.7"
  }
 },
 "nbformat": 4,
 "nbformat_minor": 5
}
