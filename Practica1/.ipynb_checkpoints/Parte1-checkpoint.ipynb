{
 "cells": [
  {
   "cell_type": "code",
   "execution_count": 1,
   "id": "178951d9",
   "metadata": {},
   "outputs": [],
   "source": [
    "#Imports\n",
    "import numpy as np\n",
    "from pandas.io.parsers import read_csv\n",
    "import matplotlib.pyplot as plt"
   ]
  },
  {
   "cell_type": "code",
   "execution_count": 2,
   "id": "8302ee3e",
   "metadata": {},
   "outputs": [],
   "source": [
    "def load_csv(filename):\n",
    "    valores = read_csv (filename, header=None).to_numpy()\n",
    "    return valores.astype(float)"
   ]
  },
  {
   "cell_type": "code",
   "execution_count": 3,
   "id": "e7dd8cce",
   "metadata": {},
   "outputs": [],
   "source": [
    "def lineal_regresion_one_variable():\n",
    "    data = load_csv('ex1data1.csv')\n",
    "    \n",
    "    #Primera Columna\n",
    "    X = data[:,0]\n",
    "    #Segunda Columna\n",
    "    Y = data[:,1]\n",
    "    \n",
    "    # Numero de ejemplos de entrenamiento\n",
    "    m = len(X)\n",
    "    #Tamanho inicial de los saltos\n",
    "    alpha = 0.01\n",
    "    #Inicializacion de los valores de theta0 y theta1\n",
    "    theta0 = theta1 = 0\n",
    "    \n",
    "    #Codigo del profesor\n",
    "    #for _ in range(1500):\n",
    "    #    sum_0 = sum_1 = 0\n",
    "    #    for i in range(m):\n",
    "    #        sum_0 += (theta0 + theta1 * X[i]) - Y[i]\n",
    "    #        sum_1 += ((theta0 + theta1 * X[i]) - Y[i]) * X[i]\n",
    "    #    theta0 = theta0 - (alpha/m) * sum_0\n",
    "    #    theta1 = theta1 - (alpha/m) * sum_1\n",
    "    \n",
    "    \n",
    "        \n",
    "    plt.plot(X, Y, \"x\")\n",
    "    min_x = min(X)\n",
    "    max_x = max(X)\n",
    "    min_y = theta0 + theta1 * min_x\n",
    "    max_y = theta0 + theta1 * max_x\n",
    "    plt.plot([min_x, max_x], [min_y, max_y], color='red', linewidth=2)\n",
    "    plt.savefig(\"result1.pdf\")\n",
    "    plt.show\n",
    "        \n",
    "    "
   ]
  },
  {
   "cell_type": "code",
   "execution_count": 4,
   "id": "9bc1e3f4",
   "metadata": {},
   "outputs": [
    {
     "data": {
      "image/png": "[encoded data removed]",
      "text/plain": [
       "<Figure size 432x288 with 1 Axes>"
      ]
     },
     "metadata": {
      "needs_background": "light"
     },
     "output_type": "display_data"
    }
   ],
   "source": [
    "lineal_regresion_one_variable()"
   ]
  },
  {
   "cell_type": "code",
   "execution_count": null,
   "id": "c2854da4",
   "metadata": {},
   "outputs": [],
   "source": []
  }
 ],
 "metadata": {
  "kernelspec": {
   "display_name": "Python 3 (ipykernel)",
   "language": "python",
   "name": "python3"
  },
  "language_info": {
   "codemirror_mode": {
    "name": "ipython",
    "version": 3
   },
   "file_extension": ".py",
   "mimetype": "text/x-python",
   "name": "python",
   "nbconvert_exporter": "python",
   "pygments_lexer": "ipython3",
   "version": "3.9.7"
  }
 },
 "nbformat": 4,
 "nbformat_minor": 5
}
