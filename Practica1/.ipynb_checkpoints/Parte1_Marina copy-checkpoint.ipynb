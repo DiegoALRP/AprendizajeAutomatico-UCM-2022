{
 "cells": [
  {
   "cell_type": "code",
   "execution_count": 1,
   "id": "45f0686f",
   "metadata": {},
   "outputs": [],
   "source": [
    "#Imports\n",
    "import numpy as np\n",
    "from pandas.io.parsers import read_csv\n",
    "import matplotlib.pyplot as plt\n",
    "from mpl_toolkits.mplot3d import Axes3D\n",
    "from matplotlib import cm"
   ]
  },
  {
   "cell_type": "code",
   "execution_count": 2,
   "id": "8b6d1308",
   "metadata": {},
   "outputs": [],
   "source": [
    "def load_csv(filename):\n",
    "    valores = read_csv (filename, header=None).to_numpy()\n",
    "    return valores.astype(float)"
   ]
  },
  {
   "cell_type": "code",
   "execution_count": 3,
   "id": "1b57000b",
   "metadata": {},
   "outputs": [],
   "source": [
    "def h(x, theta):\n",
    "    return theta[0] + theta[1] * x"
   ]
  },
  {
   "cell_type": "code",
   "execution_count": 4,
   "id": "a9f142ba",
   "metadata": {},
   "outputs": [],
   "source": [
    "def cost_function(X, Y, theta):\n",
    "    observed = h(X, theta)\n",
    "    return func_coste(Y, observed)"
   ]
  },
  {
   "cell_type": "code",
   "execution_count": 5,
   "id": "edd0f1ea",
   "metadata": {},
   "outputs": [],
   "source": [
    "def func_coste(expected, observed):\n",
    "    dif = (1/(2*len(expected)))*np.sum(np.subtract(expected, observed)**2)\n",
    "    return dif"
   ]
  },
  {
   "cell_type": "code",
   "execution_count": 6,
   "id": "df65c73c",
   "metadata": {},
   "outputs": [],
   "source": [
    "def lineal_regresion_one_variable():\n",
    "    data = load_csv('ex1data1.csv')\n",
    "    \n",
    "    #Primera Columna\n",
    "    X = data[:,0]\n",
    "    #Segunda Columna\n",
    "    Y = data[:,1]\n",
    "    \n",
    "    # Numero de ejemplos de entrenamiento\n",
    "    m = len(X)\n",
    "    #Tamanho inicial de los saltos\n",
    "    alpha = 0.01\n",
    "    #Inicializacion de los valores de theta0 y theta1\n",
    "    theta0 = theta1 = 0\n",
    "    \n",
    "    #Codigo del profesor\n",
    "    #for _ in range(1500):\n",
    "    #    sum_0 = sum_1 = 0\n",
    "    #    for i in range(m):\n",
    "    #        sum_0 += (theta0 + theta1 * X[i]) - Y[i]\n",
    "    #        sum_1 += ((theta0 + theta1 * X[i]) - Y[i]) * X[i]\n",
    "    #    theta0 = theta0 - (alpha/m) * sum_0\n",
    "    #    theta1 = theta1 - (alpha/m) * sum_1\n",
    "    coste = list()\n",
    "    for i in range(1500):\n",
    "        observed = h(X, [theta0, theta1])\n",
    "        theta0 = theta0 - (alpha/m) * np.sum(observed - Y)\n",
    "        theta1 = theta1 - (alpha/m) * np.sum((observed - Y) * X)\n",
    "        coste.append(cost_function(X, Y, [theta0, theta1]))\n",
    "        \n",
    "    #plt.plot(X, Y, \"x\")\n",
    "    min_x = min(X)\n",
    "    max_x = max(X)\n",
    "    min_y = theta0 + theta1 * min_x\n",
    "    max_y = theta0 + theta1 * max_x\n",
    "    #plt.plot([min_x, max_x], [min_y, max_y], color='red', linewidth=2)\n",
    "    \n",
    "    #print(coste)\n",
    "    #plt.plot(coste)\n",
    "    #plt.xlabel('Iteraciones'); plt.ylabel(\"J($\\\\theta_{0}$,$\\\\theta_{1}$)\")\n",
    "    #plt.savefig(\"resultCoste.png\")\n",
    "    #plt.show\n",
    "    \n",
    "    #plt.plot(coste)\n",
    "    #plt.show\n",
    "    return [theta0, theta1, coste]\n",
    "    "
   ]
  },
  {
   "cell_type": "code",
   "execution_count": 7,
   "id": "0059b426",
   "metadata": {},
   "outputs": [
    {
     "data": {
      "text/plain": [
       "4.534245012944714"
      ]
     },
     "execution_count": 7,
     "metadata": {},
     "output_type": "execute_result"
    }
   ],
   "source": [
    "l = lineal_regresion_one_variable()\n",
    "l[0] + l[1]*7"
   ]
  },
  {
   "cell_type": "code",
   "execution_count": 8,
   "id": "53744880",
   "metadata": {},
   "outputs": [],
   "source": [
    "def make_data(t0_range, t1_range, X, Y, step=0.1):\n",
    "    step = 0.1\n",
    "    Theta0 = np.arange(t0_range[0], t0_range[1], step)\n",
    "    Theta1 = np.arange(t1_range[0], t1_range[1], step)\n",
    "    Theta0, Theta1 = np.meshgrid(Theta0, Theta1)\n",
    "     # Theta0 y Theta1 tienen las misma dimensiones, de forma que\n",
    "     # cogiendo un elemento de cada uno se generan las coordenadas x,y\n",
    "     # de todos los puntos de la rejilla\n",
    "    Coste = np.empty_like(Theta0)\n",
    "    for ix, iy in np.ndindex(Theta0.shape):\n",
    "        Coste[ix, iy] = cost_function(X, Y, [Theta0[ix, iy], Theta1[ix, iy]])\n",
    "    \n",
    "    #print(Coste)    \n",
    "    return [Theta0, Theta1, Coste]"
   ]
  },
  {
   "cell_type": "code",
   "execution_count": 9,
   "id": "334a2088",
   "metadata": {},
   "outputs": [],
   "source": [
    "def show_contour(data, thetas):\n",
    "    plt.contour(data[0],data[1],data[2],np.logspace(-2,3,20))\n",
    "    #plt.plot(dataPoint)\n",
    "    plt.plot(thetas[0], thetas[1],'rx');\n",
    "    plt.xlabel('$\\\\theta_{0}$'); plt.ylabel(\"$\\\\theta_{1}$\")\n",
    "    #plt.contour(data[0],data[1],data[2])\n",
    "    plt.savefig(\"part1_contour.png\")"
   ]
  },
  {
   "cell_type": "code",
   "execution_count": 10,
   "id": "ed0e951a",
   "metadata": {},
   "outputs": [],
   "source": [
    "def show_mesh(data):\n",
    "    fig, ax = plt.subplots(subplot_kw={\"projection\": \"3d\"})\n",
    "    surf = ax.plot_surface(data[0], data[1], data[2], cmap=cm.jet, linewidth=0, antialiased=False)\n",
    "    \n",
    "    plt.show()\n",
    "    fig.savefig(\"part1_mesh.png\")"
   ]
  },
  {
   "cell_type": "code",
   "execution_count": 11,
   "id": "cf43db8c",
   "metadata": {},
   "outputs": [],
   "source": [
    "def print_graphs():\n",
    "    data = load_csv('ex1data1.csv')\n",
    "    X = data[:, 0]\n",
    "    Y = data[:, 1]\n",
    "    grid_data = make_data([-10, 10], [-1, 4], X, Y)\n",
    "    \n",
    "    dataPoint = lineal_regresion_one_variable()\n",
    "    show_contour(grid_data, dataPoint)\n",
    "    show_mesh(grid_data)"
   ]
  },
  {
   "cell_type": "code",
   "execution_count": 12,
   "id": "6a820517",
   "metadata": {},
   "outputs": [
    {
     "data": {
      "image/png": "[encoded data removed]",
      "text/plain": [
       "<Figure size 432x288 with 1 Axes>"
      ]
     },
     "metadata": {
      "needs_background": "light"
     },
     "output_type": "display_data"
    },
    {
     "data": {
      "image/png": "[encoded data removed]",
      "text/plain": [
       "<Figure size 432x288 with 1 Axes>"
      ]
     },
     "metadata": {
      "needs_background": "light"
     },
     "output_type": "display_data"
    }
   ],
   "source": [
    "print_graphs()"
   ]
  },
  {
   "cell_type": "markdown",
   "id": "5c8e310b",
   "metadata": {},
   "source": [
    "## Parte 2"
   ]
  },
  {
   "cell_type": "code",
   "execution_count": 19,
   "id": "6186492b",
   "metadata": {},
   "outputs": [],
   "source": [
    "def h_vec(x, theta):\n",
    "    return np.dot(x, theta)"
   ]
  },
  {
   "cell_type": "code",
   "execution_count": 20,
   "id": "27b6e948",
   "metadata": {},
   "outputs": [
    {
     "name": "stdout",
     "output_type": "stream",
     "text": [
      "[340412.65957003 109446.84000912  -6577.39839364]\n"
     ]
    },
    {
     "data": {
      "text/plain": [
       "293081.67470441805"
      ]
     },
     "execution_count": 20,
     "metadata": {},
     "output_type": "execute_result"
    },
    {
     "data": {
      "image/png": "[encoded data removed]",
      "text/plain": [
       "<Figure size 432x288 with 1 Axes>"
      ]
     },
     "metadata": {
      "needs_background": "light"
     },
     "output_type": "display_data"
    }
   ],
   "source": [
    "datos = load_csv('ex1data2.csv')\n",
    "X = datos[:, :-1]\n",
    "np.shape(X)         # (97, 1)\n",
    "Y = datos[:, -1]\n",
    "np.shape(Y)         # (97,)\n",
    "m = np.shape(X)[0]\n",
    "n = np.shape(X)[1]\n",
    "# añadimos una columna de 1's a la X\n",
    "Means = list()\n",
    "Std = list()\n",
    "for i in range(n):\n",
    "    Means.append(np.mean(X[:,i]))\n",
    "    Std.append(np.std(X[:,i]))\n",
    "    X[:,i] = (X[:,i]-np.mean(X[:,i]))/np.std(X[:,i])\n",
    "\n",
    "X = np.hstack([np.ones([m, 1]), X])\n",
    "#Y = (Y-np.mean(Y))/np.std(Y)\n",
    "alpha = 0.005\n",
    "Thetas, costes = descenso_gradiente(X, Y, alpha)\n",
    "print(Thetas)\n",
    "\n",
    "h_vec([1,(1650-Means[0])/Std[0] ,(3-Means[1])/Std[1]], Thetas)\n"
   ]
  },
  {
   "cell_type": "code",
   "execution_count": 21,
   "id": "a4f7cc37",
   "metadata": {},
   "outputs": [
    {
     "data": {
      "text/plain": [
       "293081.4643349892"
      ]
     },
     "execution_count": 21,
     "metadata": {},
     "output_type": "execute_result"
    }
   ],
   "source": [
    "datos = load_csv('ex1data2.csv')\n",
    "X = datos[:, :-1]\n",
    "np.shape(X)         # (97, 1)\n",
    "Y = datos[:, -1]\n",
    "np.shape(Y)         # (97,)\n",
    "m = np.shape(X)[0]\n",
    "n = np.shape(X)[1]\n",
    "# añadimos una columna de 1's a la X\n",
    "\n",
    "\n",
    "#for i in range(len(X[0])):\n",
    " #   X[:,i] = (X[:,i]-np.mean(X[:,i]))/np.std(X[:,i])\n",
    "\n",
    "#Y = (Y-np.mean(Y))/np.std(Y)\n",
    "X = np.hstack([np.ones([m, 1]), X])\n",
    "\n",
    "func_transpose(X,Y)\n",
    "\n",
    "h_vec([1,1650,3], func_transpose(X,Y))"
   ]
  },
  {
   "cell_type": "code",
   "execution_count": 22,
   "id": "7c9c4424",
   "metadata": {},
   "outputs": [],
   "source": [
    "def func_transpose(X, Y):\n",
    "    #Realizamos la traspuesta Xt\n",
    "    transpuesta_x = np.transpose(X)\n",
    "    #Psudo inversa de una matriz (XtX)^-1\n",
    "    inverse_matrix = np.linalg.pinv(np.dot(transpuesta_x, X))\n",
    "    #(XtX)^-1 Xt\n",
    "    second_mul = np.dot(inverse_matrix, transpuesta_x)\n",
    "    #(XtX)^-1 Xt Y\n",
    "    y_mul = np.dot(second_mul, Y)\n",
    "    \n",
    "    return y_mul\n"
   ]
  },
  {
   "cell_type": "code",
   "execution_count": 23,
   "id": "85a5cecd",
   "metadata": {},
   "outputs": [],
   "source": [
    "def coste(X, Y, Theta):\n",
    "    H = np.dot(X, Theta)\n",
    "    Aux = (H - Y) ** 2\n",
    "    return Aux.sum() / (2 * len(X))"
   ]
  },
  {
   "cell_type": "code",
   "execution_count": 24,
   "id": "1845f8b2",
   "metadata": {},
   "outputs": [],
   "source": [
    "def descenso_gradiente(X, Y, alpha):\n",
    "    m = np.shape(X)[0]\n",
    "    n = np.shape(X)[1]\n",
    "    thetas = np.zeros(n)\n",
    "    costes = list()\n",
    "    for i in range(5000):\n",
    "        #NuevaTheta = thetas\n",
    "        Aux = (h_vec(X, thetas) - Y)\n",
    "        #for i in range(n):\n",
    "         #   Aux_i = np.sum(Aux * X[:, i])\n",
    "         #   NuevaTheta -= (alpha / m) * Aux_i\n",
    "        sum_x = np.dot(Aux, X)\n",
    "        thetas -= (alpha / m) * sum_x   \n",
    "        #thetas = NuevaTheta\n",
    "        #sum_x = list()\n",
    "        \n",
    "        #Aux = (h_vec(X, thetas) - Y)\n",
    "        #print(Aux)\n",
    "        #for j in range(len(X[0])):\n",
    "         #   sum_x.append(np.sum(Aux * X[:,j]))\n",
    "            \n",
    "        #sum_x = (alpha/m)*np.array(sum_x)\n",
    "        #thetas = np.subtract(thetas, sum_x)\n",
    "        costes.append(coste(X, Y, thetas))\n",
    "        \n",
    "    plt.plot(costes)\n",
    "    plt.show\n",
    "    \n",
    "    return thetas, costes"
   ]
  },
  {
   "cell_type": "code",
   "execution_count": 25,
   "id": "4ef396e0",
   "metadata": {},
   "outputs": [],
   "source": [
    "def lineal_regresion_multiple_variable():\n",
    "    data = load_csv('ex1data1.csv')\n",
    "    \n",
    "    #Primera Columna\n",
    "    X = data[:,0]\n",
    "    #Segunda Columna\n",
    "    Y = data[:,1]\n",
    "    \n",
    "    # Numero de ejemplos de entrenamiento\n",
    "    m = len(X)\n",
    "    #Tamanho inicial de los saltos\n",
    "    alpha = 0.01\n",
    "    #Inicializacion de los valores de theta0 y theta1\n",
    "    theta0 = theta1 = 0\n",
    "\n",
    "    \n",
    "    \n",
    "    #plt.plot(coste)\n",
    "    #plt.show\n",
    "    return [theta0, theta1, coste]"
   ]
  },
  {
   "cell_type": "code",
   "execution_count": 26,
   "id": "5ac52715",
   "metadata": {},
   "outputs": [
    {
     "data": {
      "text/plain": [
       "array([[ 0.00000000e+00,  1.31415422e-01, -2.26093368e-01],\n",
       "       [ 0.00000000e+00, -5.09640698e-01, -2.26093368e-01],\n",
       "       [ 0.00000000e+00,  5.07908699e-01, -2.26093368e-01],\n",
       "       [ 0.00000000e+00, -7.43677059e-01, -1.55439190e+00],\n",
       "       [ 0.00000000e+00,  1.27107075e+00,  1.10220517e+00],\n",
       "       [ 0.00000000e+00, -1.99450507e-02,  1.10220517e+00],\n",
       "       [ 0.00000000e+00, -5.93588523e-01, -2.26093368e-01],\n",
       "       [ 0.00000000e+00, -7.29685755e-01, -2.26093368e-01],\n",
       "       [ 0.00000000e+00, -7.89466782e-01, -2.26093368e-01],\n",
       "       [ 0.00000000e+00, -6.44465993e-01, -2.26093368e-01],\n",
       "       [ 0.00000000e+00, -7.71822042e-02,  1.10220517e+00],\n",
       "       [ 0.00000000e+00, -8.65999486e-04, -2.26093368e-01],\n",
       "       [ 0.00000000e+00, -1.40779041e-01, -2.26093368e-01],\n",
       "       [ 0.00000000e+00,  3.15099326e+00,  2.43050370e+00],\n",
       "       [ 0.00000000e+00, -9.31923697e-01, -2.26093368e-01],\n",
       "       [ 0.00000000e+00,  3.80715024e-01,  1.10220517e+00],\n",
       "       [ 0.00000000e+00, -8.65782986e-01, -1.55439190e+00],\n",
       "       [ 0.00000000e+00, -9.72625673e-01, -2.26093368e-01],\n",
       "       [ 0.00000000e+00,  7.73743478e-01,  1.10220517e+00],\n",
       "       [ 0.00000000e+00,  1.31050078e+00,  1.10220517e+00],\n",
       "       [ 0.00000000e+00, -2.97227261e-01, -2.26093368e-01],\n",
       "       [ 0.00000000e+00, -1.43322915e-01, -1.55439190e+00],\n",
       "       [ 0.00000000e+00, -5.04552951e-01, -2.26093368e-01],\n",
       "       [ 0.00000000e+00, -4.91995958e-02,  1.10220517e+00],\n",
       "       [ 0.00000000e+00,  2.40309445e+00, -2.26093368e-01],\n",
       "       [ 0.00000000e+00, -1.14560907e+00, -2.26093368e-01],\n",
       "       [ 0.00000000e+00, -6.90255715e-01, -2.26093368e-01],\n",
       "       [ 0.00000000e+00,  6.68172729e-01, -2.26093368e-01],\n",
       "       [ 0.00000000e+00,  2.53521350e-01, -2.26093368e-01],\n",
       "       [ 0.00000000e+00,  8.09357707e-01, -2.26093368e-01],\n",
       "       [ 0.00000000e+00, -2.05647815e-01, -1.55439190e+00],\n",
       "       [ 0.00000000e+00, -1.27280274e+00, -2.88269044e+00],\n",
       "       [ 0.00000000e+00,  5.00114703e-02,  1.10220517e+00],\n",
       "       [ 0.00000000e+00,  1.44532608e+00, -2.26093368e-01],\n",
       "       [ 0.00000000e+00, -2.41262044e-01,  1.10220517e+00],\n",
       "       [ 0.00000000e+00, -7.16966387e-01, -2.26093368e-01],\n",
       "       [ 0.00000000e+00, -9.68809863e-01, -2.26093368e-01],\n",
       "       [ 0.00000000e+00,  1.67029651e-01,  1.10220517e+00],\n",
       "       [ 0.00000000e+00,  2.81647389e+00,  1.10220517e+00],\n",
       "       [ 0.00000000e+00,  2.05187753e-01,  1.10220517e+00],\n",
       "       [ 0.00000000e+00, -4.28236746e-01, -1.55439190e+00],\n",
       "       [ 0.00000000e+00,  3.01854946e-01, -2.26093368e-01],\n",
       "       [ 0.00000000e+00,  7.20322135e-01,  1.10220517e+00],\n",
       "       [ 0.00000000e+00, -1.01841540e+00, -2.26093368e-01],\n",
       "       [ 0.00000000e+00, -1.46104938e+00, -1.55439190e+00],\n",
       "       [ 0.00000000e+00, -1.89112638e-01,  1.10220517e+00],\n",
       "       [ 0.00000000e+00, -1.01459959e+00, -2.26093368e-01]])"
      ]
     },
     "execution_count": 26,
     "metadata": {},
     "output_type": "execute_result"
    }
   ],
   "source": [
    "from sklearn.preprocessing import StandardScaler\n",
    "\n",
    "# Transformamos las variables de entrada\n",
    "scaler_x = StandardScaler()\n",
    "scaler_x.fit(X)\n",
    "airbnb_data_scaled=scaler_x.transform(X)\n",
    "\n",
    "airbnb_data_scaled"
   ]
  },
  {
   "cell_type": "code",
   "execution_count": null,
   "id": "a5cde112",
   "metadata": {},
   "outputs": [],
   "source": []
  }
 ],
 "metadata": {
  "kernelspec": {
   "display_name": "Python 3 (ipykernel)",
   "language": "python",
   "name": "python3"
  },
  "language_info": {
   "codemirror_mode": {
    "name": "ipython",
    "version": 3
   },
   "file_extension": ".py",
   "mimetype": "text/x-python",
   "name": "python",
   "nbconvert_exporter": "python",
   "pygments_lexer": "ipython3",
   "version": "3.9.7"
  }
 },
 "nbformat": 4,
 "nbformat_minor": 5
}
