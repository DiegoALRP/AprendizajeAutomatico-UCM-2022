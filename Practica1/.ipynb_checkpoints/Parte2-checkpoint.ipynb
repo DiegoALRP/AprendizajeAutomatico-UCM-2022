{
 "cells": [
  {
   "cell_type": "code",
   "execution_count": 1,
   "id": "e08bbb65",
   "metadata": {},
   "outputs": [],
   "source": [
    "#Imports\n",
    "import numpy as np\n",
    "from pandas.io.parsers import read_csv\n",
    "import matplotlib.pyplot as plt\n",
    "from mpl_toolkits.mplot3d import Axes3D\n",
    "from matplotlib import cm"
   ]
  },
  {
   "cell_type": "code",
   "execution_count": 2,
   "id": "e29ecfa2",
   "metadata": {},
   "outputs": [],
   "source": [
    "#Funcion que carga los datos\n",
    "def load_csv(filename):\n",
    "    valores = read_csv (filename, header=None).to_numpy()\n",
    "    return valores.astype(float)"
   ]
  },
  {
   "cell_type": "code",
   "execution_count": 3,
   "id": "65ef8d62",
   "metadata": {},
   "outputs": [],
   "source": [
    "#Funcion de la Hipotesis\n",
    "def h_vec(x, theta):\n",
    "    return np.dot(x, theta)"
   ]
  },
  {
   "cell_type": "code",
   "execution_count": 4,
   "id": "d546ea2f",
   "metadata": {},
   "outputs": [],
   "source": [
    "# Funcion de coste\n",
    "def coste(X, Y, Theta):\n",
    "    H = np.dot(X, Theta)\n",
    "    return (1/(2 * len(X)))*np.dot(np.transpose(H-Y),(H-Y))"
   ]
  },
  {
   "cell_type": "code",
   "execution_count": 5,
   "id": "52e3dfe5",
   "metadata": {},
   "outputs": [],
   "source": [
    "#Funcion que normaliza unos datos de entrada\n",
    "#Devuelve los datos normalizados junto con la media y la desviacion estandar\n",
    "def norm(X, n):\n",
    "    X_norm = np.copy(X)\n",
    "    means = []\n",
    "    std = []\n",
    "    for i in range(n):\n",
    "        means.append(np.mean(X[:,i]))\n",
    "        std.append(np.std(X[:,i]))\n",
    "        X_norm[:,i] = (X[:,i]-np.mean(X[:,i]))/np.std(X[:,i])\n",
    "        \n",
    "    return X_norm, means, std"
   ]
  },
  {
   "cell_type": "code",
   "execution_count": 6,
   "id": "6952144e",
   "metadata": {},
   "outputs": [],
   "source": [
    "#Funcion de descenso de gradiente \n",
    "def descenso_gradiente(X, Y, alpha):\n",
    "    \n",
    "    #Obtencion de los valores m y n\n",
    "    m = np.shape(X)[0]\n",
    "    n = np.shape(X)[1]\n",
    "    #Inicializacion de las thetas a 0\n",
    "    thetas = np.zeros(n)\n",
    "    \n",
    "    #Realizacion de 1500 iteraciones\n",
    "    costes = list()\n",
    "    for i in range(1500):\n",
    "        \n",
    "        #Vector de differencia entre la función con la Thetas de esta iteración y los valores reales Y\n",
    "        Aux = (h_vec(X, thetas) - Y)\n",
    "        \n",
    "        sum_x = np.dot(Aux, X)\n",
    "        thetas -= (alpha / m) * sum_x   \n",
    "        \n",
    "        #Guardamos el valor de la función de coste de cada iteración\n",
    "        costes.append(coste(X, Y, thetas))\n",
    "        \n",
    "    plt.plot(costes)\n",
    "    plt.xlabel('Iteraciones'); plt.ylabel(\"J($\\\\theta_{0}$,$\\\\theta_{1}$)\")\n",
    "    plt.savefig(\"part2_costes.png\")\n",
    "    plt.show\n",
    "    \n",
    "    return thetas, costes"
   ]
  },
  {
   "cell_type": "code",
   "execution_count": 7,
   "id": "79082c4f",
   "metadata": {},
   "outputs": [],
   "source": [
    "def linear_regresion_multiple_variables():\n",
    "    data = load_csv('ex1data1.csv')\n",
    "\n",
    "    #Carga de los datos\n",
    "    datos = load_csv('ex1data2.csv')\n",
    "    \n",
    "    #Obtencion de todas las columnas de la tabla menos la ultima columna\n",
    "    X = datos[:, :-1]\n",
    "    np.shape(X)         # (97, 1)\n",
    "    #Obtencion de la ultima columna de la tabla\n",
    "    Y = datos[:, -1]\n",
    "    np.shape(Y)         # (97,)\n",
    "    \n",
    "    #Obtencion de los valores m y n\n",
    "    m = np.shape(X)[0]\n",
    "    n = np.shape(X)[1]\n",
    "    \n",
    "    #Normalizamos los datos de entrada\n",
    "    res = norm(X, n)\n",
    "    \n",
    "    X = res[0]\n",
    "    means = res[1]\n",
    "    std = res[2]\n",
    "    \n",
    "    # añadimos una columna de 1's a la X\n",
    "    X = np.hstack([np.ones([m, 1]), X])\n",
    "    \n",
    "    #Llamada a la funcion de descenso de gradiente\n",
    "    alpha = 0.005\n",
    "    Thetas, costes = descenso_gradiente(X, Y, alpha)\n",
    "    print(Thetas)\n",
    "\n",
    "    #ejemplo\n",
    "    #ejemplo = h_vec([1,(1650-Means[0])/Std[0] ,(3-Means[1])/Std[1]], Thetas)\n",
    "\n",
    "    return [Thetas[0], Thetas[1], coste]"
   ]
  },
  {
   "cell_type": "code",
   "execution_count": 8,
   "id": "6cac99b4",
   "metadata": {},
   "outputs": [
    {
     "name": "stderr",
     "output_type": "stream",
     "text": [
      "/var/folders/5g/32qmkgbs0ynf64vm8b185ky40000gn/T/ipykernel_1320/2928821790.py:18: RuntimeWarning: invalid value encountered in subtract\n",
      "  thetas -= (alpha / m) * sum_x\n"
     ]
    },
    {
     "name": "stdout",
     "output_type": "stream",
     "text": [
      "[nan nan nan]\n"
     ]
    },
    {
     "data": {
      "text/plain": [
       "[nan, nan, <function __main__.coste(X, Y, Theta)>]"
      ]
     },
     "execution_count": 8,
     "metadata": {},
     "output_type": "execute_result"
    },
    {
     "data": {
      "image/png": "[encoded data removed]",
      "text/plain": [
       "<Figure size 432x288 with 1 Axes>"
      ]
     },
     "metadata": {
      "needs_background": "light"
     },
     "output_type": "display_data"
    }
   ],
   "source": [
    "linear_regresion_multiple_variables()"
   ]
  },
  {
   "cell_type": "code",
   "execution_count": null,
   "id": "9408638f",
   "metadata": {},
   "outputs": [],
   "source": []
  }
 ],
 "metadata": {
  "kernelspec": {
   "display_name": "Python 3 (ipykernel)",
   "language": "python",
   "name": "python3"
  },
  "language_info": {
   "codemirror_mode": {
    "name": "ipython",
    "version": 3
   },
   "file_extension": ".py",
   "mimetype": "text/x-python",
   "name": "python",
   "nbconvert_exporter": "python",
   "pygments_lexer": "ipython3",
   "version": "3.9.7"
  }
 },
 "nbformat": 4,
 "nbformat_minor": 5
}
