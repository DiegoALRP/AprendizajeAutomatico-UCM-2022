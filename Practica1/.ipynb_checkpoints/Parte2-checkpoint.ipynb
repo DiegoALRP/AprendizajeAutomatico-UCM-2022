{
 "cells": [
  {
   "cell_type": "code",
   "execution_count": 1,
   "id": "e08bbb65",
   "metadata": {},
   "outputs": [],
   "source": [
    "#Imports\n",
    "import numpy as np\n",
    "from pandas.io.parsers import read_csv\n",
    "import matplotlib.pyplot as plt\n",
    "from mpl_toolkits.mplot3d import Axes3D\n",
    "from matplotlib import cm"
   ]
  },
  {
   "cell_type": "code",
   "execution_count": 2,
   "id": "e29ecfa2",
   "metadata": {},
   "outputs": [],
   "source": [
    "def load_csv(filename):\n",
    "    valores = read_csv (filename, header=None).to_numpy()\n",
    "    return valores.astype(float)"
   ]
  },
  {
   "cell_type": "code",
   "execution_count": 3,
   "id": "65ef8d62",
   "metadata": {},
   "outputs": [],
   "source": [
    "def h_vec(x, theta):\n",
    "    return np.dot(x, theta)"
   ]
  },
  {
   "cell_type": "code",
   "execution_count": 4,
   "id": "6f2a86f8",
   "metadata": {},
   "outputs": [],
   "source": [
    "def coste(X, Y, Theta):\n",
    "    H = np.dot(X, Theta)\n",
    "    Aux = (H - Y) ** 2\n",
    "    return Aux.sum() / (2 * len(X))"
   ]
  },
  {
   "cell_type": "code",
   "execution_count": 5,
   "id": "fb87e43b",
   "metadata": {},
   "outputs": [],
   "source": [
    "def descenso_gradiente(X, Y, alpha):\n",
    "    m = np.shape(X)[0]\n",
    "    n = np.shape(X)[1]\n",
    "    thetas = np.zeros(n)\n",
    "    costes = list()\n",
    "    for i in range(5000):\n",
    "        #NuevaTheta = thetas\n",
    "        Aux = (h_vec(X, thetas) - Y)\n",
    "        #for i in range(n):\n",
    "         #   Aux_i = np.sum(Aux * X[:, i])\n",
    "         #   NuevaTheta -= (alpha / m) * Aux_i\n",
    "        sum_x = np.dot(Aux, X)\n",
    "        thetas -= (alpha / m) * sum_x   \n",
    "        #thetas = NuevaTheta\n",
    "        #sum_x = list()\n",
    "        \n",
    "        #Aux = (h_vec(X, thetas) - Y)\n",
    "        #print(Aux)\n",
    "        #for j in range(len(X[0])):\n",
    "         #   sum_x.append(np.sum(Aux * X[:,j]))\n",
    "            \n",
    "        #sum_x = (alpha/m)*np.array(sum_x)\n",
    "        #thetas = np.subtract(thetas, sum_x)\n",
    "        costes.append(coste(X, Y, thetas))\n",
    "        \n",
    "    plt.plot(costes)\n",
    "    plt.show\n",
    "    \n",
    "    return thetas, costes"
   ]
  },
  {
   "cell_type": "code",
   "execution_count": 6,
   "id": "5892d56f",
   "metadata": {},
   "outputs": [
    {
     "name": "stdout",
     "output_type": "stream",
     "text": [
      "[340412.65957003 109446.84000912  -6577.39839364]\n"
     ]
    },
    {
     "data": {
      "text/plain": [
       "293081.67470441805"
      ]
     },
     "execution_count": 6,
     "metadata": {},
     "output_type": "execute_result"
    },
    {
     "data": {
      "image/png": "[encoded data removed]",
      "text/plain": [
       "<Figure size 432x288 with 1 Axes>"
      ]
     },
     "metadata": {
      "needs_background": "light"
     },
     "output_type": "display_data"
    }
   ],
   "source": [
    "datos = load_csv('ex1data2.csv')\n",
    "X = datos[:, :-1]\n",
    "np.shape(X)         # (97, 1)\n",
    "Y = datos[:, -1]\n",
    "np.shape(Y)         # (97,)\n",
    "m = np.shape(X)[0]\n",
    "n = np.shape(X)[1]\n",
    "# añadimos una columna de 1's a la X\n",
    "Means = list()\n",
    "Std = list()\n",
    "for i in range(n):\n",
    "    Means.append(np.mean(X[:,i]))\n",
    "    Std.append(np.std(X[:,i]))\n",
    "    X[:,i] = (X[:,i]-np.mean(X[:,i]))/np.std(X[:,i])\n",
    "\n",
    "X = np.hstack([np.ones([m, 1]), X])\n",
    "#Y = (Y-np.mean(Y))/np.std(Y)\n",
    "alpha = 0.005\n",
    "Thetas, costes = descenso_gradiente(X, Y, alpha)\n",
    "print(Thetas)\n",
    "\n",
    "h_vec([1,(1650-Means[0])/Std[0] ,(3-Means[1])/Std[1]], Thetas)\n",
    "\n"
   ]
  },
  {
   "cell_type": "code",
   "execution_count": 7,
   "id": "2463584e",
   "metadata": {},
   "outputs": [],
   "source": [
    "def func_transpose(X, Y):\n",
    "    #Realizamos la traspuesta Xt\n",
    "    transpuesta_x = np.transpose(X)\n",
    "    #Psudo inversa de una matriz (XtX)^-1\n",
    "    inverse_matrix = np.linalg.pinv(np.dot(transpuesta_x, X))\n",
    "    #(XtX)^-1 Xt\n",
    "    second_mul = np.dot(inverse_matrix, transpuesta_x)\n",
    "    #(XtX)^-1 Xt Y\n",
    "    y_mul = np.dot(second_mul, Y)\n",
    "    \n",
    "    return y_mul"
   ]
  },
  {
   "cell_type": "code",
   "execution_count": 8,
   "id": "1e302df3",
   "metadata": {},
   "outputs": [
    {
     "data": {
      "text/plain": [
       "293081.46433505905"
      ]
     },
     "execution_count": 8,
     "metadata": {},
     "output_type": "execute_result"
    }
   ],
   "source": [
    "datos = load_csv('ex1data2.csv')\n",
    "X = datos[:, :-1]\n",
    "np.shape(X)         # (97, 1)\n",
    "Y = datos[:, -1]\n",
    "np.shape(Y)         # (97,)\n",
    "m = np.shape(X)[0]\n",
    "n = np.shape(X)[1]\n",
    "# añadimos una columna de 1's a la X\n",
    "\n",
    "\n",
    "#for i in range(len(X[0])):\n",
    " #   X[:,i] = (X[:,i]-np.mean(X[:,i]))/np.std(X[:,i])\n",
    "\n",
    "#Y = (Y-np.mean(Y))/np.std(Y)\n",
    "X = np.hstack([np.ones([m, 1]), X])\n",
    "\n",
    "func_transpose(X,Y)\n",
    "\n",
    "h_vec([1,1650,3], func_transpose(X,Y))"
   ]
  },
  {
   "cell_type": "code",
   "execution_count": 9,
   "id": "e08db047",
   "metadata": {},
   "outputs": [],
   "source": [
    "def lineal_regresion_multiple_variable():\n",
    "    data = load_csv('ex1data1.csv')\n",
    "    \n",
    "    #Primera Columna\n",
    "    X = data[:,0]\n",
    "    #Segunda Columna\n",
    "    Y = data[:,1]\n",
    "    \n",
    "    # Numero de ejemplos de entrenamiento\n",
    "    m = len(X)\n",
    "    #Tamanho inicial de los saltos\n",
    "    alpha = 0.01\n",
    "    #Inicializacion de los valores de theta0 y theta1\n",
    "    theta0 = theta1 = 0\n",
    "\n",
    "    \n",
    "    \n",
    "    #plt.plot(coste)\n",
    "    #plt.show\n",
    "    return [theta0, theta1, coste]"
   ]
  },
  {
   "cell_type": "code",
   "execution_count": 10,
   "id": "6cac99b4",
   "metadata": {},
   "outputs": [
    {
     "ename": "NameError",
     "evalue": "name 'linear_regresion_multiple_variables' is not defined",
     "output_type": "error",
     "traceback": [
      "\u001b[0;31m---------------------------------------------------------------------------\u001b[0m",
      "\u001b[0;31mNameError\u001b[0m                                 Traceback (most recent call last)",
      "\u001b[0;32m/var/folders/5g/32qmkgbs0ynf64vm8b185ky40000gn/T/ipykernel_4362/3150900719.py\u001b[0m in \u001b[0;36m<module>\u001b[0;34m\u001b[0m\n\u001b[0;32m----> 1\u001b[0;31m \u001b[0mlinear_regresion_multiple_variables\u001b[0m\u001b[0;34m(\u001b[0m\u001b[0;34m)\u001b[0m\u001b[0;34m\u001b[0m\u001b[0;34m\u001b[0m\u001b[0m\n\u001b[0m",
      "\u001b[0;31mNameError\u001b[0m: name 'linear_regresion_multiple_variables' is not defined"
     ]
    }
   ],
   "source": [
    "linear_regresion_multiple_variable()"
   ]
  },
  {
   "cell_type": "code",
   "execution_count": null,
   "id": "9408638f",
   "metadata": {},
   "outputs": [],
   "source": []
  }
 ],
 "metadata": {
  "kernelspec": {
   "display_name": "Python 3 (ipykernel)",
   "language": "python",
   "name": "python3"
  },
  "language_info": {
   "codemirror_mode": {
    "name": "ipython",
    "version": 3
   },
   "file_extension": ".py",
   "mimetype": "text/x-python",
   "name": "python",
   "nbconvert_exporter": "python",
   "pygments_lexer": "ipython3",
   "version": "3.9.7"
  }
 },
 "nbformat": 4,
 "nbformat_minor": 5
}
