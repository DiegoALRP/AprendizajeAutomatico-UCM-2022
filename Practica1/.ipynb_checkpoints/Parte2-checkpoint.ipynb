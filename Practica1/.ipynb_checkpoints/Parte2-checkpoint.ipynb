{
 "cells": [
  {
   "cell_type": "code",
   "execution_count": 3,
   "id": "32eb10f5",
   "metadata": {},
   "outputs": [],
   "source": [
    "import numpy as np\n",
    "from numpy.core.fromnumeric import transpose\n",
    "from numpy.core.numeric import empty_like\n",
    "from pandas.io.parsers import read_csv\n",
    "import matplotlib.pyplot as plt"
   ]
  },
  {
   "cell_type": "code",
   "execution_count": 4,
   "id": "6d38d978",
   "metadata": {},
   "outputs": [],
   "source": [
    "def load_csv(filename):\n",
    "    valores = read_csv (filename, header=None).to_numpy()\n",
    "    return valores.astype(float)"
   ]
  },
  {
   "cell_type": "code",
   "execution_count": 5,
   "id": "1d6a3934",
   "metadata": {},
   "outputs": [],
   "source": [
    "def draw(coste, alpha):\n",
    "    plt.figure()\n",
    "    ite = 1500\n",
    "    x = np.linspace(0, ite, ite, endpoint = True)\n",
    "    plt.plot(x, coste)\n",
    "    plt.savefig(str(alpha)+'.png')\n",
    "    plt.show()"
   ]
  },
  {
   "cell_type": "code",
   "execution_count": 6,
   "id": "db4f885d",
   "metadata": {},
   "outputs": [],
   "source": [
    "def feature_scaling(matriz):\n",
    "    matriz_normalized = np.empty_like(matriz)\n",
    "\n",
    "    u = np.mean(matriz, axis=0)\n",
    "    s = np.std(matriz, axis=0)\n",
    "    print('Media: ' + str(u))\n",
    "    print('Desv: ' + str(s))\n",
    "\n",
    "    matriz_normalized = (matriz - u) / s\n",
    "\n",
    "    return [matriz_normalized, u, s]"
   ]
  },
  {
   "cell_type": "code",
   "execution_count": 9,
   "id": "db67c770",
   "metadata": {},
   "outputs": [],
   "source": [
    "def linear_regresion_multiple_variables(alpha = 0.01):\n",
    "    data = load_csv('ex1data2.csv')\n",
    "\n",
    "    X = data[:, :-1]\n",
    "    Y = data[:, -1]\n",
    "\n",
    "    m = np.shape(X)[0]\n",
    "    n = np.shape(X)[1]\n",
    "    \n",
    "    #Normalizamos la matriz X\n",
    "    X_normal = feature_scaling(X)\n",
    "    #Añadimos una columna de 1's\n",
    "    X_normal[0] = np.hstack([np.ones([m, 1]), X_normal[0]])\n",
    "\n",
    "    #Aplicamos el descenso del gradiente\n",
    "    Theta, Costes = descenso_gradiente(X_normal[0],Y,alpha)\n",
    "    \n",
    "    return Theta, X_normal"
   ]
  },
  {
   "cell_type": "code",
   "execution_count": 10,
   "id": "9d68978c",
   "metadata": {},
   "outputs": [
    {
     "name": "stdout",
     "output_type": "stream",
     "text": [
      "Media: [2000.68085106    3.17021277]\n",
      "Desv: [7.86202619e+02 7.52842809e-01]\n"
     ]
    },
    {
     "ename": "NameError",
     "evalue": "name 'matriz_normal' is not defined",
     "output_type": "error",
     "traceback": [
      "\u001b[0;31m---------------------------------------------------------------------------\u001b[0m",
      "\u001b[0;31mNameError\u001b[0m                                 Traceback (most recent call last)",
      "\u001b[0;32m/var/folders/5g/32qmkgbs0ynf64vm8b185ky40000gn/T/ipykernel_2120/3150900719.py\u001b[0m in \u001b[0;36m<module>\u001b[0;34m\u001b[0m\n\u001b[0;32m----> 1\u001b[0;31m \u001b[0mlinear_regresion_multiple_variables\u001b[0m\u001b[0;34m(\u001b[0m\u001b[0;34m)\u001b[0m\u001b[0;34m\u001b[0m\u001b[0;34m\u001b[0m\u001b[0m\n\u001b[0m",
      "\u001b[0;32m/var/folders/5g/32qmkgbs0ynf64vm8b185ky40000gn/T/ipykernel_2120/1171274329.py\u001b[0m in \u001b[0;36mlinear_regresion_multiple_variables\u001b[0;34m(alpha)\u001b[0m\n\u001b[1;32m      9\u001b[0m \u001b[0;34m\u001b[0m\u001b[0m\n\u001b[1;32m     10\u001b[0m     \u001b[0;31m#Normalizamos la matriz X\u001b[0m\u001b[0;34m\u001b[0m\u001b[0;34m\u001b[0m\u001b[0m\n\u001b[0;32m---> 11\u001b[0;31m     \u001b[0mX_normal\u001b[0m \u001b[0;34m=\u001b[0m \u001b[0mfeature_scaling\u001b[0m\u001b[0;34m(\u001b[0m\u001b[0mX\u001b[0m\u001b[0;34m)\u001b[0m\u001b[0;34m\u001b[0m\u001b[0;34m\u001b[0m\u001b[0m\n\u001b[0m\u001b[1;32m     12\u001b[0m     \u001b[0;31m#Añadimos una columna de 1's\u001b[0m\u001b[0;34m\u001b[0m\u001b[0;34m\u001b[0m\u001b[0m\n\u001b[1;32m     13\u001b[0m     \u001b[0mX_normal\u001b[0m\u001b[0;34m[\u001b[0m\u001b[0;36m0\u001b[0m\u001b[0;34m]\u001b[0m \u001b[0;34m=\u001b[0m \u001b[0mnp\u001b[0m\u001b[0;34m.\u001b[0m\u001b[0mhstack\u001b[0m\u001b[0;34m(\u001b[0m\u001b[0;34m[\u001b[0m\u001b[0mnp\u001b[0m\u001b[0;34m.\u001b[0m\u001b[0mones\u001b[0m\u001b[0;34m(\u001b[0m\u001b[0;34m[\u001b[0m\u001b[0mm\u001b[0m\u001b[0;34m,\u001b[0m \u001b[0;36m1\u001b[0m\u001b[0;34m]\u001b[0m\u001b[0;34m)\u001b[0m\u001b[0;34m,\u001b[0m \u001b[0mX_normal\u001b[0m\u001b[0;34m[\u001b[0m\u001b[0;36m0\u001b[0m\u001b[0;34m]\u001b[0m\u001b[0;34m]\u001b[0m\u001b[0;34m)\u001b[0m\u001b[0;34m\u001b[0m\u001b[0;34m\u001b[0m\u001b[0m\n",
      "\u001b[0;32m/var/folders/5g/32qmkgbs0ynf64vm8b185ky40000gn/T/ipykernel_2120/1949660222.py\u001b[0m in \u001b[0;36mfeature_scaling\u001b[0;34m(matriz)\u001b[0m\n\u001b[1;32m      9\u001b[0m     \u001b[0mmatriz_normalized\u001b[0m \u001b[0;34m=\u001b[0m \u001b[0;34m(\u001b[0m\u001b[0mmatriz\u001b[0m \u001b[0;34m-\u001b[0m \u001b[0mu\u001b[0m\u001b[0;34m)\u001b[0m \u001b[0;34m/\u001b[0m \u001b[0ms\u001b[0m\u001b[0;34m\u001b[0m\u001b[0;34m\u001b[0m\u001b[0m\n\u001b[1;32m     10\u001b[0m \u001b[0;34m\u001b[0m\u001b[0m\n\u001b[0;32m---> 11\u001b[0;31m     \u001b[0;32mreturn\u001b[0m \u001b[0;34m[\u001b[0m\u001b[0mmatriz_normal\u001b[0m\u001b[0;34m,\u001b[0m \u001b[0mu\u001b[0m\u001b[0;34m,\u001b[0m \u001b[0ms\u001b[0m\u001b[0;34m]\u001b[0m\u001b[0;34m\u001b[0m\u001b[0;34m\u001b[0m\u001b[0m\n\u001b[0m",
      "\u001b[0;31mNameError\u001b[0m: name 'matriz_normal' is not defined"
     ]
    }
   ],
   "source": [
    "linear_regresion_multiple_variables()"
   ]
  },
  {
   "cell_type": "code",
   "execution_count": null,
   "id": "7149afcb",
   "metadata": {},
   "outputs": [],
   "source": []
  }
 ],
 "metadata": {
  "kernelspec": {
   "display_name": "Python 3 (ipykernel)",
   "language": "python",
   "name": "python3"
  },
  "language_info": {
   "codemirror_mode": {
    "name": "ipython",
    "version": 3
   },
   "file_extension": ".py",
   "mimetype": "text/x-python",
   "name": "python",
   "nbconvert_exporter": "python",
   "pygments_lexer": "ipython3",
   "version": "3.9.7"
  }
 },
 "nbformat": 4,
 "nbformat_minor": 5
}
