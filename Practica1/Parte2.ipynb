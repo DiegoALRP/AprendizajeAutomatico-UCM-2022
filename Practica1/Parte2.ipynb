{
 "cells": [
  {
   "cell_type": "code",
   "execution_count": 3,
   "id": "e08bbb65",
   "metadata": {},
   "outputs": [],
   "source": [
    "import numpy as np\n",
    "from numpy.core.fromnumeric import transpose\n",
    "from numpy.core.numeric import empty_like\n",
    "from pandas.io.parsers import read_csv\n",
    "import matplotlib.pyplot as plt"
   ]
  },
  {
   "cell_type": "code",
   "execution_count": 4,
   "id": "e29ecfa2",
   "metadata": {},
   "outputs": [],
   "source": [
    "def load_csv(filename):\n",
    "    valores = read_csv (filename, header=None).to_numpy()\n",
    "    return valores.astype(float)"
   ]
  },
  {
   "cell_type": "code",
   "execution_count": 5,
   "id": "65ef8d62",
   "metadata": {},
   "outputs": [],
   "source": [
    "def draw(coste, alpha):\n",
    "    plt.figure()\n",
    "    ite = 1500\n",
    "    x = np.linspace(0, ite, ite, endpoint = True)\n",
    "    plt.plot(x, coste)\n",
    "    plt.savefig(str(alpha)+'.png')\n",
    "    plt.show()"
   ]
  },
  {
   "cell_type": "code",
   "execution_count": 11,
   "id": "5892d56f",
   "metadata": {},
   "outputs": [],
   "source": [
    "def feature_scaling(matriz):\n",
    "    matriz_normalized = np.empty_like(matriz)\n",
    "\n",
    "    u = np.mean(matriz, axis=0)\n",
    "    s = np.std(matriz, axis=0)\n",
    "    print('Media: ' + str(u))\n",
    "    print('Desv: ' + str(s))\n",
    "\n",
    "    matriz_normalized = (matriz - u) / s\n",
    "\n",
    "    return [matriz_normalized, u, s]"
   ]
  },
  {
   "cell_type": "code",
   "execution_count": 25,
   "id": "1e302df3",
   "metadata": {},
   "outputs": [],
   "source": [
    "def gradient_descent(X, Y, alpha, iterations = 1500):\n",
    "    Theta = np.zeros(np.shape(X)[1]) # n+1\n",
    "    Coste = np.zeros(iterations)\n",
    "    for i in range(iterations):\n",
    "        Theta = gradient(X,Y, Theta, alpha)\n",
    "        Coste[i] = function_cost(X,Y,Theta)\n",
    "\n",
    "    return Theta, Coste"
   ]
  },
  {
   "cell_type": "code",
   "execution_count": 26,
   "id": "b8d4fdea",
   "metadata": {},
   "outputs": [],
   "source": [
    "def gradient(X, Y, Theta, alpha):\n",
    "    theta_nueva = Theta\n",
    "    m = np.shape(X)[0]\n",
    "    n = np.shape(X)[1]\n",
    "    H = np.dot(X, Theta)\n",
    "    aux = (H - Y)\n",
    "    for i in range(n):\n",
    "        aux_i = aux * X[:, i]\n",
    "        theta_nueva[i] -= (alpha / m) * aux_i.sum()\n",
    "    return theta_nueva"
   ]
  },
  {
   "cell_type": "code",
   "execution_count": 27,
   "id": "75ceb639",
   "metadata": {},
   "outputs": [],
   "source": [
    "def function_cost(X, Y, Theta):\n",
    "    H = np.dot(X, Theta)\n",
    "    aux = (H - Y)**2\n",
    "    return aux.sum() / (2 * len(X))"
   ]
  },
  {
   "cell_type": "code",
   "execution_count": 28,
   "id": "3d56ac00",
   "metadata": {},
   "outputs": [],
   "source": [
    "def linear_regresion_multiple_variables(alpha = 0.01):\n",
    "    data = load_csv('ex1data2.csv')\n",
    "\n",
    "    X = data[:, :-1]\n",
    "    Y = data[:, -1]\n",
    "\n",
    "    m = np.shape(X)[0]\n",
    "    n = np.shape(X)[1]\n",
    "    \n",
    "    #Normalizamos la matriz X\n",
    "    X_normal = feature_scaling(X)\n",
    "    #Añadimos una columna de 1's\n",
    "    X_normal[0] = np.hstack([np.ones([m, 1]), X_normal[0]])\n",
    "\n",
    "    #Aplicamos el descenso del gradiente\n",
    "    Theta, Costes = gradient_descent(X_normal[0],Y,alpha)\n",
    "    \n",
    "    return Theta, X_normal"
   ]
  },
  {
   "cell_type": "code",
   "execution_count": 29,
   "id": "6cac99b4",
   "metadata": {},
   "outputs": [
    {
     "name": "stdout",
     "output_type": "stream",
     "text": [
      "Media: [2000.68085106    3.17021277]\n",
      "Desv: [7.86202619e+02 7.52842809e-01]\n"
     ]
    },
    {
     "data": {
      "text/plain": [
       "(array([340412.56301439, 109370.05670466,  -6500.61509507]),\n",
       " [array([[ 1.00000000e+00,  1.31415422e-01, -2.26093368e-01],\n",
       "         [ 1.00000000e+00, -5.09640698e-01, -2.26093368e-01],\n",
       "         [ 1.00000000e+00,  5.07908699e-01, -2.26093368e-01],\n",
       "         [ 1.00000000e+00, -7.43677059e-01, -1.55439190e+00],\n",
       "         [ 1.00000000e+00,  1.27107075e+00,  1.10220517e+00],\n",
       "         [ 1.00000000e+00, -1.99450507e-02,  1.10220517e+00],\n",
       "         [ 1.00000000e+00, -5.93588523e-01, -2.26093368e-01],\n",
       "         [ 1.00000000e+00, -7.29685755e-01, -2.26093368e-01],\n",
       "         [ 1.00000000e+00, -7.89466782e-01, -2.26093368e-01],\n",
       "         [ 1.00000000e+00, -6.44465993e-01, -2.26093368e-01],\n",
       "         [ 1.00000000e+00, -7.71822042e-02,  1.10220517e+00],\n",
       "         [ 1.00000000e+00, -8.65999486e-04, -2.26093368e-01],\n",
       "         [ 1.00000000e+00, -1.40779041e-01, -2.26093368e-01],\n",
       "         [ 1.00000000e+00,  3.15099326e+00,  2.43050370e+00],\n",
       "         [ 1.00000000e+00, -9.31923697e-01, -2.26093368e-01],\n",
       "         [ 1.00000000e+00,  3.80715024e-01,  1.10220517e+00],\n",
       "         [ 1.00000000e+00, -8.65782986e-01, -1.55439190e+00],\n",
       "         [ 1.00000000e+00, -9.72625673e-01, -2.26093368e-01],\n",
       "         [ 1.00000000e+00,  7.73743478e-01,  1.10220517e+00],\n",
       "         [ 1.00000000e+00,  1.31050078e+00,  1.10220517e+00],\n",
       "         [ 1.00000000e+00, -2.97227261e-01, -2.26093368e-01],\n",
       "         [ 1.00000000e+00, -1.43322915e-01, -1.55439190e+00],\n",
       "         [ 1.00000000e+00, -5.04552951e-01, -2.26093368e-01],\n",
       "         [ 1.00000000e+00, -4.91995958e-02,  1.10220517e+00],\n",
       "         [ 1.00000000e+00,  2.40309445e+00, -2.26093368e-01],\n",
       "         [ 1.00000000e+00, -1.14560907e+00, -2.26093368e-01],\n",
       "         [ 1.00000000e+00, -6.90255715e-01, -2.26093368e-01],\n",
       "         [ 1.00000000e+00,  6.68172729e-01, -2.26093368e-01],\n",
       "         [ 1.00000000e+00,  2.53521350e-01, -2.26093368e-01],\n",
       "         [ 1.00000000e+00,  8.09357707e-01, -2.26093368e-01],\n",
       "         [ 1.00000000e+00, -2.05647815e-01, -1.55439190e+00],\n",
       "         [ 1.00000000e+00, -1.27280274e+00, -2.88269044e+00],\n",
       "         [ 1.00000000e+00,  5.00114703e-02,  1.10220517e+00],\n",
       "         [ 1.00000000e+00,  1.44532608e+00, -2.26093368e-01],\n",
       "         [ 1.00000000e+00, -2.41262044e-01,  1.10220517e+00],\n",
       "         [ 1.00000000e+00, -7.16966387e-01, -2.26093368e-01],\n",
       "         [ 1.00000000e+00, -9.68809863e-01, -2.26093368e-01],\n",
       "         [ 1.00000000e+00,  1.67029651e-01,  1.10220517e+00],\n",
       "         [ 1.00000000e+00,  2.81647389e+00,  1.10220517e+00],\n",
       "         [ 1.00000000e+00,  2.05187753e-01,  1.10220517e+00],\n",
       "         [ 1.00000000e+00, -4.28236746e-01, -1.55439190e+00],\n",
       "         [ 1.00000000e+00,  3.01854946e-01, -2.26093368e-01],\n",
       "         [ 1.00000000e+00,  7.20322135e-01,  1.10220517e+00],\n",
       "         [ 1.00000000e+00, -1.01841540e+00, -2.26093368e-01],\n",
       "         [ 1.00000000e+00, -1.46104938e+00, -1.55439190e+00],\n",
       "         [ 1.00000000e+00, -1.89112638e-01,  1.10220517e+00],\n",
       "         [ 1.00000000e+00, -1.01459959e+00, -2.26093368e-01]]),\n",
       "  array([2000.68085106,    3.17021277]),\n",
       "  array([7.86202619e+02, 7.52842809e-01])])"
      ]
     },
     "execution_count": 29,
     "metadata": {},
     "output_type": "execute_result"
    }
   ],
   "source": [
    "linear_regresion_multiple_variables()"
   ]
  },
  {
   "cell_type": "code",
   "execution_count": null,
   "id": "9408638f",
   "metadata": {},
   "outputs": [],
   "source": []
  }
 ],
 "metadata": {
  "kernelspec": {
   "display_name": "Python 3 (ipykernel)",
   "language": "python",
   "name": "python3"
  },
  "language_info": {
   "codemirror_mode": {
    "name": "ipython",
    "version": 3
   },
   "file_extension": ".py",
   "mimetype": "text/x-python",
   "name": "python",
   "nbconvert_exporter": "python",
   "pygments_lexer": "ipython3",
   "version": "3.9.7"
  }
 },
 "nbformat": 4,
 "nbformat_minor": 5
}
