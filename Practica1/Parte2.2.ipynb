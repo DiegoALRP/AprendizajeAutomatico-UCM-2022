{
 "cells": [
  {
   "cell_type": "code",
   "execution_count": 1,
   "id": "4a136914",
   "metadata": {},
   "outputs": [],
   "source": [
    "import numpy as np\n",
    "from numpy.core.fromnumeric import transpose\n",
    "from numpy.core.numeric import empty_like\n",
    "from pandas.io.parsers import read_csv\n",
    "import matplotlib.pyplot as plt"
   ]
  },
  {
   "cell_type": "code",
   "execution_count": 2,
   "id": "a7273a94",
   "metadata": {},
   "outputs": [],
   "source": [
    "def load_csv(filename):\n",
    "    valores = read_csv(filename, header=None).to_numpy()\n",
    "    return valores.astype(float)"
   ]
  },
  {
   "cell_type": "code",
   "execution_count": 3,
   "id": "5823d975",
   "metadata": {},
   "outputs": [],
   "source": [
    "def func_transpose(X, Y):\n",
    "    #Realizamos la traspuesta Xt\n",
    "    transpuesta_x = np.transpose(X)\n",
    "    #Psudo inversa de una matriz (XtX)^-1\n",
    "    inverse_matrix = np.linalg.pinv(np.dot(transpuesta_x, X))\n",
    "    #(XtX)^-1 Xt\n",
    "    second_mul = np.dot(inverse_matrix, transpuesta_x)\n",
    "    #(XtX)^-1 Xt Y\n",
    "    y_mul = np.dot(second_mul, Y)\n",
    "    \n",
    "    return y_mul"
   ]
  },
  {
   "cell_type": "code",
   "execution_count": 4,
   "id": "b1aebda8",
   "metadata": {},
   "outputs": [],
   "source": [
    "def linear_regresion_2_2(alpha = 0.01):\n",
    "    data = load_csv('ex1data2.csv')\n",
    "\n",
    "    #print(data)\n",
    "    \n",
    "    X = data[:, :-1]\n",
    "    Y = data[:, -1]\n",
    "\n",
    "    #print(X)\n",
    "    m = np.shape(X)[0]\n",
    "    n = np.shape(X)[1]\n",
    "    \n",
    "    #Añadimos una columna de 1's\n",
    "    X = np.hstack([np.ones([m, 1]), X])\n",
    "\n",
    "    Theta = func_transpose(X,Y)\n",
    "\n",
    "    return Theta"
   ]
  },
  {
   "cell_type": "code",
   "execution_count": 5,
   "id": "0676613a",
   "metadata": {},
   "outputs": [
    {
     "data": {
      "text/plain": [
       "array([89597.90954435,   139.21067402, -8738.01911278])"
      ]
     },
     "execution_count": 5,
     "metadata": {},
     "output_type": "execute_result"
    }
   ],
   "source": [
    "linear_regresion_2_2()"
   ]
  },
  {
   "cell_type": "code",
   "execution_count": null,
   "id": "f2ab07be",
   "metadata": {},
   "outputs": [],
   "source": []
  }
 ],
 "metadata": {
  "kernelspec": {
   "display_name": "Python 3 (ipykernel)",
   "language": "python",
   "name": "python3"
  },
  "language_info": {
   "codemirror_mode": {
    "name": "ipython",
    "version": 3
   },
   "file_extension": ".py",
   "mimetype": "text/x-python",
   "name": "python",
   "nbconvert_exporter": "python",
   "pygments_lexer": "ipython3",
   "version": "3.9.7"
  }
 },
 "nbformat": 4,
 "nbformat_minor": 5
}
