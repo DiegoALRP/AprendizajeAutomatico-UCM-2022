{
 "cells": [
  {
   "cell_type": "code",
   "execution_count": 1,
   "id": "59ade615",
   "metadata": {},
   "outputs": [],
   "source": [
    "import pandas as pd \n",
    "import numpy as np\n",
    "\n",
    "import seaborn as sns\n",
    "\n",
    "%matplotlib inline\n",
    "import matplotlib.pyplot as plt\n",
    "\n",
    "from sklearn.model_selection import train_test_split\n",
    "from sklearn.neighbors import KNeighborsClassifier\n",
    "from sklearn.linear_model import LogisticRegression\n",
    "from sklearn.compose import make_column_transformer\n",
    "from sklearn.preprocessing import OneHotEncoder\n",
    "from sklearn import metrics"
   ]
  },
  {
   "cell_type": "code",
   "execution_count": 11,
   "id": "253d5fbf",
   "metadata": {},
   "outputs": [
    {
     "name": "stdout",
     "output_type": "stream",
     "text": [
      "HeartDisease\n",
      "No              0.914405\n",
      "Yes             0.085595\n",
      "dtype: float64\n",
      "HeartDisease\n",
      "No              292422\n",
      "Yes              27373\n",
      "dtype: int64\n"
     ]
    }
   ],
   "source": [
    "df = pd.read_csv('heart_dataset.csv')\n",
    "print(df.value_counts(['HeartDisease'])/len(df))\n",
    "print(df.value_counts(['HeartDisease']))"
   ]
  },
  {
   "cell_type": "code",
   "execution_count": 3,
   "id": "12ac0123",
   "metadata": {},
   "outputs": [
    {
     "data": {
      "text/html": [
       "<style type=\"text/css\">\n",
       "#T_74080_row0_col0, #T_74080_row0_col1, #T_74080_row0_col2, #T_74080_row0_col3, #T_74080_row0_col4, #T_74080_row0_col5, #T_74080_row0_col6, #T_74080_row0_col7, #T_74080_row1_col0, #T_74080_row1_col1, #T_74080_row1_col2, #T_74080_row1_col3, #T_74080_row1_col4, #T_74080_row1_col5, #T_74080_row1_col6, #T_74080_row1_col7, #T_74080_row2_col0, #T_74080_row2_col1, #T_74080_row2_col2, #T_74080_row2_col3, #T_74080_row2_col4, #T_74080_row2_col5, #T_74080_row2_col6, #T_74080_row2_col7, #T_74080_row3_col0, #T_74080_row3_col1, #T_74080_row3_col2, #T_74080_row3_col3, #T_74080_row3_col4, #T_74080_row3_col5, #T_74080_row3_col6, #T_74080_row3_col7 {\n",
       "  background-color: grey;\n",
       "  color: white;\n",
       "  border-color: white;\n",
       "}\n",
       "</style>\n",
       "<table id=\"T_74080_\">\n",
       "  <thead>\n",
       "    <tr>\n",
       "      <th class=\"blank level0\" >&nbsp;</th>\n",
       "      <th class=\"col_heading level0 col0\" >count</th>\n",
       "      <th class=\"col_heading level0 col1\" >mean</th>\n",
       "      <th class=\"col_heading level0 col2\" >std</th>\n",
       "      <th class=\"col_heading level0 col3\" >min</th>\n",
       "      <th class=\"col_heading level0 col4\" >25%</th>\n",
       "      <th class=\"col_heading level0 col5\" >50%</th>\n",
       "      <th class=\"col_heading level0 col6\" >75%</th>\n",
       "      <th class=\"col_heading level0 col7\" >max</th>\n",
       "    </tr>\n",
       "  </thead>\n",
       "  <tbody>\n",
       "    <tr>\n",
       "      <th id=\"T_74080_level0_row0\" class=\"row_heading level0 row0\" >BMI</th>\n",
       "      <td id=\"T_74080_row0_col0\" class=\"data row0 col0\" >319795.000000</td>\n",
       "      <td id=\"T_74080_row0_col1\" class=\"data row0 col1\" >28.325399</td>\n",
       "      <td id=\"T_74080_row0_col2\" class=\"data row0 col2\" >6.356100</td>\n",
       "      <td id=\"T_74080_row0_col3\" class=\"data row0 col3\" >12.020000</td>\n",
       "      <td id=\"T_74080_row0_col4\" class=\"data row0 col4\" >24.030000</td>\n",
       "      <td id=\"T_74080_row0_col5\" class=\"data row0 col5\" >27.340000</td>\n",
       "      <td id=\"T_74080_row0_col6\" class=\"data row0 col6\" >31.420000</td>\n",
       "      <td id=\"T_74080_row0_col7\" class=\"data row0 col7\" >94.850000</td>\n",
       "    </tr>\n",
       "    <tr>\n",
       "      <th id=\"T_74080_level0_row1\" class=\"row_heading level0 row1\" >PhysicalHealth</th>\n",
       "      <td id=\"T_74080_row1_col0\" class=\"data row1 col0\" >319795.000000</td>\n",
       "      <td id=\"T_74080_row1_col1\" class=\"data row1 col1\" >3.371710</td>\n",
       "      <td id=\"T_74080_row1_col2\" class=\"data row1 col2\" >7.950850</td>\n",
       "      <td id=\"T_74080_row1_col3\" class=\"data row1 col3\" >0.000000</td>\n",
       "      <td id=\"T_74080_row1_col4\" class=\"data row1 col4\" >0.000000</td>\n",
       "      <td id=\"T_74080_row1_col5\" class=\"data row1 col5\" >0.000000</td>\n",
       "      <td id=\"T_74080_row1_col6\" class=\"data row1 col6\" >2.000000</td>\n",
       "      <td id=\"T_74080_row1_col7\" class=\"data row1 col7\" >30.000000</td>\n",
       "    </tr>\n",
       "    <tr>\n",
       "      <th id=\"T_74080_level0_row2\" class=\"row_heading level0 row2\" >MentalHealth</th>\n",
       "      <td id=\"T_74080_row2_col0\" class=\"data row2 col0\" >319795.000000</td>\n",
       "      <td id=\"T_74080_row2_col1\" class=\"data row2 col1\" >3.898366</td>\n",
       "      <td id=\"T_74080_row2_col2\" class=\"data row2 col2\" >7.955235</td>\n",
       "      <td id=\"T_74080_row2_col3\" class=\"data row2 col3\" >0.000000</td>\n",
       "      <td id=\"T_74080_row2_col4\" class=\"data row2 col4\" >0.000000</td>\n",
       "      <td id=\"T_74080_row2_col5\" class=\"data row2 col5\" >0.000000</td>\n",
       "      <td id=\"T_74080_row2_col6\" class=\"data row2 col6\" >3.000000</td>\n",
       "      <td id=\"T_74080_row2_col7\" class=\"data row2 col7\" >30.000000</td>\n",
       "    </tr>\n",
       "    <tr>\n",
       "      <th id=\"T_74080_level0_row3\" class=\"row_heading level0 row3\" >SleepTime</th>\n",
       "      <td id=\"T_74080_row3_col0\" class=\"data row3 col0\" >319795.000000</td>\n",
       "      <td id=\"T_74080_row3_col1\" class=\"data row3 col1\" >7.097075</td>\n",
       "      <td id=\"T_74080_row3_col2\" class=\"data row3 col2\" >1.436007</td>\n",
       "      <td id=\"T_74080_row3_col3\" class=\"data row3 col3\" >1.000000</td>\n",
       "      <td id=\"T_74080_row3_col4\" class=\"data row3 col4\" >6.000000</td>\n",
       "      <td id=\"T_74080_row3_col5\" class=\"data row3 col5\" >7.000000</td>\n",
       "      <td id=\"T_74080_row3_col6\" class=\"data row3 col6\" >8.000000</td>\n",
       "      <td id=\"T_74080_row3_col7\" class=\"data row3 col7\" >24.000000</td>\n",
       "    </tr>\n",
       "  </tbody>\n",
       "</table>\n"
      ],
      "text/plain": [
       "<pandas.io.formats.style.Styler at 0x7fc699b1b0d0>"
      ]
     },
     "execution_count": 3,
     "metadata": {},
     "output_type": "execute_result"
    }
   ],
   "source": [
    "df.describe().T.style.set_properties(**{'background-color': 'grey','color': 'white','border-color': 'white'})"
   ]
  }
 ],
 "metadata": {
  "kernelspec": {
   "display_name": "Python 3 (ipykernel)",
   "language": "python",
   "name": "python3"
  },
  "language_info": {
   "codemirror_mode": {
    "name": "ipython",
    "version": 3
   },
   "file_extension": ".py",
   "mimetype": "text/x-python",
   "name": "python",
   "nbconvert_exporter": "python",
   "pygments_lexer": "ipython3",
   "version": "3.9.7"
  }
 },
 "nbformat": 4,
 "nbformat_minor": 5
}
