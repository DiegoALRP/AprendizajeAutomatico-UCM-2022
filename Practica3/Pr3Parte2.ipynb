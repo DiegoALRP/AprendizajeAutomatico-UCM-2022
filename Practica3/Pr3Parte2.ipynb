{
 "cells": [
  {
   "cell_type": "code",
   "execution_count": 1,
   "id": "040cc359",
   "metadata": {},
   "outputs": [],
   "source": [
    "#Imports\n",
    "import numpy as np\n",
    "from pandas.io.parsers import read_csv\n",
    "import matplotlib.pyplot as plt\n",
    "from matplotlib.axes import Axes\n",
    "from mpl_toolkits.mplot3d import Axes3D\n",
    "from matplotlib import cm\n",
    "import math\n",
    "import scipy.optimize as opt\n",
    "from sklearn.preprocessing import PolynomialFeatures\n",
    "from scipy.io import loadmat\n",
    "\n"
   ]
  },
  {
   "cell_type": "code",
   "execution_count": 2,
   "id": "152ff78f",
   "metadata": {},
   "outputs": [],
   "source": [
    "def sigmoid_funct(z):\n",
    "    return 1.0 / (1.0 + np.exp(-z))"
   ]
  },
  {
   "cell_type": "code",
   "execution_count": 3,
   "id": "013169cb",
   "metadata": {},
   "outputs": [],
   "source": [
    "def pinta_aleatorio(X):\n",
    "    sample = np.random.choice(X.shape[0], 10)\n",
    "    aux = X[sample, :].reshape(-1, 20)\n",
    "    plt.imshow(aux.T)\n",
    "    plt.axis(\"off\")\n",
    "\n",
    "def propagacion_hacia_delante(X, theta1, theta2):\n",
    "    m = X.shape[0]\n",
    "    a1 = np.hstack([np.ones([m, 1]), X])\n",
    "    z2 = np.dot(a1, theta1.T)\n",
    "    a2 = np.hstack([np.ones([m, 1]), sigmoid_funct(z2)])\n",
    "    z3 = np.dot(a2, theta2.T)\n",
    "    h = sigmoid_funct(z3)\n",
    "    #return a1, z2, a2, z3, h\n",
    "    return h"
   ]
  },
  {
   "cell_type": "code",
   "execution_count": 4,
   "id": "735246b8",
   "metadata": {},
   "outputs": [],
   "source": [
    "def calcAciertos(X, Y, t):\n",
    "    #X = todas las X\n",
    "    #Y = la Y de cada fila de X\n",
    "    #t = cada fila de la matriz de thetas\n",
    "    aciertos = 0\n",
    "    totales = len(Y)\n",
    "    dimThetas = len(t)\n",
    "\n",
    "    for i in range(dimThetas):\n",
    "        r = np.argmax(t[i]) + 1\n",
    "        #print(str(r) + \"------>\" + str(Y[cont]))\n",
    "        if(r==Y[i]):\n",
    "            aciertos+=1     \n",
    "\n",
    "    porcentaje = aciertos / totales * 100\n",
    "    return porcentaje"
   ]
  },
  {
   "cell_type": "code",
   "execution_count": 5,
   "id": "ee906b69",
   "metadata": {},
   "outputs": [],
   "source": [
    "def amarillo():\n",
    "    \n",
    "    data = loadmat (\"ex3data1.mat\")\n",
    "\n",
    "    #almacenamos los datos leídos en X e y\n",
    "    X = data['X']\n",
    "    y = data['y']\n",
    "\n",
    "    y = np.ravel(y) \n",
    "\n",
    "    weights = loadmat(\"ex3weights.mat\")\n",
    "    theta1, theta2 = weights[\"Theta1\"], weights[\"Theta2\"]\n",
    "    \n",
    "    h = propagacion_hacia_delante(X, theta1, theta2)\n",
    "\n",
    "    result = calcAciertos(X, y, h)\n",
    "    text = str(result) + \"% de aciertos.\"\n",
    "    print(text)\n",
    "\n",
    "    plt.axis(\"off\")\n",
    "    plt.text(0,0, text)\n",
    "\n",
    "    #Mostramos los datos finalmente\n",
    "    plt.show()  "
   ]
  },
  {
   "cell_type": "code",
   "execution_count": 6,
   "id": "403536d8",
   "metadata": {},
   "outputs": [
    {
     "name": "stdout",
     "output_type": "stream",
     "text": [
      "97.52% de aciertos.\n"
     ]
    },
    {
     "data": {
      "image/png": "[encoded data removed]",
      "text/plain": [
       "<Figure size 432x288 with 1 Axes>"
      ]
     },
     "metadata": {
      "needs_background": "light"
     },
     "output_type": "display_data"
    }
   ],
   "source": [
    "amarillo()"
   ]
  },
  {
   "cell_type": "code",
   "execution_count": null,
   "id": "cb843052",
   "metadata": {},
   "outputs": [],
   "source": []
  }
 ],
 "metadata": {
  "kernelspec": {
   "display_name": "Python 3 (ipykernel)",
   "language": "python",
   "name": "python3"
  },
  "language_info": {
   "codemirror_mode": {
    "name": "ipython",
    "version": 3
   },
   "file_extension": ".py",
   "mimetype": "text/x-python",
   "name": "python",
   "nbconvert_exporter": "python",
   "pygments_lexer": "ipython3",
   "version": "3.9.7"
  }
 },
 "nbformat": 4,
 "nbformat_minor": 5
}
