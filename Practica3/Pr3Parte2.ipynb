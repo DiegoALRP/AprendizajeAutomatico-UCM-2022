{
 "cells": [
  {
   "cell_type": "code",
   "execution_count": 1,
   "id": "449b3741",
   "metadata": {},
   "outputs": [],
   "source": [
    "#Imports\n",
    "import numpy as np\n",
    "from pandas.io.parsers import read_csv\n",
    "import matplotlib.pyplot as plt\n",
    "from matplotlib.axes import Axes\n",
    "from mpl_toolkits.mplot3d import Axes3D\n",
    "from matplotlib import cm\n",
    "import math\n",
    "import scipy.optimize as opt\n",
    "from sklearn.preprocessing import PolynomialFeatures\n",
    "from scipy.io import loadmat\n",
    "\n"
   ]
  },
  {
   "cell_type": "code",
   "execution_count": 2,
   "id": "31dd28d1",
   "metadata": {},
   "outputs": [],
   "source": [
    "def sigmoid_funct(z):\n",
    "    return 1.0 / (1.0 + np.exp(-z))"
   ]
  },
  {
   "cell_type": "code",
   "execution_count": 3,
   "id": "aad7a872",
   "metadata": {},
   "outputs": [],
   "source": [
    "def forward_propagation(X, theta1, theta2, m):\n",
    "    \n",
    "    #Capa entrada asignamos la X con los unos incluidos\n",
    "    a1 = X\n",
    "\n",
    "    #capa intermedia (hidden) calculamos las ecuaciones de la anterior, aplicamos la sigmoide e incluimos los unos de la neurona 0 \n",
    "    z2 = np.matmul(a1, theta1.T)\n",
    "    a2 = np.hstack([np.ones([m, 1]), sigmoid_funct(z2)])\n",
    "\n",
    "    #Capa salida calcuamos las ecuaciones con theta2 y aplicamos la sigmoide, nos devuelve la matriz de salida 5000x10\n",
    "    z3 = np.dot(a2, theta2.T)\n",
    "    a3 = sigmoid_funct(z3)\n",
    "\n",
    "    return a3"
   ]
  },
  {
   "cell_type": "code",
   "execution_count": 32,
   "id": "ee9ea981",
   "metadata": {},
   "outputs": [],
   "source": [
    "def main():\n",
    "    \n",
    "    data = loadmat (\"ex3data1.mat\")\n",
    "\n",
    "    #almacenamos los datos leídos en X e y\n",
    "    X = data['X']\n",
    "    m = X.shape[0]\n",
    "    X = np.hstack([np.ones([m, 1]), X])\n",
    "    y = data['y']\n",
    "    y = np.ravel(y) \n",
    "\n",
    "    \n",
    "    #Cargamos los weights y los asignamos a theta1 y theta2 \n",
    "    weights = loadmat(\"ex3weights.mat\")\n",
    "    theta1, theta2 = weights[\"Theta1\"], weights[\"Theta2\"]\n",
    "    \n",
    "    #hacemos el forward propagation\n",
    "    h = forward_propagation(X, theta1, theta2, m)\n",
    "    \n",
    "    #Sacamos la cantidad de elementos bien clasificados \n",
    "    indexes = np.argmax(h, axis=1)\n",
    "    \n",
    "    #Hacemos el porcentaje de aciertos y lo devolvemos\n",
    "    acc = (np.sum(indexes == (y-1))/m)*100\n",
    "    \n",
    "    print(acc)\n",
    "    return acc"
   ]
  },
  {
   "cell_type": "code",
   "execution_count": 33,
   "id": "c4cdc689",
   "metadata": {},
   "outputs": [
    {
     "name": "stdout",
     "output_type": "stream",
     "text": [
      "97.52\n"
     ]
    },
    {
     "data": {
      "text/plain": [
       "97.52"
      ]
     },
     "execution_count": 33,
     "metadata": {},
     "output_type": "execute_result"
    }
   ],
   "source": [
    "main()"
   ]
  },
  {
   "cell_type": "code",
   "execution_count": null,
   "id": "c656be81",
   "metadata": {},
   "outputs": [],
   "source": []
  }
 ],
 "metadata": {
  "kernelspec": {
   "display_name": "Python 3 (ipykernel)",
   "language": "python",
   "name": "python3"
  },
  "language_info": {
   "codemirror_mode": {
    "name": "ipython",
    "version": 3
   },
   "file_extension": ".py",
   "mimetype": "text/x-python",
   "name": "python",
   "nbconvert_exporter": "python",
   "pygments_lexer": "ipython3",
   "version": "3.9.7"
  }
 },
 "nbformat": 4,
 "nbformat_minor": 5
}
