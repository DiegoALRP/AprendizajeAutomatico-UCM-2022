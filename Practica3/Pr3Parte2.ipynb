{
 "cells": [
  {
   "cell_type": "code",
   "execution_count": 1,
   "id": "8eaff47d",
   "metadata": {},
   "outputs": [],
   "source": [
    "#Imports\n",
    "import numpy as np\n",
    "from pandas.io.parsers import read_csv\n",
    "import matplotlib.pyplot as plt\n",
    "from matplotlib.axes import Axes\n",
    "from mpl_toolkits.mplot3d import Axes3D\n",
    "from matplotlib import cm\n",
    "import math\n",
    "import scipy.optimize as opt\n",
    "from sklearn.preprocessing import PolynomialFeatures\n",
    "from scipy.io import loadmat\n",
    "\n"
   ]
  },
  {
   "cell_type": "code",
   "execution_count": 2,
   "id": "3ec7ff89",
   "metadata": {},
   "outputs": [],
   "source": [
    "def sigmoid_funct(z):\n",
    "    return 1.0 / (1.0 + np.exp(-z))"
   ]
  },
  {
   "cell_type": "code",
   "execution_count": 3,
   "id": "eadaaaa6",
   "metadata": {},
   "outputs": [],
   "source": [
    "def forward_propagation(X, theta1, theta2, m):\n",
    "    #A la matriz X le añadimos a0 que contiene únicamente 1s\n",
    "    #a1 = np.hstack([np.ones([m, 1]), X])\n",
    "    a1 = X\n",
    "    #z2 = Theta1 * a1\n",
    "    #z2 = np.dot(theta1, a1)\n",
    "    z2 = np.dot(a1, theta1.T)\n",
    "    #Codigo del profesor: z2 = np.matmul(a1, theta1.T)\n",
    "    #a2 = g(z2) siendo g la funcion sigmoide y luego agregamos 1s\n",
    "    a2 = np.hstack([np.ones([m, 1]), sigmoid_funct(z2)])\n",
    "    #z3 = \n",
    "    #Codigo profesor z3 = np.matmul(a2, theta2.T)\n",
    "    #z3 = np.dot(theta2, a2)\n",
    "    z3 = np.dot(a2, theta2.T)\n",
    "    #a3 = g(z3)\n",
    "    a3 = sigmoid_funct(z3)\n",
    "    #return a1, z2, a2, z3, h\n",
    "    return a3"
   ]
  },
  {
   "cell_type": "code",
   "execution_count": 4,
   "id": "301ed677",
   "metadata": {},
   "outputs": [],
   "source": [
    "def amarillo():\n",
    "    \n",
    "    data = loadmat (\"ex3data1.mat\")\n",
    "\n",
    "    #almacenamos los datos leídos en X e y\n",
    "    X = data['X']\n",
    "    m = X.shape[0]\n",
    "    X = np.hstack([np.ones([m, 1]), X])\n",
    "    y = data['y']\n",
    "    y = np.ravel(y) \n",
    "\n",
    "    print(y)\n",
    "    weights = loadmat(\"ex3weights.mat\")\n",
    "    theta1, theta2 = weights[\"Theta1\"], weights[\"Theta2\"]\n",
    "    \n",
    "    h = forward_propagation(X, theta1, theta2, m)\n",
    "    print(h)\n",
    "    indexes = np.argmax(h, axis=1)+1\n",
    "    print(indexes)\n",
    "\n",
    "    acc = (np.sum(indexes == y)/m)*100\n",
    "    \n",
    "    print(acc)"
   ]
  },
  {
   "cell_type": "code",
   "execution_count": 5,
   "id": "f4cc7a88",
   "metadata": {},
   "outputs": [
    {
     "name": "stdout",
     "output_type": "stream",
     "text": [
      "[10 10 10 ...  9  9  9]\n",
      "[[1.12661530e-04 1.74127856e-03 2.52696959e-03 ... 4.01468105e-04\n",
      "  6.48072305e-03 9.95734012e-01]\n",
      " [4.79026796e-04 2.41495958e-03 3.44755685e-03 ... 2.39107046e-03\n",
      "  1.97025086e-03 9.95696931e-01]\n",
      " [8.85702310e-05 3.24266731e-03 2.55419797e-02 ... 6.22892325e-02\n",
      "  5.49803551e-03 9.28008397e-01]\n",
      " ...\n",
      " [5.17641791e-02 3.81715020e-03 2.96297510e-02 ... 2.15667361e-03\n",
      "  6.49826950e-01 2.42384687e-05]\n",
      " [8.30631310e-04 6.22003774e-04 3.14518512e-04 ... 1.19366192e-02\n",
      "  9.71410499e-01 2.06173648e-04]\n",
      " [4.81465717e-05 4.58821829e-04 2.15146201e-05 ... 5.73434571e-03\n",
      "  6.96288990e-01 8.18576980e-02]]\n",
      "[10 10 10 ...  9  9  9]\n",
      "97.52\n"
     ]
    }
   ],
   "source": [
    "amarillo()"
   ]
  },
  {
   "cell_type": "code",
   "execution_count": null,
   "id": "46ebf8d8",
   "metadata": {},
   "outputs": [],
   "source": []
  }
 ],
 "metadata": {
  "kernelspec": {
   "display_name": "Python 3 (ipykernel)",
   "language": "python",
   "name": "python3"
  },
  "language_info": {
   "codemirror_mode": {
    "name": "ipython",
    "version": 3
   },
   "file_extension": ".py",
   "mimetype": "text/x-python",
   "name": "python",
   "nbconvert_exporter": "python",
   "pygments_lexer": "ipython3",
   "version": "3.9.7"
  }
 },
 "nbformat": 4,
 "nbformat_minor": 5
}
