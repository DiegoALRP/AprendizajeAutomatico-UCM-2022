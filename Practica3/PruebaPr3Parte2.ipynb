{
 "cells": [
  {
   "cell_type": "code",
   "execution_count": 1,
   "id": "1eaae302",
   "metadata": {},
   "outputs": [],
   "source": [
    "#Imports\n",
    "import numpy as np\n",
    "from pandas.io.parsers import read_csv\n",
    "import matplotlib.pyplot as plt\n",
    "from matplotlib.axes import Axes\n",
    "from mpl_toolkits.mplot3d import Axes3D\n",
    "from matplotlib import cm\n",
    "import math\n",
    "import scipy.optimize as opt\n",
    "from sklearn.preprocessing import PolynomialFeatures\n",
    "from scipy.io import loadmat"
   ]
  },
  {
   "cell_type": "code",
   "execution_count": 4,
   "id": "3f6dbf26",
   "metadata": {},
   "outputs": [],
   "source": [
    "def load_data():\n",
    "    data = loadmat('ex3data1.mat')\n",
    "    y = data['y']\n",
    "    y = y[:, 0]\n",
    "    X = data['X']\n",
    "    return X, y"
   ]
  },
  {
   "cell_type": "code",
   "execution_count": 5,
   "id": "c36c048a",
   "metadata": {},
   "outputs": [],
   "source": [
    "def sigmoide(z):\n",
    "    return (1 / (1 + np.e ** -z))\n",
    "\n",
    "def propaga_red_neuronal():\n",
    "    weights = loadmat('ex3weights.mat')\n",
    "    X, y = load_data()\n",
    "    m = X.shape[0]\n",
    "    Theta1, Theta2 = weights['Theta1'], weights['Theta2']\n",
    "    X = np.hstack([np.ones([X.shape[0], 1]), X])\n",
    "\n",
    "    z2 = np.dot(X, Theta1.T)\n",
    "    a2 = np.hstack([np.ones([m, 1]), sigmoide(z2)])\n",
    "    z3 = np.dot(a2, Theta2.T)\n",
    "    h = sigmoide(z3)\n",
    "\n",
    "    labels = np.argmax(h, axis=1)+1\n",
    "\n",
    "    acc = (np.sum(labels == y)/m)*100\n",
    "\n",
    "    print(acc)\n"
   ]
  },
  {
   "cell_type": "code",
   "execution_count": 6,
   "id": "1d2c5386",
   "metadata": {},
   "outputs": [
    {
     "name": "stdout",
     "output_type": "stream",
     "text": [
      "97.52\n"
     ]
    }
   ],
   "source": [
    "propaga_red_neuronal()"
   ]
  },
  {
   "cell_type": "code",
   "execution_count": null,
   "id": "f4b82381",
   "metadata": {},
   "outputs": [],
   "source": []
  },
  {
   "cell_type": "code",
   "execution_count": null,
   "id": "b446eba7",
   "metadata": {},
   "outputs": [],
   "source": []
  }
 ],
 "metadata": {
  "kernelspec": {
   "display_name": "Python 3 (ipykernel)",
   "language": "python",
   "name": "python3"
  },
  "language_info": {
   "codemirror_mode": {
    "name": "ipython",
    "version": 3
   },
   "file_extension": ".py",
   "mimetype": "text/x-python",
   "name": "python",
   "nbconvert_exporter": "python",
   "pygments_lexer": "ipython3",
   "version": "3.9.7"
  }
 },
 "nbformat": 4,
 "nbformat_minor": 5
}
