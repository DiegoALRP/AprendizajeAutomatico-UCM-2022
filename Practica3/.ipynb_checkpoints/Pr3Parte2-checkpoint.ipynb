{
 "cells": [
  {
   "cell_type": "code",
   "execution_count": 1,
   "id": "8eaff47d",
   "metadata": {},
   "outputs": [],
   "source": [
    "#Imports\n",
    "import numpy as np\n",
    "from pandas.io.parsers import read_csv\n",
    "import matplotlib.pyplot as plt\n",
    "from matplotlib.axes import Axes\n",
    "from mpl_toolkits.mplot3d import Axes3D\n",
    "from matplotlib import cm\n",
    "import math\n",
    "import scipy.optimize as opt\n",
    "from sklearn.preprocessing import PolynomialFeatures\n",
    "from scipy.io import loadmat"
   ]
  },
  {
   "cell_type": "code",
   "execution_count": 2,
   "id": "3ec7ff89",
   "metadata": {},
   "outputs": [],
   "source": [
    "#Función Sigmoide\n",
    "def sigmoid_funct(z):\n",
    "    return 1.0 / (1.0 + np.exp(-z))"
   ]
  },
  {
   "cell_type": "code",
   "execution_count": 3,
   "id": "eadaaaa6",
   "metadata": {},
   "outputs": [],
   "source": [
    "# Función de Propagación hacia adelante\n",
    "def forward_propagation(X, theta1, theta2, m):\n",
    "    #a1 = np.hstack([np.ones([m, 1]), X])\n",
    "    a1 = X\n",
    "    #z2 = Theta1 * a1\n",
    "    #z2 = np.dot(theta1, a1)\n",
    "    z2 = np.dot(a1, theta1.T)\n",
    "    #Codigo del profesor: z2 = np.matmul(a1, theta1.T)\n",
    "    #a2 = g(z2) siendo g la funcion sigmoide y luego agregamos 1s\n",
    "    a2 = np.hstack([np.ones([m, 1]), sigmoid_funct(z2)])\n",
    "    #z3 = \n",
    "    #Codigo profesor z3 = np.matmul(a2, theta2.T)\n",
    "    #z3 = np.dot(theta2, a2)\n",
    "    z3 = np.dot(a2, theta2.T)\n",
    "    #a3 = g(z3)\n",
    "    a3 = sigmoid_funct(z3)\n",
    "    #return a1, z2, a2, z3, h\n",
    "    return a3"
   ]
  },
  {
   "cell_type": "code",
   "execution_count": 4,
   "id": "301ed677",
   "metadata": {},
   "outputs": [],
   "source": [
    "def main():\n",
    "    \n",
    "    # Carga del fichero que contiene los datos\n",
    "    data = loadmat (\"ex3data1.mat\")\n",
    "    \n",
    "    #almacenamos los datos leídos en X e y\n",
    "    X = data['X']\n",
    "    m = X.shape[0]\n",
    "    #A la matriz X le añadimos una columna que contiene únicamente 1s\n",
    "    X = np.hstack([np.ones([m, 1]), X])\n",
    "    y = data['y']\n",
    "    y = np.ravel(y) \n",
    "\n",
    "    # Cargamos el fichero que contiene los pesos\n",
    "    weights = loadmat(\"ex3weights.mat\")\n",
    "    theta1, theta2 = weights[\"Theta1\"], weights[\"Theta2\"]\n",
    "    \n",
    "    #Aplicamos la propagación hacia adelante\n",
    "    h = forward_propagation(X, theta1, theta2, m)\n",
    "    #print(h)\n",
    "    #Calculamos el porcentaje de aciertos\n",
    "    indexes = np.argmax(h, axis=1)+1\n",
    "    #print(indexes)\n",
    "    acc = (np.sum(indexes == y)/m)*100\n",
    "    \n",
    "    return acc"
   ]
  },
  {
   "cell_type": "code",
   "execution_count": 5,
   "id": "f4cc7a88",
   "metadata": {},
   "outputs": [
    {
     "data": {
      "text/plain": [
       "97.52"
      ]
     },
     "execution_count": 5,
     "metadata": {},
     "output_type": "execute_result"
    }
   ],
   "source": [
    "main()"
   ]
  },
  {
   "cell_type": "code",
   "execution_count": null,
   "id": "46ebf8d8",
   "metadata": {},
   "outputs": [],
   "source": []
  }
 ],
 "metadata": {
  "kernelspec": {
   "display_name": "Python 3 (ipykernel)",
   "language": "python",
   "name": "python3"
  },
  "language_info": {
   "codemirror_mode": {
    "name": "ipython",
    "version": 3
   },
   "file_extension": ".py",
   "mimetype": "text/x-python",
   "name": "python",
   "nbconvert_exporter": "python",
   "pygments_lexer": "ipython3",
   "version": "3.9.7"
  }
 },
 "nbformat": 4,
 "nbformat_minor": 5
}
