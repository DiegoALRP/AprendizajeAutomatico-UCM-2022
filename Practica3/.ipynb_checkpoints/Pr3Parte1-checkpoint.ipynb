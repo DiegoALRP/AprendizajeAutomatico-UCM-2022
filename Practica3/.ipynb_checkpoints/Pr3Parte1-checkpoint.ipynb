{
 "cells": [
  {
   "cell_type": "code",
   "execution_count": 1,
   "id": "3bfacda8",
   "metadata": {},
   "outputs": [],
   "source": [
    "#Imports\n",
    "import numpy as np\n",
    "from pandas.io.parsers import read_csv\n",
    "import matplotlib.pyplot as plt\n",
    "from matplotlib.axes import Axes\n",
    "from mpl_toolkits.mplot3d import Axes3D\n",
    "from matplotlib import cm\n",
    "import math\n",
    "import scipy.optimize as opt\n",
    "from sklearn.preprocessing import PolynomialFeatures\n",
    "from scipy.io import loadmat\n"
   ]
  },
  {
   "cell_type": "markdown",
   "id": "dee60aa0",
   "metadata": {},
   "source": [
    "### Función sigmoide"
   ]
  },
  {
   "cell_type": "code",
   "execution_count": 3,
   "id": "8ad179ec",
   "metadata": {},
   "outputs": [],
   "source": [
    "def sigmoid_funct(z):\n",
    "    return 1.0 / (1.0 + np.exp(-z))"
   ]
  },
  {
   "cell_type": "markdown",
   "id": "57a8fb18",
   "metadata": {},
   "source": [
    "### Función coste reg"
   ]
  },
  {
   "cell_type": "code",
   "execution_count": 4,
   "id": "0c9df29c",
   "metadata": {},
   "outputs": [],
   "source": [
    "def func_coste_reg(Thetas, X, Y, lmb):\n",
    "    m = np.shape(X)[0]\n",
    "    return cost_funct(Thetas, X, Y) + regularizacion(Thetas[1:], lmb, m)"
   ]
  },
  {
   "cell_type": "code",
   "execution_count": 5,
   "id": "58a28632",
   "metadata": {},
   "outputs": [],
   "source": [
    "def cost_funct(Theta, X, Y):\n",
    "    g = sigmoid_funct(np.matmul(X, Theta))\n",
    "    m = np.shape(X)[0]\n",
    "    J = (np.matmul(np.transpose(np.log(g)), Y)) + (np.matmul(np.transpose(np.log(1-g)), (1 - Y)))\n",
    "    return -J/m"
   ]
  },
  {
   "cell_type": "code",
   "execution_count": 6,
   "id": "0c0a07b4",
   "metadata": {},
   "outputs": [],
   "source": [
    "def regularizacion(Thetas, lmb, m):\n",
    "    return (lmb/(2*m))*np.sum(Thetas**2)"
   ]
  },
  {
   "cell_type": "markdown",
   "id": "aaa180e4",
   "metadata": {},
   "source": [
    "### Función gradiente reg"
   ]
  },
  {
   "cell_type": "code",
   "execution_count": 7,
   "id": "c018120e",
   "metadata": {},
   "outputs": [],
   "source": [
    "def func_grad_reg(Thetas, X, Y, lmb):\n",
    "    m = np.shape(X)[0]\n",
    "    return np.add(gradient(Thetas, X, Y) , reg_grad(Thetas[1:], lmb, m))"
   ]
  },
  {
   "cell_type": "code",
   "execution_count": 8,
   "id": "61f77dc7",
   "metadata": {},
   "outputs": [],
   "source": [
    "def gradient(Theta, X, Y):\n",
    "    m = np.shape(X)[0]\n",
    "    g = sigmoid_funct(np.matmul(X,Theta))\n",
    "    J = np.dot(np.transpose(X), (g - Y))\n",
    "    return J/m"
   ]
  },
  {
   "cell_type": "code",
   "execution_count": 9,
   "id": "03aed537",
   "metadata": {},
   "outputs": [],
   "source": [
    "def reg_grad(Thetas, lmb, m):\n",
    "        return np.insert((lmb/m)*Thetas, 0, values=[0])"
   ]
  },
  {
   "cell_type": "markdown",
   "id": "3ce8e13e",
   "metadata": {},
   "source": [
    "### Optimización por label"
   ]
  },
  {
   "cell_type": "code",
   "execution_count": 10,
   "id": "5d17bd41",
   "metadata": {},
   "outputs": [],
   "source": [
    "\n",
    "def oneVsAll(X, y, n_labels,cost, grad, reg):\n",
    "    #Initialize Thetas\n",
    "    all_theta = np.zeros((n_labels, X.shape[1]))\n",
    "\n",
    "    #Minimize for all labels\n",
    "    for i in range(n_labels):\n",
    "        Thetas = np.zeros((X.shape[1],1))\n",
    "        result = opt.fmin_tnc(func=cost, x0=Thetas, fprime=grad, args=(X, y[:,i],reg))\n",
    "        all_theta[i] = result[0]\n",
    "     \n",
    "    return all_theta\n"
   ]
  },
  {
   "cell_type": "markdown",
   "id": "02da4502",
   "metadata": {},
   "source": [
    "### Cálculo de aciertos"
   ]
  },
  {
   "cell_type": "code",
   "execution_count": 11,
   "id": "1b965766",
   "metadata": {},
   "outputs": [],
   "source": [
    "def porcentaje_aciertos(Theta, X, Y):\n",
    "    # Calculamos los valores estimados segun la theta que hemos obtenido\n",
    "    \n",
    "    h = sigmoid_funct(np.matmul(Theta, X.T))\n",
    "    \n",
    "    #Nos quedamos con el máximo\n",
    "    indexes = np.argmax(h , axis=0)\n",
    "    \n",
    "    m = np.shape(X)[0]\n",
    "    # Se compara la estimacion nuestra con el resultado real (Y).\n",
    "    acc = (np.sum(indexes == Y)/m)*100\n",
    "    \n",
    "    # Devolvemos el porcentaje\n",
    "    return acc\n"
   ]
  },
  {
   "cell_type": "markdown",
   "id": "e0c53eff",
   "metadata": {},
   "source": [
    "## Ejecución "
   ]
  },
  {
   "cell_type": "code",
   "execution_count": 12,
   "id": "4aba0027",
   "metadata": {},
   "outputs": [
    {
     "name": "stdout",
     "output_type": "stream",
     "text": [
      "5000\n"
     ]
    },
    {
     "data": {
      "text/plain": [
       "96.46000000000001"
      ]
     },
     "execution_count": 12,
     "metadata": {},
     "output_type": "execute_result"
    },
    {
     "data": {
      "image/png": "[encoded data removed]",
      "text/plain": [
       "<Figure size 432x288 with 1 Axes>"
      ]
     },
     "metadata": {
      "needs_background": "light"
     },
     "output_type": "display_data"
    }
   ],
   "source": [
    "data = loadmat('ex3data1.mat')\n",
    "# se pueden consultar las claves con data.keys()\n",
    "y = data['y']\n",
    "X = data['X']\n",
    "# almacena los datos leídos en X, y\n",
    "y = np.ravel(y)\n",
    "\n",
    "m = np.shape(X)[0]\n",
    "print(m)\n",
    "# Agregamos una columna de 1s\n",
    "X_ones = np.hstack([np.ones([m, 1]), X])\n",
    "\n",
    "num_labels = 10\n",
    "\n",
    "sample = np.random.choice(X.shape[0], 10)\n",
    "plt.imshow(X[sample, :].reshape(-1, 20).T)\n",
    "plt.axis('off')\n",
    "\n",
    "#Movemos los labels para que se encuentren entre 0 y 9\n",
    "y = (y - 1)\n",
    "\n",
    "y_onehot = np.zeros((m, num_labels))  # 5000 x 10\n",
    "for i in range(m):\n",
    "    y_onehot[i][y[i]] = 1\n",
    "    \n",
    "\n",
    "all_thetas = oneVsAll(X_ones,y_onehot,num_labels,func_coste_reg,func_grad_reg,  0.1)\n",
    "\n",
    "porcentaje_aciertos(all_thetas, X_ones, y)\n"
   ]
  },
  {
   "cell_type": "code",
   "execution_count": null,
   "id": "26fbfc1f",
   "metadata": {},
   "outputs": [],
   "source": []
  },
  {
   "cell_type": "code",
   "execution_count": null,
   "id": "a1afa5f3",
   "metadata": {},
   "outputs": [],
   "source": []
  }
 ],
 "metadata": {
  "kernelspec": {
   "display_name": "Python 3 (ipykernel)",
   "language": "python",
   "name": "python3"
  },
  "language_info": {
   "codemirror_mode": {
    "name": "ipython",
    "version": 3
   },
   "file_extension": ".py",
   "mimetype": "text/x-python",
   "name": "python",
   "nbconvert_exporter": "python",
   "pygments_lexer": "ipython3",
   "version": "3.9.7"
  }
 },
 "nbformat": 4,
 "nbformat_minor": 5
}
