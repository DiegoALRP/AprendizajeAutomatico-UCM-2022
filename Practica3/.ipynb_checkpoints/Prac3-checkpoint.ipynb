{
 "cells": [
  {
   "cell_type": "code",
   "execution_count": 13,
   "id": "bf6a6889",
   "metadata": {},
   "outputs": [],
   "source": [
    "#Imports\n",
    "import numpy as np\n",
    "from pandas.io.parsers import read_csv\n",
    "import matplotlib.pyplot as plt\n",
    "from matplotlib.axes import Axes\n",
    "from mpl_toolkits.mplot3d import Axes3D\n",
    "from matplotlib import cm\n",
    "import math\n",
    "import scipy.optimize as opt\n",
    "from sklearn.preprocessing import PolynomialFeatures\n",
    "from scipy.io import loadmat\n"
   ]
  },
  {
   "cell_type": "code",
   "execution_count": 14,
   "id": "5cbe3cf4",
   "metadata": {},
   "outputs": [],
   "source": [
    "#Parte 1 96.46%\n",
    "#Parte 2 83.05%\n"
   ]
  },
  {
   "cell_type": "code",
   "execution_count": 15,
   "id": "15060f64",
   "metadata": {},
   "outputs": [],
   "source": [
    "\n",
    "#y = 1..10\n",
    "#y entre 0 y 9\n",
    "#Desplazar y = y-1\n",
    "\n",
    "def oneVsAll(X, y, n_labels,cost, grad, reg):\n",
    "    all_theta = np.zeros((n_labels, X.shape[1]))\n",
    "    #calificacion = np.zeros((num_etiquetas,X.shape[0]))\n",
    "    \n",
    "    for i in range(n_labels):\n",
    "        Thetas = np.zeros((X.shape[1],1))\n",
    "        result = opt.fmin_tnc(func=cost, x0=Thetas, fprime=grad, args=(X, y[:,i],reg))\n",
    "        all_theta[i] = result[0]\n",
    "     \n",
    "    return all_theta\n"
   ]
  },
  {
   "cell_type": "code",
   "execution_count": 16,
   "id": "8ed5fb04",
   "metadata": {},
   "outputs": [],
   "source": [
    "def func_coste_reg(Thetas, X, Y, lmb):\n",
    "    m = np.shape(X)[0]\n",
    "    return cost_funct(Thetas, X, Y) + regularizacion(Thetas[1:], lmb, m)"
   ]
  },
  {
   "cell_type": "code",
   "execution_count": 17,
   "id": "2fdf7987",
   "metadata": {},
   "outputs": [],
   "source": [
    "def func_grad_reg(Thetas, X, Y, lmb):\n",
    "    m = np.shape(X)[0]\n",
    "    return np.add(gradient(Thetas, X, Y) , reg_grad(Thetas[1:], lmb, m))"
   ]
  },
  {
   "cell_type": "code",
   "execution_count": 18,
   "id": "6aac8289",
   "metadata": {},
   "outputs": [],
   "source": [
    "def sigmoid_funct(z):\n",
    "    return 1.0 / (1.0 + np.exp(-z))"
   ]
  },
  {
   "cell_type": "code",
   "execution_count": 19,
   "id": "8192870a",
   "metadata": {},
   "outputs": [],
   "source": [
    "def cost_funct(Theta, X, Y):\n",
    "    g = sigmoid_funct(np.matmul(X, Theta))\n",
    "    m = np.shape(X)[0]\n",
    "    J = (np.matmul(np.transpose(np.log(g)), Y)) + (np.matmul(np.transpose(np.log(1-g)), (1 - Y)))\n",
    "    return -J/m"
   ]
  },
  {
   "cell_type": "code",
   "execution_count": 20,
   "id": "99b8e106",
   "metadata": {},
   "outputs": [],
   "source": [
    "def gradient(Theta, X, Y):\n",
    "    m = np.shape(X)[0]\n",
    "    g = sigmoid_funct(np.matmul(X,Theta))\n",
    "    J = np.dot(np.transpose(X), (np.ravel(g) - Y))\n",
    "    return J/m"
   ]
  },
  {
   "cell_type": "code",
   "execution_count": 21,
   "id": "ef4d3829",
   "metadata": {},
   "outputs": [],
   "source": [
    "def regularizacion(Thetas, lmb, m):\n",
    "    return (lmb/(2*m))*np.sum(Thetas**2)"
   ]
  },
  {
   "cell_type": "code",
   "execution_count": 22,
   "id": "a1d144dd",
   "metadata": {},
   "outputs": [],
   "source": [
    "def reg_grad(Thetas, lmb, m):\n",
    "        return np.insert((lmb/m)*Thetas, 0, values=[0])"
   ]
  },
  {
   "cell_type": "code",
   "execution_count": 23,
   "id": "a532ea06",
   "metadata": {},
   "outputs": [],
   "source": [
    "def porcentaje_aciertos(Theta, X, Y):\n",
    "    # Calculamos los valores estimados segun la theta que hemos obtenido\n",
    "    \n",
    "    evaluation_correct = 0\n",
    "    for x in range(np.shape(X)[0]):\n",
    "        mmax = 0\n",
    "        index = 10 \n",
    "        for c in range(num_labels):\n",
    "            sigmoid = sigmoid_funct(np.dot(X[x], Theta[c]))\n",
    "            if(sigmoid > mmax):\n",
    "                mmax = sigmoid\n",
    "                index = c\n",
    "        if(index == Y[x]):\n",
    "            evaluation_correct = evaluation_correct+1\n",
    "\n",
    "    # Se compara la estimacion nuestra con el resultado real (Y).\n",
    "    # Se devuelve el numeros de ejemplos que se han estimado\n",
    "    # correctamente, es decir, para aquellos que tengan\n",
    "    # el resultado del sigmoide mayor o igual a 0.5\n",
    "    #evaluation_correct = np.sum((sigmoid >= 0.5) == Y)\n",
    "    \n",
    "    # Devolvemos el porcentaje\n",
    "    return evaluation_correct/(np.shape(X)[0]) * 100"
   ]
  },
  {
   "cell_type": "code",
   "execution_count": 24,
   "id": "852e06ce",
   "metadata": {},
   "outputs": [
    {
     "name": "stdout",
     "output_type": "stream",
     "text": [
      "5000\n"
     ]
    },
    {
     "data": {
      "text/plain": [
       "96.46000000000001"
      ]
     },
     "execution_count": 24,
     "metadata": {},
     "output_type": "execute_result"
    },
    {
     "data": {
      "image/png": "[encoded data removed]",
      "text/plain": [
       "<Figure size 432x288 with 1 Axes>"
      ]
     },
     "metadata": {
      "needs_background": "light"
     },
     "output_type": "display_data"
    }
   ],
   "source": [
    "data = loadmat('ex3data1.mat')\n",
    "# se pueden consultar las claves con data.keys()\n",
    "y = data['y']\n",
    "X = data['X']\n",
    "# almacena los datos leídos en X, y\n",
    "y = np.ravel(y)\n",
    "\n",
    "m = np.shape(X)[0]\n",
    "print(m)\n",
    "# Agregamos una columna de 1s\n",
    "X_ones = np.hstack([np.ones([m, 1]), X])\n",
    "\n",
    "num_labels = 10\n",
    "#y = y %10\n",
    "#y = y-1\n",
    "\n",
    "sample = np.random.choice(X.shape[0], 10)\n",
    "plt.imshow(X[sample, :].reshape(-1, 20).T)\n",
    "plt.axis('off')\n",
    "\n",
    "y = (y - 1)\n",
    "y_onehot = np.zeros((m, num_labels))  # 5000 x 10\n",
    "for i in range(m):\n",
    "    y_onehot[i][y[i]] = 1\n",
    "    \n",
    "\n",
    "all_thetas = oneVsAll(X_ones,y_onehot,num_labels,func_coste_reg,func_grad_reg,  0.1)\n",
    "\n",
    "porcentaje_aciertos(all_thetas, X_ones, y)\n"
   ]
  },
  {
   "cell_type": "code",
   "execution_count": null,
   "id": "f4b94de4",
   "metadata": {},
   "outputs": [],
   "source": []
  }
 ],
 "metadata": {
  "kernelspec": {
   "display_name": "Python 3 (ipykernel)",
   "language": "python",
   "name": "python3"
  },
  "language_info": {
   "codemirror_mode": {
    "name": "ipython",
    "version": 3
   },
   "file_extension": ".py",
   "mimetype": "text/x-python",
   "name": "python",
   "nbconvert_exporter": "python",
   "pygments_lexer": "ipython3",
   "version": "3.9.7"
  }
 },
 "nbformat": 4,
 "nbformat_minor": 5
}
