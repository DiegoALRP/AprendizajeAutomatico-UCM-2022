{
 "cells": [
  {
   "cell_type": "code",
   "execution_count": 1,
   "id": "328def70",
   "metadata": {},
   "outputs": [],
   "source": [
    "#Imports\n",
    "import numpy as np\n",
    "from pandas.io.parsers import read_csv\n",
    "import matplotlib.pyplot as plt\n",
    "from matplotlib.axes import Axes\n",
    "from mpl_toolkits.mplot3d import Axes3D\n",
    "from matplotlib import cm\n",
    "import math\n",
    "import scipy.optimize as opt"
   ]
  },
  {
   "cell_type": "code",
   "execution_count": 2,
   "id": "43368e3f",
   "metadata": {},
   "outputs": [],
   "source": [
    "#Funcion que carga los datos\n",
    "def load_csv(filename):\n",
    "    valores = read_csv (filename, header=None).to_numpy()\n",
    "    return valores.astype(float)"
   ]
  },
  {
   "cell_type": "markdown",
   "id": "96221ceb",
   "metadata": {},
   "source": [
    "# 1. Regresión Logística\n",
    "\n",
    "Los datos del fichero ex2data1.csv representan las notas obtenidas por una seria de candidatos en los dos exámenes de admisión de una universidad junto con la información sobre si fueron (1) o no (0) admitidos.\n",
    "El objetivo es construir un modelo por regresión logística que estime la probabilidad de que un estudiante sea admitido en esa universidad en base a las notas de sus exámenes."
   ]
  },
  {
   "cell_type": "markdown",
   "id": "d9e8f3e6",
   "metadata": {},
   "source": [
    "## 1.1 Visualización de los datos"
   ]
  },
  {
   "cell_type": "code",
   "execution_count": 3,
   "id": "1eb3063f",
   "metadata": {},
   "outputs": [],
   "source": [
    "#data = load_csv('ex2data1.csv')\n",
    "\n",
    "#Obtencion de todas las columnas de la tabla menos la ultima columna\n",
    "#X = data[:, :-1]\n",
    "#np.shape(X)\n",
    "#Obtencion de la ultima columna de la tabla\n",
    "#Y = data[:, -1]\n",
    "#np.shape(Y)\n"
   ]
  },
  {
   "cell_type": "code",
   "execution_count": 4,
   "id": "970c77b4",
   "metadata": {},
   "outputs": [],
   "source": [
    "# Obtiene un vector con los indices de los ejemplos positivos\n",
    "#pos = np.where(Y == 1)\n",
    "# Obtiene un vector con los indices de los ejemplos positivos\n",
    "#pos2 = np.where(Y == 0)\n",
    "\n",
    "# Dibujo de los ejemplos positivos\n",
    "#plt.scatter(X[pos, 0], X[pos, 1], marker='+', c='k')\n",
    "# Dibujo de los ejemplos positivos\n",
    "#plt.scatter(X[pos2, 0], X[pos2, 1], marker='.', c='r')"
   ]
  },
  {
   "cell_type": "markdown",
   "id": "84102fba",
   "metadata": {},
   "source": [
    "## 1.2 Funcion Sigmoide"
   ]
  },
  {
   "cell_type": "code",
   "execution_count": 5,
   "id": "64414067",
   "metadata": {},
   "outputs": [],
   "source": [
    "def sigmoid_funct(z):\n",
    "    return 1 / (1 + np.exp(-z))"
   ]
  },
  {
   "cell_type": "code",
   "execution_count": 6,
   "id": "c5cde379",
   "metadata": {},
   "outputs": [],
   "source": [
    "def cost_funct(Theta, X, Y):\n",
    "    #g(X*Theta)\n",
    "    g = sigmoid_funct(np.matmul(X, Theta))\n",
    "    #g = sigmoid_funct(X * Theta)\n",
    "    m = np.shape(X)[0]\n",
    "    J = (np.transpose(np.log(g)) * Y) + (np.transpose(np.log(1-g)) * (1 - Y))\n",
    "    return np.sum(-J)/m"
   ]
  },
  {
   "cell_type": "code",
   "execution_count": 7,
   "id": "e4dce5bf",
   "metadata": {},
   "outputs": [],
   "source": [
    "def gradient(Theta, X, Y):\n",
    "    m = np.shape(X)[0]\n",
    "    g = sigmoid_funct(np.matmul(X,Theta))\n",
    "    J = np.matmul(np.transpose(X), (g - Y))\n",
    "    return J/m"
   ]
  },
  {
   "cell_type": "code",
   "execution_count": 8,
   "id": "fbd1cf57",
   "metadata": {},
   "outputs": [],
   "source": [
    "def pinta_frontera_recta(X, Y, Theta):\n",
    "    fig = plt.figure()\n",
    "    ax = fig.add_subplot(111)\n",
    "    x1_min, x1_max = X[:, 1].min(), X[:, 1].max()\n",
    "    x2_min, x2_max = X[:, 2].min(), X[:, 2].max()\n",
    "\n",
    "    xx1, xx2 = np.meshgrid(np.linspace(x1_min, x1_max), np.linspace(x2_min, x2_max))\n",
    "\n",
    "    h = sigmoid_funct(np.c_[np.ones((xx1.ravel().shape[0], 1)), xx1.ravel(), xx2.ravel()].dot(Theta))\n",
    "    h = h.reshape(xx1.shape)\n",
    "\n",
    "    # el cuarto parámetro es el valor de z cuya frontera se\n",
    "    # quiere pintar    \n",
    "    plt.contour(xx1, xx2, h, [0.5], linewidths=1, colors='b')\n",
    "    plt.savefig(\"fronteir.png\")\n",
    "    plt.show\n",
    "    aux(fig, ax)\n",
    "    #plt.close()"
   ]
  },
  {
   "cell_type": "code",
   "execution_count": 9,
   "id": "a3faadbc",
   "metadata": {},
   "outputs": [],
   "source": [
    "def pass_or_fail(x):\n",
    "    return 1 if x >= 0.5 else 0"
   ]
  },
  {
   "cell_type": "code",
   "execution_count": 10,
   "id": "3ef1fd7f",
   "metadata": {},
   "outputs": [],
   "source": [
    "def porcentaje_aciertos(Theta, X, Y):\n",
    "    # Calculamos los valores estimados segun la theta que hemos obtenido\n",
    "    sig = sigmoid_funct(np.matmul(X, Theta))\n",
    "\n",
    "    # Comparamos si nuestra estimación es correcta en comparacion con las Y\n",
    "    # y devolvemos el numero de ejemplos estimados correctamente\n",
    "    # if(sig >= 0.5) -> devuelve 1 y si no devuelve 0\n",
    "    # lo comparamos con la y de los casos de entrenamiento y si corresponde\n",
    "    # lo hemos calculado bien\n",
    "    ev_correct = np.sum((sig >= 0.5) == Y)\n",
    "    \n",
    "    # Devolvemos el porcentaje\n",
    "    return ev_correct/len(sig) * 100"
   ]
  },
  {
   "cell_type": "code",
   "execution_count": 11,
   "id": "bb62d12a",
   "metadata": {},
   "outputs": [],
   "source": [
    "def aux(fig, ax):\n",
    "    \n",
    "    data = load_csv('ex2data1.csv')\n",
    "    #Obtencion de todas las columnas de la tabla menos la ultima columna\n",
    "    X = data[:, :-1]\n",
    "    np.shape(X)\n",
    "    #Obtencion de la ultima columna de la tabla\n",
    "    Y = data[:, -1]\n",
    "    np.shape(Y)\n",
    "    # Obtiene un vector con los indices de los ejemplos positivos\n",
    "    pos = np.where(Y == 1)\n",
    "    # Obtiene un vector con los indices de los ejemplos positivos\n",
    "    pos2 = np.where(Y == 0)\n",
    "\n",
    "    # Dibujo de los ejemplos positivos\n",
    "    plt.scatter(X[pos, 0], X[pos, 1], marker='+', c='k', label = \"Admitted\")\n",
    "    # Dibujo de los ejemplos positivos\n",
    "    plt.scatter(X[pos2, 0], X[pos2, 1], marker='.', c='r', label = \"Not Admitted\")\n",
    "    \n",
    "    # Anadimos leyenda a la grafica y la posicionamos bien\n",
    "    plt.legend(loc = 'upper right')\n",
    "\n",
    "    # Anadimos el texto a los ejes (como en la grafica que aparece de ejemplo)\n",
    "    ax.set_xlabel('Exam1 Score', fontsize=10)\n",
    "    ax.set_ylabel('Exam2 Score', fontsize=10)"
   ]
  },
  {
   "cell_type": "code",
   "execution_count": 12,
   "id": "1cde2924",
   "metadata": {},
   "outputs": [],
   "source": [
    "def logistic_regresion():\n",
    "    data = load_csv('ex2data1.csv')\n",
    "    #Obtencion de todas las columnas de la tabla menos la ultima columna\n",
    "    X = data[:, :-1]\n",
    "    m = np.shape(X)[0]\n",
    "    # Aregamos una columna de 1s\n",
    "    X = np.hstack([np.ones([m, 1]), X])\n",
    "    n = np.shape(X)[1]\n",
    "    #Obtencion de la ultima columna de la tabla\n",
    "    Y = data[:, -1]\n",
    "    \n",
    "    Theta = np.zeros(n)\n",
    "    \n",
    "    result = opt.fmin_tnc(func=cost_funct, x0=Theta, fprime=gradient, args=(X,Y), messages=0)\n",
    "    theta_opt = result[0]\n",
    "    \n",
    "    print(\"theta optimizada:\", theta_opt)\n",
    "    pinta_frontera_recta(X, Y, theta_opt)\n",
    "    #aux()\n",
    "    porcentaje =  porcentaje_aciertos(theta_opt, X, Y)\n",
    "    print(porcentaje)\n",
    "    "
   ]
  },
  {
   "cell_type": "code",
   "execution_count": 13,
   "id": "684c9133",
   "metadata": {},
   "outputs": [
    {
     "name": "stdout",
     "output_type": "stream",
     "text": [
      "theta optimizada: [-25.16131867   0.20623159   0.20147149]\n",
      "89.0\n"
     ]
    },
    {
     "data": {
      "image/png": "[encoded data removed]",
      "text/plain": [
       "<Figure size 432x288 with 1 Axes>"
      ]
     },
     "metadata": {
      "needs_background": "light"
     },
     "output_type": "display_data"
    }
   ],
   "source": [
    "logistic_regresion()"
   ]
  },
  {
   "cell_type": "code",
   "execution_count": 14,
   "id": "3b46859f",
   "metadata": {},
   "outputs": [
    {
     "ename": "NameError",
     "evalue": "name 'X' is not defined",
     "output_type": "error",
     "traceback": [
      "\u001b[0;31m---------------------------------------------------------------------------\u001b[0m",
      "\u001b[0;31mNameError\u001b[0m                                 Traceback (most recent call last)",
      "\u001b[0;32m/var/folders/5g/32qmkgbs0ynf64vm8b185ky40000gn/T/ipykernel_11622/1320235119.py\u001b[0m in \u001b[0;36m<module>\u001b[0;34m\u001b[0m\n\u001b[0;32m----> 1\u001b[0;31m \u001b[0mn\u001b[0m \u001b[0;34m=\u001b[0m \u001b[0mnp\u001b[0m\u001b[0;34m.\u001b[0m\u001b[0mshape\u001b[0m\u001b[0;34m(\u001b[0m\u001b[0mX\u001b[0m\u001b[0;34m)\u001b[0m\u001b[0;34m[\u001b[0m\u001b[0;36m1\u001b[0m\u001b[0;34m]\u001b[0m\u001b[0;34m\u001b[0m\u001b[0;34m\u001b[0m\u001b[0m\n\u001b[0m\u001b[1;32m      2\u001b[0m \u001b[0mTheta\u001b[0m \u001b[0;34m=\u001b[0m \u001b[0mnp\u001b[0m\u001b[0;34m.\u001b[0m\u001b[0mzeros\u001b[0m\u001b[0;34m(\u001b[0m\u001b[0mn\u001b[0m\u001b[0;34m)\u001b[0m\u001b[0;34m\u001b[0m\u001b[0;34m\u001b[0m\u001b[0m\n\u001b[1;32m      3\u001b[0m \u001b[0ma\u001b[0m \u001b[0;34m=\u001b[0m \u001b[0mcost_funct\u001b[0m\u001b[0;34m(\u001b[0m\u001b[0mX\u001b[0m\u001b[0;34m,\u001b[0m \u001b[0mY\u001b[0m\u001b[0;34m,\u001b[0m \u001b[0mTheta\u001b[0m\u001b[0;34m)\u001b[0m\u001b[0;34m\u001b[0m\u001b[0;34m\u001b[0m\u001b[0m\n\u001b[1;32m      4\u001b[0m \u001b[0mprint\u001b[0m\u001b[0;34m(\u001b[0m\u001b[0ma\u001b[0m\u001b[0;34m)\u001b[0m\u001b[0;34m\u001b[0m\u001b[0;34m\u001b[0m\u001b[0m\n\u001b[1;32m      5\u001b[0m \u001b[0mb\u001b[0m \u001b[0;34m=\u001b[0m \u001b[0mgradient\u001b[0m\u001b[0;34m(\u001b[0m\u001b[0mX\u001b[0m\u001b[0;34m,\u001b[0m \u001b[0mY\u001b[0m\u001b[0;34m,\u001b[0m \u001b[0mTheta\u001b[0m\u001b[0;34m)\u001b[0m\u001b[0;34m\u001b[0m\u001b[0;34m\u001b[0m\u001b[0m\n",
      "\u001b[0;31mNameError\u001b[0m: name 'X' is not defined"
     ]
    }
   ],
   "source": [
    "n = np.shape(X)[1]\n",
    "Theta = np.zeros(n)\n",
    "a = cost_funct(X, Y, Theta)\n",
    "print(a)\n",
    "b = gradient(X, Y, Theta)\n",
    "print(b)"
   ]
  },
  {
   "cell_type": "code",
   "execution_count": null,
   "id": "b1cd78eb",
   "metadata": {},
   "outputs": [],
   "source": [
    "1 / (1 + np.exp(-34.62365962))"
   ]
  },
  {
   "cell_type": "code",
   "execution_count": null,
   "id": "22478eb2",
   "metadata": {},
   "outputs": [],
   "source": []
  },
  {
   "cell_type": "code",
   "execution_count": null,
   "id": "528f16e6",
   "metadata": {},
   "outputs": [],
   "source": []
  }
 ],
 "metadata": {
  "kernelspec": {
   "display_name": "Python 3 (ipykernel)",
   "language": "python",
   "name": "python3"
  },
  "language_info": {
   "codemirror_mode": {
    "name": "ipython",
    "version": 3
   },
   "file_extension": ".py",
   "mimetype": "text/x-python",
   "name": "python",
   "nbconvert_exporter": "python",
   "pygments_lexer": "ipython3",
   "version": "3.9.7"
  }
 },
 "nbformat": 4,
 "nbformat_minor": 5
}
