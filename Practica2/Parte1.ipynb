{
 "cells": [
  {
   "cell_type": "code",
   "execution_count": 1,
   "id": "d1bee8dd",
   "metadata": {},
   "outputs": [],
   "source": [
    "#Imports\n",
    "import numpy as np\n",
    "from pandas.io.parsers import read_csv\n",
    "import matplotlib.pyplot as plt\n",
    "from mpl_toolkits.mplot3d import Axes3D\n",
    "from matplotlib import cm\n",
    "import math"
   ]
  },
  {
   "cell_type": "code",
   "execution_count": 2,
   "id": "d0b2e1dc",
   "metadata": {},
   "outputs": [],
   "source": [
    "#Funcion que carga los datos\n",
    "def load_csv(filename):\n",
    "    valores = read_csv (filename, header=None).to_numpy()\n",
    "    return valores.astype(float)"
   ]
  },
  {
   "cell_type": "markdown",
   "id": "9875b8c0",
   "metadata": {},
   "source": [
    "# 1. Regresión Logística\n",
    "\n",
    "Los datos del fichero ex2data1.csv representan las notas obtenidas por una seria de candidatos en los dos exámenes de admisión de una universidad junto con la información sobre si fueron (1) o no (0) admitidos.\n",
    "El objetivo es construir un modelo por regresión logística que estime la probabilidad de que un estudiante sea admitido en esa universidad en base a las notas de sus exámenes."
   ]
  },
  {
   "cell_type": "markdown",
   "id": "a5aed6c8",
   "metadata": {},
   "source": [
    "## 1.1 Visualización de los datos"
   ]
  },
  {
   "cell_type": "code",
   "execution_count": 3,
   "id": "84509487",
   "metadata": {},
   "outputs": [
    {
     "data": {
      "text/plain": [
       "(100,)"
      ]
     },
     "execution_count": 3,
     "metadata": {},
     "output_type": "execute_result"
    }
   ],
   "source": [
    "data = load_csv('ex2data1.csv')\n",
    "\n",
    "#Obtencion de todas las columnas de la tabla menos la ultima columna\n",
    "X = data[:, :-1]\n",
    "np.shape(X)\n",
    "#Obtencion de la ultima columna de la tabla\n",
    "Y = data[:, -1]\n",
    "np.shape(Y)\n"
   ]
  },
  {
   "cell_type": "code",
   "execution_count": 4,
   "id": "f027fafa",
   "metadata": {},
   "outputs": [
    {
     "data": {
      "text/plain": [
       "<matplotlib.collections.PathCollection at 0x7f867b210d60>"
      ]
     },
     "execution_count": 4,
     "metadata": {},
     "output_type": "execute_result"
    },
    {
     "data": {
      "image/png": "[encoded data removed]",
      "text/plain": [
       "<Figure size 432x288 with 1 Axes>"
      ]
     },
     "metadata": {
      "needs_background": "light"
     },
     "output_type": "display_data"
    }
   ],
   "source": [
    "# Obtiene un vector con los indices de los ejemplos positivos\n",
    "pos = np.where(Y == 1)\n",
    "# Obtiene un vector con los indices de los ejemplos positivos\n",
    "pos2 = np.where(Y == 0)\n",
    "\n",
    "# Dibujo de los ejemplos positivos\n",
    "plt.scatter(X[pos, 0], X[pos, 1], marker='+', c='k')\n",
    "# Dibujo de los ejemplos positivos\n",
    "plt.scatter(X[pos2, 0], X[pos2, 1], marker='.', c='r')"
   ]
  },
  {
   "cell_type": "markdown",
   "id": "7065b946",
   "metadata": {},
   "source": [
    "## 1.2 Funcion Sigmoide"
   ]
  },
  {
   "cell_type": "code",
   "execution_count": 18,
   "id": "b684ca69",
   "metadata": {},
   "outputs": [],
   "source": [
    "def sigmoid_funct(z):\n",
    "    return 1 / (1 + np.exp(-z))"
   ]
  },
  {
   "cell_type": "code",
   "execution_count": 6,
   "id": "9090bd96",
   "metadata": {},
   "outputs": [],
   "source": [
    "def cost_funct(X, Y, Theta):\n",
    "    #g(X*Theta)\n",
    "    g = sigmoid_funct(np.matmul(X, Theta))\n",
    "    #g = sigmoid_funct(X * Theta)\n",
    "    m = np.shape(X)[0]\n",
    "    J = (np.transpose(np.log(g)) * Y) + (np.transpose(np.log(1-g)) * (1 - Y))\n",
    "    return np.sum(-J)/m"
   ]
  },
  {
   "cell_type": "code",
   "execution_count": 16,
   "id": "6ae77146",
   "metadata": {},
   "outputs": [],
   "source": [
    "def gradient(X, Y, Theta):\n",
    "    m = np.shape(X)[0]\n",
    "    g = sigmoid_funct(np.matmul(X,Theta))\n",
    "    J = np.matmul(np.transpose(X), (g - Y))\n",
    "    return J/m"
   ]
  },
  {
   "cell_type": "code",
   "execution_count": 19,
   "id": "3fc0daf7",
   "metadata": {},
   "outputs": [
    {
     "name": "stdout",
     "output_type": "stream",
     "text": [
      "0.6931471805599453\n",
      "[-12.00921659 -11.26284221]\n",
      "[-12.00921659 -11.26284221]\n"
     ]
    }
   ],
   "source": [
    "n = np.shape(X)[1]\n",
    "Theta = np.zeros(n)\n",
    "a = cost_funct(X, Y, Theta)\n",
    "print(a)\n",
    "b = gradient(X, Y, Theta)\n",
    "print(b)"
   ]
  },
  {
   "cell_type": "code",
   "execution_count": 9,
   "id": "c5297f49",
   "metadata": {},
   "outputs": [
    {
     "data": {
      "text/plain": [
       "0.9999999999999991"
      ]
     },
     "execution_count": 9,
     "metadata": {},
     "output_type": "execute_result"
    }
   ],
   "source": [
    "1 / (1 + np.exp(-34.62365962))"
   ]
  },
  {
   "cell_type": "code",
   "execution_count": null,
   "id": "f0089865",
   "metadata": {},
   "outputs": [],
   "source": []
  }
 ],
 "metadata": {
  "kernelspec": {
   "display_name": "Python 3 (ipykernel)",
   "language": "python",
   "name": "python3"
  },
  "language_info": {
   "codemirror_mode": {
    "name": "ipython",
    "version": 3
   },
   "file_extension": ".py",
   "mimetype": "text/x-python",
   "name": "python",
   "nbconvert_exporter": "python",
   "pygments_lexer": "ipython3",
   "version": "3.9.7"
  }
 },
 "nbformat": 4,
 "nbformat_minor": 5
}
