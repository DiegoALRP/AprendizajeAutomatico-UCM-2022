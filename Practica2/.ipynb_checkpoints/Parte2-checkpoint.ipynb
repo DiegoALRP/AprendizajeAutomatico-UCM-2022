{
 "cells": [
  {
   "cell_type": "code",
   "execution_count": 1,
   "id": "6d7ea3c9",
   "metadata": {},
   "outputs": [],
   "source": [
    "#Imports\n",
    "import numpy as np\n",
    "from pandas.io.parsers import read_csv\n",
    "import matplotlib.pyplot as plt\n",
    "from matplotlib.axes import Axes\n",
    "from mpl_toolkits.mplot3d import Axes3D\n",
    "from matplotlib import cm\n",
    "import math\n",
    "import scipy.optimize as opt"
   ]
  },
  {
   "cell_type": "code",
   "execution_count": 2,
   "id": "e1244784",
   "metadata": {},
   "outputs": [],
   "source": [
    "#Funcion que carga los datos\n",
    "def load_csv(filename):\n",
    "    valores = read_csv (filename, header=None).to_numpy()\n",
    "    return valores.astype(float)"
   ]
  },
  {
   "cell_type": "markdown",
   "id": "91e5a01c",
   "metadata": {},
   "source": [
    "# Regresión Logística Regularizada\n",
    "\n",
    "En este apartado se utilizará la regresión logística regularizada para encontrar una función que pueda predecir si un microchip pasará o no el control de calidad, a partir del resultado de los test a los que se somete a los microchips.\n",
    "\n",
    "\n",
    "Podemos observar que los datos no son linealmente separables:"
   ]
  },
  {
   "cell_type": "code",
   "execution_count": 3,
   "id": "d2dc23a5",
   "metadata": {},
   "outputs": [
    {
     "data": {
      "text/plain": [
       "<matplotlib.collections.PathCollection at 0x7f91e83357f0>"
      ]
     },
     "execution_count": 3,
     "metadata": {},
     "output_type": "execute_result"
    },
    {
     "data": {
      "image/png": "[encoded data removed]",
      "text/plain": [
       "<Figure size 432x288 with 1 Axes>"
      ]
     },
     "metadata": {
      "needs_background": "light"
     },
     "output_type": "display_data"
    }
   ],
   "source": [
    "data = load_csv('ex2data2.csv')\n",
    "\n",
    "#Obtencion de todas las columnas de la tabla menos la ultima columna\n",
    "X = data[:, :-1]\n",
    "np.shape(X)\n",
    "#Obtencion de la ultima columna de la tabla\n",
    "Y = data[:, -1]\n",
    "np.shape(Y)\n",
    "# Obtiene un vector con los indices de los ejemplos positivos\n",
    "pos = np.where(Y == 1)\n",
    "# Obtiene un vector con los indices de los ejemplos positivos\n",
    "pos2 = np.where(Y == 0)\n",
    "\n",
    "# Dibujo de los ejemplos positivos\n",
    "plt.scatter(X[pos, 0], X[pos, 1], marker='+', c='k')\n",
    "# Dibujo de los ejemplos positivos\n",
    "plt.scatter(X[pos2, 0], X[pos2, 1], marker='.', c='r')"
   ]
  },
  {
   "cell_type": "code",
   "execution_count": null,
   "id": "431da953",
   "metadata": {},
   "outputs": [],
   "source": []
  }
 ],
 "metadata": {
  "kernelspec": {
   "display_name": "Python 3 (ipykernel)",
   "language": "python",
   "name": "python3"
  },
  "language_info": {
   "codemirror_mode": {
    "name": "ipython",
    "version": 3
   },
   "file_extension": ".py",
   "mimetype": "text/x-python",
   "name": "python",
   "nbconvert_exporter": "python",
   "pygments_lexer": "ipython3",
   "version": "3.9.7"
  }
 },
 "nbformat": 4,
 "nbformat_minor": 5
}
