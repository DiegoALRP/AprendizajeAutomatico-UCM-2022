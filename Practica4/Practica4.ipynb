{
 "cells": [
  {
   "cell_type": "code",
   "execution_count": 1,
   "metadata": {},
   "outputs": [],
   "source": [
    "#Imports\n",
    "import numpy as np\n",
    "from pandas.io.parsers import read_csv\n",
    "import matplotlib.pyplot as plt\n",
    "from matplotlib.axes import Axes\n",
    "from mpl_toolkits.mplot3d import Axes3D\n",
    "from matplotlib import cm\n",
    "import math\n",
    "import scipy.optimize as opt\n",
    "from sklearn.preprocessing import PolynomialFeatures\n",
    "from scipy.io import loadmat\n",
    "from scipy.optimize import minimize\n",
    "\n",
    "import displayData as disp\n",
    "import checkNNGradients as grad\n",
    "RANDOM_STATE = 100"
   ]
  },
  {
   "cell_type": "markdown",
   "metadata": {},
   "source": [
    "### Función de coste (con y sin regularización) y sigmoide"
   ]
  },
  {
   "cell_type": "code",
   "execution_count": 2,
   "metadata": {},
   "outputs": [],
   "source": [
    "def func_coste_reg(Thetas, X, Y, lmb):\n",
    "    m = np.shape(X)[0]\n",
    "    return cost_funct(Y, X, m) + regularizacion(Thetas, lmb, m)\n",
    "\n",
    "def sigmoid_funct(z):\n",
    "    return 1.0 / (1.0 + np.exp(-z))\n",
    "\n",
    "def cost_funct(Y, g, m):\n",
    "    J = np.sum(-1.0*Y* np.log(g) -1.0*(1 - Y)* np.log(1-g))\n",
    "    return J/m\n",
    "\n",
    "def regularizacion(Thetas, lmb, m):\n",
    "    suma = 0\n",
    "    for i in Thetas:\n",
    "        i = i[:,1:]\n",
    "        suma += (np.sum(i**2))\n",
    "    \n",
    "    return (lmb/(2*m))*suma\n"
   ]
  },
  {
   "cell_type": "markdown",
   "metadata": {},
   "source": [
    "### Propagación hacia delante"
   ]
  },
  {
   "cell_type": "code",
   "execution_count": 3,
   "metadata": {},
   "outputs": [],
   "source": [
    "def forward_propagation(X, theta1, theta2, m, Y):\n",
    "    \n",
    "    #Capa entrada asignamos la X con los unos incluidos\n",
    "    a1 = np.hstack([np.ones([m, 1]), X])\n",
    "\n",
    "    #capa intermedia (hidden) calculamos las ecuaciones de la anterior, aplicamos la sigmoide e incluimos los unos de la neurona 0 \n",
    "    z2 = np.dot(a1, theta1.T)\n",
    "    a2 = np.hstack([np.ones([m, 1]), sigmoid_funct(z2)])\n",
    "\n",
    "    #Capa salida calcuamos las ecuaciones con theta2 y aplicamos la sigmoide, nos devuelve la matriz de salida 5000x10\n",
    "    z3 = np.dot(a2, theta2.T)\n",
    "    \n",
    "    a3 = sigmoid_funct(z3)\n",
    "    \n",
    "    return a1, z2, a2, z3, a3"
   ]
  },
  {
   "cell_type": "markdown",
   "metadata": {},
   "source": [
    "### Propagación hacia atrás"
   ]
  },
  {
   "cell_type": "code",
   "execution_count": 4,
   "metadata": {},
   "outputs": [],
   "source": [
    "\n",
    "def backprop(params_rn, num_entradas, num_ocultas, num_etiquetas, X, Y, reg):\n",
    "\n",
    "    #Recostruimos las Thetas\n",
    "    Theta1 = np.reshape(params_rn[:num_ocultas *(num_entradas + 1)],(num_ocultas, (num_entradas+1)))\n",
    "    Theta2 = np.reshape(params_rn[num_ocultas*(num_entradas + 1): ], (num_etiquetas,(num_ocultas+1)))\n",
    "    \n",
    "    m = X.shape[0]    \n",
    "    y_onehot = Y\n",
    "    \n",
    "    a1, z2, a2, z3, a3 = forward_propagation(X, Theta1, Theta2, m, y_onehot)\n",
    "    \n",
    "    #Calculamos el coste\n",
    "    coste = func_coste_reg([Theta1, Theta2], a3, y_onehot, reg)\n",
    "\n",
    "\n",
    "    d3 = a3 - y_onehot\n",
    "    d2 = np.matmul(Theta2.T,d3.T)*(a2*(1-a2)).T\n",
    "    \n",
    "    #Calculamos los gradientes no regularizados\n",
    "    G1 = np.matmul(d2[1:,:], a1)/m\n",
    "    G2 = np.matmul(d3.T,a2)/m\n",
    "    \n",
    "    #Calculamos los gradientes regularizados\n",
    "    G1 = G1 + ((reg*1.0)/m)*np.insert(Theta1[:, 1:], 0, 0, axis = 1)\n",
    "    G2 = G2 + ((reg*1.0)/m)*np.insert(Theta2[:, 1:], 0, 0, axis = 1)\n",
    "\n",
    "    #Ponemos los gradientes en forma de lista\n",
    "    gradientes = np.concatenate((G1, G2), axis = None)\n",
    "    \n",
    "    return coste, gradientes"
   ]
  },
  {
   "cell_type": "markdown",
   "metadata": {},
   "source": [
    "### Función que optimiza los pesos de la red neuronal"
   ]
  },
  {
   "cell_type": "code",
   "execution_count": 5,
   "metadata": {},
   "outputs": [],
   "source": [
    "#Genera los pesos aleatorios\n",
    "def RandomWeights(entradas, salidas, ini):\n",
    "    Theta = np.random.uniform(-ini, ini, size = (salidas,entradas+1))\n",
    "    return Theta"
   ]
  },
  {
   "cell_type": "code",
   "execution_count": 6,
   "metadata": {},
   "outputs": [],
   "source": [
    "def optimize_backprop_and_check (num_entradas, num_ocultas, num_etiquetas, reg, X, y_onehot, laps, Y, ini):\n",
    "    \n",
    "    #Inicializamos los pesos y los ponemos en forma de lista\n",
    "    Theta1 = RandomWeights(num_entradas, num_ocultas, ini)\n",
    "    Theta2 = RandomWeights(num_ocultas, num_etiquetas, ini)\n",
    "    pesos = np.concatenate((Theta1, Theta2), axis=None)\n",
    "\n",
    "    #Optimizamos\n",
    "    out = opt.minimize(fun = backprop, x0 = pesos, args = (num_entradas, num_ocultas, num_etiquetas, X, y_onehot, reg), method='TNC', jac = True, options = {'maxiter': laps})\n",
    "\n",
    "    #Reconstruimos las Thetas\n",
    "    Theta1 = out.x[:(num_ocultas*(num_entradas+1))].reshape(num_ocultas,(num_entradas+1))\n",
    "    Theta2 = out.x[(num_ocultas*(num_entradas+1)):].reshape(num_etiquetas,(num_ocultas+1))\n",
    "    \n",
    "    m = X.shape[0]\n",
    "    #Hacemos el forward propagation\n",
    "    a1, z2, a2, z3, a3 = forward_propagation(X, Theta1, Theta2, m, y_onehot)\n",
    "    \n",
    "    #Sacamos los aciertos\n",
    "    indexes = np.argmax(a3, axis=1)\n",
    "    acc = (np.sum(indexes == (Y))/m)*100\n",
    "    \n",
    "    print(\"Porcentaje aciertos: \", acc)\n",
    "    return acc"
   ]
  },
  {
   "cell_type": "markdown",
   "metadata": {},
   "source": [
    "### Punto de entrada (main)"
   ]
  },
  {
   "cell_type": "code",
   "execution_count": 13,
   "metadata": {},
   "outputs": [],
   "source": [
    "def main():\n",
    "    \n",
    "    data = loadmat (\"ex4data1.mat\")\n",
    "\n",
    "    #almacenamos los datos leídos en X e y\n",
    "    X = data['X']\n",
    "    m = X.shape[0]\n",
    "    #X = np.hstack([np.ones([m, 1]), X])\n",
    "    y = data['y']\n",
    "    y = np.ravel(y) \n",
    "    num_labels = 10\n",
    "    num_entries = np.shape(X)[1]\n",
    "    num_hiden_layers = 25\n",
    "\n",
    "    disp.displayImage(X[4])\n",
    "    \n",
    "    #Ponemos la y en forma onehot\n",
    "    y = y-1\n",
    "    y_onehot = np.zeros((m, num_labels))  # 5000 x 10\n",
    "    \n",
    "    for i in range(m):\n",
    "        y_onehot[i][y[i]] = 1\n",
    "    \n",
    "    #Cargamos los pesos de prueba \n",
    "    weights = loadmat(\"ex4weights.mat\")\n",
    "    theta1, theta2 = weights[\"Theta1\"], weights[\"Theta2\"]\n",
    "\n",
    "    reg = 1\n",
    "    a1, z2, a2, z3, a3 = forward_propagation(X, theta1, theta2, m, y_onehot)\n",
    "    \n",
    "    print(\"Coste no regularizado: \",cost_funct(y_onehot, a3, m))\n",
    "    print(\"Coste regularizado: \",func_coste_reg([theta1, theta2], a3,y_onehot, reg))\n",
    "    \n",
    "    #Check del gradiente con reg\n",
    "    print(grad.checkNNGradients(backprop, reg))\n",
    "    \n",
    "    \n",
    "    acc = optimize_backprop_and_check(num_entries, num_hiden_layers, num_labels, reg, X, y_onehot, 70, y, 0.12)\n",
    "   \n",
    "    #Pruebas\n",
    "    '''l = [0,0.05,0.1, 0.25, 0.5, 1,2 ,3 ,4, 5,10,20,100]\n",
    "    g = [30, 50, 70, 100, 200, 300]\n",
    "    for i in g:\n",
    "        print(\"iteraciones: \" ,i)\n",
    "        for j in range (0, 5):\n",
    "            acc = optimize_backprop_and_check(num_entries, num_hiden_layers, num_labels, reg, X, y_onehot, i, y, 0.12)\n",
    "            \n",
    "    for i in l:\n",
    "        print(\"Lambda: \" ,i)\n",
    "        for j in range (0, 5):\n",
    "            acc = optimize_backprop_and_check(num_entries, num_hiden_layers, num_labels, i, X, y_onehot, 70, y, 0.12)\n",
    "    '''\n",
    "    return acc"
   ]
  },
  {
   "cell_type": "code",
   "execution_count": 16,
   "metadata": {},
   "outputs": [
    {
     "name": "stdout",
     "output_type": "stream",
     "text": [
      "Coste no regularizado:  0.2876291651613189\n",
      "Coste regularizado:  0.38376985909092365\n",
      "grad shape:  (38,)\n",
      "num grad shape:  (38,)\n",
      "[ 5.49965629e-11  7.32747196e-13  8.82988127e-12  7.53046930e-12\n",
      " -6.08260664e-11  2.10970130e-12 -1.38742212e-11 -4.70332939e-11\n",
      " -9.29989974e-11  7.81530396e-12 -4.12793411e-11 -1.26643918e-10\n",
      " -2.40059500e-11  4.35645964e-12 -7.00919878e-12 -2.43030734e-11\n",
      "  2.15736456e-11  2.27595720e-13  7.55695506e-12  2.84505197e-11\n",
      "  6.25964836e-11  1.38673517e-11  4.06508160e-12  3.07234793e-12\n",
      "  1.58902475e-11  1.33972833e-11  6.93309299e-11  1.41544554e-11\n",
      "  7.86469501e-12  1.17110766e-11  1.64833147e-11  1.95246597e-11\n",
      "  7.32915950e-11  1.66865410e-11  6.33046393e-12  1.85329807e-11\n",
      "  1.79033732e-11  1.99839867e-11]\n",
      "Porcentaje aciertos:  93.76\n"
     ]
    },
    {
     "data": {
      "text/plain": [
       "93.76"
      ]
     },
     "execution_count": 16,
     "metadata": {},
     "output_type": "execute_result"
    },
    {
     "data": {
      "image/png": "[encoded data removed]",
      "text/plain": [
       "<Figure size 432x288 with 1 Axes>"
      ]
     },
     "metadata": {
      "needs_background": "light"
     },
     "output_type": "display_data"
    }
   ],
   "source": [
    "main()"
   ]
  },
  {
   "cell_type": "code",
   "execution_count": null,
   "metadata": {},
   "outputs": [],
   "source": []
  },
  {
   "cell_type": "code",
   "execution_count": null,
   "metadata": {},
   "outputs": [],
   "source": []
  }
 ],
 "metadata": {
  "kernelspec": {
   "display_name": "Python 3",
   "language": "python",
   "name": "python3"
  },
  "language_info": {
   "codemirror_mode": {
    "name": "ipython",
    "version": 3
   },
   "file_extension": ".py",
   "mimetype": "text/x-python",
   "name": "python",
   "nbconvert_exporter": "python",
   "pygments_lexer": "ipython3",
   "version": "3.8.3"
  }
 },
 "nbformat": 4,
 "nbformat_minor": 5
}
