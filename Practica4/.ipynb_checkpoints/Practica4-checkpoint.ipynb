{
 "cells": [
  {
   "cell_type": "code",
   "execution_count": 1,
   "id": "1e07f8da",
   "metadata": {},
   "outputs": [],
   "source": [
    "#Imports\n",
    "import numpy as np\n",
    "from pandas.io.parsers import read_csv\n",
    "import matplotlib.pyplot as plt\n",
    "from matplotlib.axes import Axes\n",
    "from mpl_toolkits.mplot3d import Axes3D\n",
    "from matplotlib import cm\n",
    "import math\n",
    "import scipy.optimize as opt\n",
    "from sklearn.preprocessing import PolynomialFeatures\n",
    "from scipy.io import loadmat"
   ]
  },
  {
   "cell_type": "code",
   "execution_count": 2,
   "id": "52b77e6d",
   "metadata": {},
   "outputs": [],
   "source": [
    "def main():\n",
    "    data = loadmat('ex4data1.mat')\n",
    "    y = data['y'].ravel() # (5000, 1) --> (5000,)\n",
    "    X = data['X']\n",
    "    \n",
    "    m = X.shape[0]\n",
    "    #A la matriz X le añadimos una columna que contiene únicamente 1s\n",
    "    X = np.hstack([np.ones([m, 1]), X])\n",
    "    \n",
    "    #m = len(y) Ya se calcula antes\n",
    "    input_size = X.shape[1]\n",
    "    num_labels = 10\n",
    "    \n",
    "    y = (y - 1)\n",
    "    y_onehot = np.zeros((m, num_labels))  # 5000 x 10\n",
    "    \n",
    "    for i in range(m):\n",
    "        y_onehot[i][y[i]] = 1\n",
    "        \n",
    "    print(m)"
   ]
  },
  {
   "cell_type": "code",
   "execution_count": 3,
   "id": "212ffd51",
   "metadata": {},
   "outputs": [
    {
     "name": "stdout",
     "output_type": "stream",
     "text": [
      "5000\n"
     ]
    }
   ],
   "source": [
    "main()"
   ]
  },
  {
   "cell_type": "markdown",
   "id": "98d2e29b",
   "metadata": {},
   "source": [
    "## Propagacion Hacia Adelante"
   ]
  },
  {
   "cell_type": "code",
   "execution_count": 4,
   "id": "94e3eac6",
   "metadata": {},
   "outputs": [],
   "source": [
    "#Función Sigmoide\n",
    "def sigmoid_funct(z):\n",
    "    return 1.0 / (1.0 + np.exp(-z))"
   ]
  },
  {
   "cell_type": "code",
   "execution_count": 5,
   "id": "2201a9d8",
   "metadata": {},
   "outputs": [],
   "source": [
    "# Función de Propagación hacia adelante\n",
    "def forward_propagation(X, theta1, theta2, m):\n",
    "    \"\"\"Revisar que la X tenga una columna adicional de 1s\"\"\"\n",
    "    #a1 = np.hstack([np.ones([m, 1]), X])\n",
    "    X = np.hstack([np.ones([m, 1]), X])\n",
    "    a1 = X\n",
    "    z2 = np.dot(a1, theta1.T)\n",
    "    a2 = np.hstack([np.ones([m, 1]), sigmoid_funct(z2)])\n",
    "    z3 = np.dot(a2, theta2.T)\n",
    "    a3 = sigmoid_funct(z3)\n",
    "    \n",
    "    return a1, a2, a3"
   ]
  },
  {
   "cell_type": "markdown",
   "id": "79fba6a9",
   "metadata": {},
   "source": [
    "## Funcion de Coste"
   ]
  },
  {
   "cell_type": "code",
   "execution_count": 6,
   "id": "8adadd30",
   "metadata": {},
   "outputs": [],
   "source": [
    "def cost_function(X, y, theta1, theta2, m):\n",
    "    a1, a2, h = forward_propagation(X, theta1, theta2, m)\n",
    "    return (1/m)*np.sum(-y*np.log(h) - (1-y)*np.log(1-h))"
   ]
  },
  {
   "cell_type": "markdown",
   "id": "e81fd48c",
   "metadata": {},
   "source": [
    "## Termino de Regularizacion"
   ]
  },
  {
   "cell_type": "code",
   "execution_count": 7,
   "id": "5955d81f",
   "metadata": {},
   "outputs": [],
   "source": [
    "#Recuerda que los pesos de los términos \n",
    "#independientes Θ(1) y Θ(2), que corresponden,\n",
    "#respectivamente, a la primera columna j,0 j,0\n",
    "#de la matriz Theta1 y la primera columna de la matriz Theta2,\n",
    "#no se incluyen en el cálculo del término de regularización.\n",
    "def regularization_term(X, y, theta1, theta2, reg):\n",
    "    #En el coste regularizado no se incluye la primera columna de theta1, ni la primera columna de theta2\n",
    "    a = np.sum(np.power(theta1[1:], 2))\n",
    "    b = np.sum(np.power(theta2[1:], 2))\n",
    "    \n",
    "    return reg/(2*m) * (a + b)\n",
    "#Recordar que hay que sumar este termino a la funcion de coste"
   ]
  },
  {
   "cell_type": "code",
   "execution_count": 8,
   "id": "f2e53f3d",
   "metadata": {},
   "outputs": [],
   "source": [
    "def main():\n",
    "    data = loadmat('ex4data1.mat')\n",
    "    y = data['y'].ravel() # (5000, 1) --> (5000,)\n",
    "    X = data['X']\n",
    "    \n",
    "    m = X.shape[0]\n",
    "    #A la matriz X le añadimos una columna que contiene únicamente 1s\n",
    "    X = np.hstack([np.ones([m, 1]), X])\n",
    "    \n",
    "    #m = len(y) Ya se calcula antes\n",
    "    input_size = X.shape[1]\n",
    "    num_labels = 10\n",
    "    \n",
    "    y = (y - 1)\n",
    "    y_onehot = np.zeros((m, num_labels))  # 5000 x 10\n",
    "    \n",
    "    for i in range(m):\n",
    "        y_onehot[i][y[i]] = 1\n",
    "        \n",
    "    # Cargamos el fichero que contiene los pesos\n",
    "    weights = loadmat(\"ex4weights.mat\")\n",
    "    theta1, theta2 = weights[\"Theta1\"], weights[\"Theta2\"]\n",
    "        \n",
    "    res = cost_function(X, y, theta1, theta2, m)\n",
    "    \n",
    "    print(res)\n",
    "    print(m)"
   ]
  },
  {
   "cell_type": "code",
   "execution_count": 9,
   "id": "2bdd1f45",
   "metadata": {},
   "outputs": [
    {
     "ename": "ValueError",
     "evalue": "operands could not be broadcast together with shapes (5000,) (5000,10) ",
     "output_type": "error",
     "traceback": [
      "\u001b[0;31m---------------------------------------------------------------------------\u001b[0m",
      "\u001b[0;31mValueError\u001b[0m                                Traceback (most recent call last)",
      "\u001b[0;32m/var/folders/5g/32qmkgbs0ynf64vm8b185ky40000gn/T/ipykernel_10837/451043146.py\u001b[0m in \u001b[0;36m<module>\u001b[0;34m\u001b[0m\n\u001b[0;32m----> 1\u001b[0;31m \u001b[0mmain\u001b[0m\u001b[0;34m(\u001b[0m\u001b[0;34m)\u001b[0m\u001b[0;34m\u001b[0m\u001b[0;34m\u001b[0m\u001b[0m\n\u001b[0m",
      "\u001b[0;32m/var/folders/5g/32qmkgbs0ynf64vm8b185ky40000gn/T/ipykernel_10837/734780306.py\u001b[0m in \u001b[0;36mmain\u001b[0;34m()\u001b[0m\n\u001b[1;32m     22\u001b[0m     \u001b[0mtheta1\u001b[0m\u001b[0;34m,\u001b[0m \u001b[0mtheta2\u001b[0m \u001b[0;34m=\u001b[0m \u001b[0mweights\u001b[0m\u001b[0;34m[\u001b[0m\u001b[0;34m\"Theta1\"\u001b[0m\u001b[0;34m]\u001b[0m\u001b[0;34m,\u001b[0m \u001b[0mweights\u001b[0m\u001b[0;34m[\u001b[0m\u001b[0;34m\"Theta2\"\u001b[0m\u001b[0;34m]\u001b[0m\u001b[0;34m\u001b[0m\u001b[0;34m\u001b[0m\u001b[0m\n\u001b[1;32m     23\u001b[0m \u001b[0;34m\u001b[0m\u001b[0m\n\u001b[0;32m---> 24\u001b[0;31m     \u001b[0mres\u001b[0m \u001b[0;34m=\u001b[0m \u001b[0mcost_function\u001b[0m\u001b[0;34m(\u001b[0m\u001b[0mX\u001b[0m\u001b[0;34m,\u001b[0m \u001b[0my\u001b[0m\u001b[0;34m,\u001b[0m \u001b[0mtheta1\u001b[0m\u001b[0;34m,\u001b[0m \u001b[0mtheta2\u001b[0m\u001b[0;34m,\u001b[0m \u001b[0mm\u001b[0m\u001b[0;34m)\u001b[0m\u001b[0;34m\u001b[0m\u001b[0;34m\u001b[0m\u001b[0m\n\u001b[0m\u001b[1;32m     25\u001b[0m \u001b[0;34m\u001b[0m\u001b[0m\n\u001b[1;32m     26\u001b[0m     \u001b[0mprint\u001b[0m\u001b[0;34m(\u001b[0m\u001b[0mres\u001b[0m\u001b[0;34m)\u001b[0m\u001b[0;34m\u001b[0m\u001b[0;34m\u001b[0m\u001b[0m\n",
      "\u001b[0;32m/var/folders/5g/32qmkgbs0ynf64vm8b185ky40000gn/T/ipykernel_10837/2842311482.py\u001b[0m in \u001b[0;36mcost_function\u001b[0;34m(X, y, theta1, theta2, m)\u001b[0m\n\u001b[1;32m      1\u001b[0m \u001b[0;32mdef\u001b[0m \u001b[0mcost_function\u001b[0m\u001b[0;34m(\u001b[0m\u001b[0mX\u001b[0m\u001b[0;34m,\u001b[0m \u001b[0my\u001b[0m\u001b[0;34m,\u001b[0m \u001b[0mtheta1\u001b[0m\u001b[0;34m,\u001b[0m \u001b[0mtheta2\u001b[0m\u001b[0;34m,\u001b[0m \u001b[0mm\u001b[0m\u001b[0;34m)\u001b[0m\u001b[0;34m:\u001b[0m\u001b[0;34m\u001b[0m\u001b[0;34m\u001b[0m\u001b[0m\n\u001b[1;32m      2\u001b[0m     \u001b[0ma1\u001b[0m\u001b[0;34m,\u001b[0m \u001b[0ma2\u001b[0m\u001b[0;34m,\u001b[0m \u001b[0mh\u001b[0m \u001b[0;34m=\u001b[0m \u001b[0mforward_propagation\u001b[0m\u001b[0;34m(\u001b[0m\u001b[0mX\u001b[0m\u001b[0;34m,\u001b[0m \u001b[0mtheta1\u001b[0m\u001b[0;34m,\u001b[0m \u001b[0mtheta2\u001b[0m\u001b[0;34m,\u001b[0m \u001b[0mm\u001b[0m\u001b[0;34m)\u001b[0m\u001b[0;34m\u001b[0m\u001b[0;34m\u001b[0m\u001b[0m\n\u001b[0;32m----> 3\u001b[0;31m     \u001b[0;32mreturn\u001b[0m \u001b[0;34m(\u001b[0m\u001b[0;36m1\u001b[0m\u001b[0;34m/\u001b[0m\u001b[0mm\u001b[0m\u001b[0;34m)\u001b[0m\u001b[0;34m*\u001b[0m\u001b[0mnp\u001b[0m\u001b[0;34m.\u001b[0m\u001b[0msum\u001b[0m\u001b[0;34m(\u001b[0m\u001b[0;34m-\u001b[0m\u001b[0my\u001b[0m\u001b[0;34m*\u001b[0m\u001b[0mnp\u001b[0m\u001b[0;34m.\u001b[0m\u001b[0mlog\u001b[0m\u001b[0;34m(\u001b[0m\u001b[0mh\u001b[0m\u001b[0;34m)\u001b[0m \u001b[0;34m-\u001b[0m \u001b[0;34m(\u001b[0m\u001b[0;36m1\u001b[0m\u001b[0;34m-\u001b[0m\u001b[0my\u001b[0m\u001b[0;34m)\u001b[0m\u001b[0;34m*\u001b[0m\u001b[0mnp\u001b[0m\u001b[0;34m.\u001b[0m\u001b[0mlog\u001b[0m\u001b[0;34m(\u001b[0m\u001b[0;36m1\u001b[0m\u001b[0;34m-\u001b[0m\u001b[0mh\u001b[0m\u001b[0;34m)\u001b[0m\u001b[0;34m)\u001b[0m\u001b[0;34m\u001b[0m\u001b[0;34m\u001b[0m\u001b[0m\n\u001b[0m",
      "\u001b[0;31mValueError\u001b[0m: operands could not be broadcast together with shapes (5000,) (5000,10) "
     ]
    }
   ],
   "source": [
    "main()"
   ]
  },
  {
   "cell_type": "code",
   "execution_count": null,
   "id": "9afc49d4",
   "metadata": {},
   "outputs": [],
   "source": []
  }
 ],
 "metadata": {
  "kernelspec": {
   "display_name": "Python 3 (ipykernel)",
   "language": "python",
   "name": "python3"
  },
  "language_info": {
   "codemirror_mode": {
    "name": "ipython",
    "version": 3
   },
   "file_extension": ".py",
   "mimetype": "text/x-python",
   "name": "python",
   "nbconvert_exporter": "python",
   "pygments_lexer": "ipython3",
   "version": "3.9.7"
  }
 },
 "nbformat": 4,
 "nbformat_minor": 5
}
