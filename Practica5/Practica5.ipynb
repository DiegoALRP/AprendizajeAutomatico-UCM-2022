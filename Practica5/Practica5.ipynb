{
 "cells": [
  {
   "cell_type": "code",
   "execution_count": 1,
   "metadata": {},
   "outputs": [],
   "source": [
    "#Imports\n",
    "import numpy as np\n",
    "from scipy.io import loadmat\n",
    "import scipy.optimize as opt\n",
    "import matplotlib.pyplot as plt\n",
    "from scipy.optimize import minimize"
   ]
  },
  {
   "cell_type": "code",
   "execution_count": 2,
   "metadata": {},
   "outputs": [],
   "source": [
    "#Funcion de la Hipotesis\n",
    "def h_vec(x, theta):\n",
    "    return np.dot(x, theta)"
   ]
  },
  {
   "cell_type": "code",
   "execution_count": 3,
   "metadata": {},
   "outputs": [],
   "source": [
    "# Funcion de coste\n",
    "def cost_funct(Theta, X, y, Lambda):\n",
    "    m = X.shape[0]\n",
    "    J = cost(Theta, X, y ,m)\n",
    "\n",
    "    reg_term = np.sum(Theta[1:]**2)\n",
    "    reg_term = (reg_term*Lambda)/(2*m)\n",
    "    J = J + reg_term\n",
    "    \n",
    "    return J"
   ]
  },
  {
   "cell_type": "code",
   "execution_count": 4,
   "metadata": {},
   "outputs": [],
   "source": [
    "#Función que calcula el error cuadrático medio, se usa en el coste y en las prueba de training y validación\n",
    "def cost(Theta, X, y, m):\n",
    "    h = h_vec(X, Theta)\n",
    "    J = np.sum((h - y)**2)\n",
    "    J = J/(2*m)\n",
    "    return J"
   ]
  },
  {
   "cell_type": "code",
   "execution_count": 5,
   "metadata": {},
   "outputs": [],
   "source": [
    "#Función de gradiente regularizada\n",
    "def gradient_funct(Theta, X, y, Lambda):\n",
    "\n",
    "    m = np.shape(X)[0]\n",
    "    h = h_vec(X, Theta)\n",
    "    grad = np.dot(X.T, h - y)\n",
    "    grad = grad/m\n",
    "    reg_term = (Lambda/m)*np.insert(Theta[1:],0,0)\n",
    "    grad = grad + reg_term\n",
    "\n",
    "    return grad"
   ]
  },
  {
   "cell_type": "code",
   "execution_count": 6,
   "metadata": {},
   "outputs": [],
   "source": [
    "#coste y gradiente que se le pasa al optimize\n",
    "def cost_and_gradient(Theta, X, y, Lambda):\n",
    "    return cost_funct(Theta, X, y, Lambda), gradient_funct(Theta, X, y, Lambda)"
   ]
  },
  {
   "cell_type": "markdown",
   "metadata": {},
   "source": [
    "# Apartado 1. Regresión Lineal Regularizada"
   ]
  },
  {
   "cell_type": "code",
   "execution_count": 7,
   "metadata": {},
   "outputs": [],
   "source": [
    "def draw_graph(Theta, X_ones, X, y):\n",
    "    plt.scatter(X, y, marker = 'x', c = 'red', label=\"Entry\")\n",
    "    y = h_vec(X_ones, Theta)\n",
    "    plt.plot(X, y, c='blue')\n",
    "    plt.savefig(\"Apartado1.png\")\n",
    "    plt.legend()\n",
    "    \n",
    "    plt.show()\n",
    "    "
   ]
  },
  {
   "cell_type": "code",
   "execution_count": 8,
   "metadata": {},
   "outputs": [],
   "source": [
    "def main_parte1():\n",
    "    #Cargamos los datos del fichero \"ex5data1.mat'\n",
    "    datafile = 'ex5data1.mat'\n",
    "    mat = loadmat(datafile)\n",
    "    X = mat.get(\"X\")\n",
    "    y = mat.get(\"y\")\n",
    "    #Ponemos la y en forma de fila\n",
    "    y = y[:, -1]\n",
    "    \n",
    "    Lambda = 1\n",
    "    X_ones = np.hstack((np.ones(shape=(X.shape[0], 1)), X))\n",
    "    \n",
    "    Theta = np.ones(X_ones.shape[1])\n",
    "    \n",
    "    cost = cost_funct(Theta, X_ones, y, Lambda)\n",
    "    grad = gradient_funct(Theta, X_ones, y, Lambda)\n",
    "    m = np.shape(X)[0]\n",
    "    \n",
    "    print(\"cost:\", cost)\n",
    "    print(\"grad:\", grad)\n",
    "    \n",
    "    #result = opt.fmin_tnc(func=cost_funct, x0=Theta, fprime=gradient_funct, args=(X, y, Lambda))\n",
    "    result = opt.minimize(cost_and_gradient, Theta, args=(X_ones, y, Lambda), jac=True, method='TNC')\n",
    "    print(result)\n",
    "    #ThetaOpt = result[0]\n",
    "    ThetaOpt = result.x\n",
    "\n",
    "    draw_graph(ThetaOpt, X_ones,X, y)"
   ]
  },
  {
   "cell_type": "code",
   "execution_count": 9,
   "metadata": {},
   "outputs": [
    {
     "name": "stdout",
     "output_type": "stream",
     "text": [
      "cost: 303.9931922202643\n",
      "grad: [-15.30301567 598.25074417]\n",
      "     fun: 22.379541822940265\n",
      "     jac: array([1.25341733e-08, 8.56473651e-08])\n",
      " message: 'Local minimum reached (|pg| ~= 0)'\n",
      "    nfev: 7\n",
      "     nit: 3\n",
      "  status: 0\n",
      " success: True\n",
      "       x: array([13.08771417,  0.367742  ])\n"
     ]
    },
    {
     "data": {
      "image/png": "[encoded data removed]",
      "text/plain": [
       "<Figure size 432x288 with 1 Axes>"
      ]
     },
     "metadata": {
      "needs_background": "light"
     },
     "output_type": "display_data"
    }
   ],
   "source": [
    "main_parte1()"
   ]
  },
  {
   "cell_type": "markdown",
   "metadata": {},
   "source": [
    "# Apartado 2.  Curvas de aprendizaje"
   ]
  },
  {
   "cell_type": "code",
   "execution_count": 10,
   "metadata": {},
   "outputs": [],
   "source": [
    "def learning_curve(X, y, Lambda, Theta, Xval, yval):\n",
    "    \n",
    "    m1 = X.shape[0]\n",
    "    m2 = Xval.shape[0]\n",
    "    #Inicializamos la lista de los errores a 0\n",
    "    err1 = np.zeros(m1)\n",
    "    err2 = np.zeros(m2)\n",
    "    \n",
    "    for i in range(1, X.shape[0] + 1):\n",
    "        result = opt.minimize(cost_and_gradient, Theta, args=(X[0:i], y[0:i], Lambda), jac=True, method='TNC')\n",
    "        ThetasOpt = result.x\n",
    "        \n",
    "        #Añadimos el error para X e y de entrenamiento \n",
    "        err1[i - 1] = cost(ThetasOpt, X[0:i], y[0:i], m1)\n",
    "        #Añadimos el error para X e y del crossvalidation\n",
    "        err2[i - 1] = cost(ThetasOpt, Xval, yval, m2)\n",
    "        \n",
    "    return err1, err2"
   ]
  },
  {
   "cell_type": "code",
   "execution_count": 11,
   "metadata": {},
   "outputs": [],
   "source": [
    "def draw_learning_curve(err1, err2, title):\n",
    "    l = np.arange(len(err1))\n",
    "    l = l+1\n",
    "    b = err1\n",
    "    plt.title(title)\n",
    "    plt.xlabel(\"Cantidad datos\")\n",
    "    plt.ylabel(\"error\")\n",
    "    plt.plot(l, b, c=\"blue\", label=\"Train\")\n",
    "    \n",
    "    d = err2[0:len(err1)]\n",
    "    plt.plot(l, d, c=\"orange\", label=\"Cross Validation\")\n",
    "    plt.legend()"
   ]
  },
  {
   "cell_type": "code",
   "execution_count": 12,
   "metadata": {},
   "outputs": [],
   "source": [
    "def main_part2():\n",
    "    #Cargamos los datos del fichero \"ex5data1.mat'\n",
    "    datafile = 'ex5data1.mat'\n",
    "    mat = loadmat(datafile)\n",
    "    X = mat.get(\"X\")\n",
    "    y = mat.get(\"y\")\n",
    "    y = y[:, -1]\n",
    "    Xval = mat.get(\"Xval\")\n",
    "    yval = mat.get(\"yval\")\n",
    "    yval = yval[:, -1]\n",
    "    \n",
    "    print(X.shape, y.shape)\n",
    "    print(Xval.shape, yval.shape)\n",
    "    \n",
    "    print(np.mean(X), np.std(X))\n",
    "    print(np.mean(y), np.std(y))\n",
    "\n",
    "    Lambda = 0\n",
    "    X_ones = np.hstack((np.ones(shape=(X.shape[0], 1)), X))\n",
    "    Xval_ones = np.hstack((np.ones(shape=(Xval.shape[0],1)),Xval))\n",
    "    Theta = np.zeros(X_ones.shape[1])\n",
    "    \n",
    "    cost = cost_funct(Theta, X_ones, y, Lambda)\n",
    "    grad = gradient_funct(Theta, X_ones, y, Lambda)\n",
    "    \n",
    "    print(\"cost:\", cost)\n",
    "    print(\"grad:\", grad)\n",
    "    \n",
    "    res_error = opt.minimize(cost_and_gradient, Theta, args=(X_ones, y, Lambda), jac=True, method='TNC')\n",
    "    print(res_error)\n",
    "    ThetaOpt = res_error.x\n",
    "    \n",
    "    err1, err2 = learning_curve(X_ones, y, Lambda, Theta, Xval_ones, yval)\n",
    "    draw_learning_curve(err1, err2,\"\")\n",
    "\n",
    "    plt.savefig(\"Apartado2.png\")\n",
    "    plt.show()"
   ]
  },
  {
   "cell_type": "code",
   "execution_count": 13,
   "metadata": {},
   "outputs": [
    {
     "name": "stdout",
     "output_type": "stream",
     "text": [
      "(12, 1) (12,)\n",
      "(21, 1) (21,)\n",
      "-5.085426348834809 28.68873075847896\n",
      "11.217589325366376 12.492955274415026\n",
      "cost: 140.95412088055392\n",
      "grad: [ -11.21758933 -245.65199649]\n",
      "     fun: 22.373906495108912\n",
      "     jac: array([1.91617699e-09, 1.63958191e-08])\n",
      " message: 'Local minimum reached (|pg| ~= 0)'\n",
      "    nfev: 9\n",
      "     nit: 4\n",
      "  status: 0\n",
      " success: True\n",
      "       x: array([13.08790351,  0.36777923])\n"
     ]
    },
    {
     "data": {
      "image/png": "[encoded data removed]",
      "text/plain": [
       "<Figure size 432x288 with 1 Axes>"
      ]
     },
     "metadata": {
      "needs_background": "light"
     },
     "output_type": "display_data"
    }
   ],
   "source": [
    "main_part2()"
   ]
  },
  {
   "cell_type": "markdown",
   "metadata": {},
   "source": [
    "# Apartado 3.  Regresión polinomial"
   ]
  },
  {
   "cell_type": "code",
   "execution_count": 14,
   "metadata": {},
   "outputs": [],
   "source": [
    "def generate_new_training_data(X, p):\n",
    "    newX = X\n",
    "    for i in range(2, p + 1):\n",
    "        #newX = np.hstack([newX, X ** i])\n",
    "        newX = np.column_stack([newX, X ** i])\n",
    "    return newX"
   ]
  },
  {
   "cell_type": "code",
   "execution_count": 15,
   "metadata": {},
   "outputs": [],
   "source": [
    "def normalize_attributes(X, mean, std_des):\n",
    "    X_norm = X - mean\n",
    "    X_norm = X_norm / std_des\n",
    "    return X_norm"
   ]
  },
  {
   "cell_type": "code",
   "execution_count": 16,
   "metadata": {},
   "outputs": [],
   "source": [
    "def draw_points(X, y, p, mean, std_des, result):\n",
    "    # Pintamos grafica\n",
    "    plt.figure()\n",
    "    plt.plot(X, y, \"x\", color='red')\n",
    "    lineX = np.arange(np.min(X) - 5,np.max(X) + 6,0.05)\n",
    "    aux_x = (generate_new_training_data(lineX, p) - mean) / std_des\n",
    "    lineY = np.hstack([np.ones([len(aux_x),1]),aux_x]).dot(result.x)\n",
    "    plt.plot(lineX, lineY, '-', c = 'blue')\n",
    "    plt.savefig(\"Apartado3.1.png\")\n",
    "    plt.show()\n",
    "    \n",
    "    plt.close()\n",
    "    #draw_graph(ThetaOpt, X, y, result, newX)"
   ]
  },
  {
   "cell_type": "code",
   "execution_count": 17,
   "metadata": {},
   "outputs": [],
   "source": [
    "def main_parte3():\n",
    "    \n",
    "    #Cargamos los datos del fichero \"ex5data1.mat'\n",
    "    datafile = 'ex5data1.mat'\n",
    "    mat = loadmat(datafile)\n",
    "    \n",
    "    #Cargamos los datos de entranamiento y validación para la X y la y\n",
    "    X = mat.get(\"X\")\n",
    "    y = mat.get(\"y\")\n",
    "    y = y[:, -1]\n",
    "    Xval = mat.get(\"Xval\")\n",
    "    yval = mat.get(\"yval\")\n",
    "    yval = yval[:, -1]\n",
    "    \n",
    "    print(X.shape, y.shape)\n",
    "    print(Xval.shape, yval.shape)\n",
    "    \n",
    "    print(np.mean(X), np.std(X))\n",
    "    print(np.mean(y), np.std(y))\n",
    "\n",
    "    Lambda = 0\n",
    "    #Grado del polinomio\n",
    "    p = 8\n",
    "    \n",
    "    #Se genera nuevos datos de entrenamiento a partir de los datos originales X\n",
    "    newX = generate_new_training_data(X, p)\n",
    "    #Media\n",
    "    mean = np.mean(newX, axis = 0)\n",
    "    #Desviacion Estandar\n",
    "    std_des = np.std(newX, axis = 0)\n",
    "    #Se normalizan los atributos\n",
    "    X_norm = normalize_attributes(newX, mean, std_des)\n",
    "    #Se añade columna de 1s\n",
    "    newX = np.hstack([np.ones([X_norm.shape[0], 1]), X_norm])\n",
    "    #Tambien se puede escribir: newX = np.insert(X_norm, 0, 1, axis=1)\n",
    "    #print(\"newX:\", newX)\n",
    "    \n",
    "    Theta = np.zeros(newX.shape[1])\n",
    "\n",
    "    \n",
    "    #result = opt.fmin_tnc(func=cost_funct, x0=Theta, fprime=gradient_funct, args=(newX, y, Lambda))\n",
    "    result = opt.minimize(cost_and_gradient, Theta, args=(newX, y, Lambda), jac=True, method='TNC')\n",
    "    \n",
    "    draw_points(X, y, p, mean, std_des, result)\n",
    "    \n",
    "    \n",
    "    #Apartado 3.2\n",
    "    \n",
    "    #Se genera nuevos datos de VALIDACION a partir de los datos originales Xval\n",
    "    newXval = generate_new_training_data(Xval, p)\n",
    "    #Media\n",
    "    mean_val = np.mean(newXval, axis = 0)\n",
    "    #Desviacion Estandar\n",
    "    std_des_val = np.std(newXval, axis = 0)\n",
    "    #Se normalizan los atributos\n",
    "    X_norm_val = normalize_attributes(newXval, mean, std_des)\n",
    "    #Se añade columna de 1s\n",
    "    newXval = np.hstack([np.ones([X_norm_val.shape[0], 1]), X_norm_val])\n",
    "    #newXval = X_norm_val\n",
    "    \n",
    "    #print(\"newX\", newX)\n",
    "    #print(\"newXval\", newXval)\n",
    "    \n",
    "    err1, err2 = learning_curve(newX, y, Lambda, Theta, newXval, yval)\n",
    "    draw_learning_curve(err1, err2, \"Lambda 0\")\n",
    "    plt.savefig(\"Apartado3.2.png\")\n",
    "    plt.show()\n",
    "    \n",
    "    \n",
    "    #Apartado 3.2 tests lambda= 1, lambda= 100\n",
    "    \n",
    "    Lambda = 1\n",
    "\n",
    "    err1, err2 = learning_curve(newX, y, Lambda, Theta, newXval, yval)\n",
    "    draw_learning_curve(err1, err2, \"Lambda 1\")\n",
    "    plt.savefig(\"Apartado3.2_2.png\")\n",
    "    plt.show()\n",
    "    \n",
    "    Lambda = 100\n",
    "\n",
    "    err1, err2 = learning_curve(newX, y, Lambda, Theta, newXval, yval)\n",
    "    draw_learning_curve(err1, err2, \"Lambda 100\")\n",
    "    plt.savefig(\"Apartado3.2_3.png\")\n",
    "    plt.show()\n",
    "    "
   ]
  },
  {
   "cell_type": "code",
   "execution_count": 18,
   "metadata": {},
   "outputs": [
    {
     "name": "stdout",
     "output_type": "stream",
     "text": [
      "(12, 1) (12,)\n",
      "(21, 1) (21,)\n",
      "-5.085426348834809 28.68873075847896\n",
      "11.217589325366376 12.492955274415026\n"
     ]
    },
    {
     "data": {
      "image/png": "[encoded data removed]",
      "text/plain": [
       "<Figure size 432x288 with 1 Axes>"
      ]
     },
     "metadata": {
      "needs_background": "light"
     },
     "output_type": "display_data"
    },
    {
     "data": {
      "image/png": "[encoded data removed]",
      "text/plain": [
       "<Figure size 432x288 with 1 Axes>"
      ]
     },
     "metadata": {
      "needs_background": "light"
     },
     "output_type": "display_data"
    },
    {
     "data": {
      "image/png": "[encoded data removed]",
      "text/plain": [
       "<Figure size 432x288 with 1 Axes>"
      ]
     },
     "metadata": {
      "needs_background": "light"
     },
     "output_type": "display_data"
    },
    {
     "data": {
      "image/png": "[encoded data removed]",
      "text/plain": [
       "<Figure size 432x288 with 1 Axes>"
      ]
     },
     "metadata": {
      "needs_background": "light"
     },
     "output_type": "display_data"
    }
   ],
   "source": [
    "main_parte3()"
   ]
  },
  {
   "cell_type": "markdown",
   "metadata": {},
   "source": [
    "# Apartado 4.  Regresión polinomial"
   ]
  },
  {
   "cell_type": "code",
   "execution_count": 19,
   "metadata": {},
   "outputs": [],
   "source": [
    "def cal_func_lambdas(Lambdas, newX, newXval, y, yval, name):\n",
    "    training = np.zeros((Lambdas.shape[0], 1))\n",
    "    validation = np.zeros((Lambdas.shape[0], 1))\n",
    "    \n",
    "    i = 0\n",
    "    for Lambda in Lambdas:\n",
    "        \n",
    "        Theta = np.zeros(newX.shape[1])\n",
    "        result = opt.minimize(cost_and_gradient, Theta, args=(newX, y, Lambda), jac=True, method='TNC')\n",
    "        #result = opt.fmin_tnc(func=cost_funct, x0=Theta, fprime=gradient_funct, args=(newX, y, Lambda))\n",
    "        \n",
    "        ThetaOpt = result.x\n",
    "\n",
    "        training[i] = cost(ThetaOpt, newX, y, newX.shape[0])\n",
    "        validation[i] = cost(ThetaOpt, newXval, yval, newXval.shape[0])\n",
    "        i = i + 1\n",
    "    \n",
    "    plt.figure()\n",
    "    \n",
    "    plt.xlabel(\"Lambda\")\n",
    "    plt.ylabel(\"error\")\n",
    "    \n",
    "    plt.plot(Lambdas,training, label=\"Entrenamiento\")\n",
    "    plt.plot(Lambdas,validation, label=\"Validacion\")\n",
    "    plt.savefig(name)\n",
    "    plt.legend()\n",
    "    plt.show()\n",
    "    \n",
    "    plt.close()"
   ]
  },
  {
   "cell_type": "code",
   "execution_count": 20,
   "metadata": {},
   "outputs": [],
   "source": [
    "def main_parte4():\n",
    "    \n",
    "    #Cargamos los datos del fichero \"ex5data1.mat'\n",
    "    datafile = 'ex5data1.mat'\n",
    "    mat = loadmat(datafile)\n",
    "    \n",
    "    X = mat.get(\"X\")\n",
    "    y = mat.get(\"y\")\n",
    "    y = y[:, -1]\n",
    "    Xval = mat.get(\"Xval\")\n",
    "    yval = mat.get(\"yval\")\n",
    "    yval = yval[:, -1]\n",
    "    Xtest = mat.get(\"Xtest\")\n",
    "    ytest = mat.get(\"ytest\")\n",
    "    ytest = ytest[:, -1]\n",
    "\n",
    "    Lambda = 0\n",
    "    #Grado del polinomio\n",
    "    p = 8\n",
    "    \n",
    "    #Se genera nuevos datos de entrenamiento a partir de los datos originales X\n",
    "    newX = generate_new_training_data(X, p)\n",
    "    #Media\n",
    "    mean = np.mean(newX, axis = 0)\n",
    "    #Desviacion Estandar\n",
    "    std_des = np.std(newX, axis = 0)\n",
    "    #Se normalizan los atributos\n",
    "    X_norm = normalize_attributes(newX, mean, std_des)\n",
    "    #Se añade columna de 1s\n",
    "    newX = np.hstack([np.ones([X_norm.shape[0], 1]), X_norm])\n",
    "    \n",
    "    #Se genera nuevos datos de VALIDACION a partir de los datos originales Xval\n",
    "    newXval = generate_new_training_data(Xval, p)\n",
    "    #Se normalizan los atributos\n",
    "    X_norm_val = normalize_attributes(newXval, mean, std_des)\n",
    "    #Se añade columna de 1s\n",
    "    newXval = np.hstack([np.ones([X_norm_val.shape[0], 1]), X_norm_val])\n",
    "    #newXval = X_norm_val\n",
    "    \n",
    "    #Se genera nuevos datos de TEST a partir de los datos originales Xtest\n",
    "    newXtest = generate_new_training_data(Xtest, p)\n",
    "    #Se normalizan los atributos\n",
    "    X_norm_test = normalize_attributes(newXtest, mean, std_des)\n",
    "    #Se añade columna de 1s\n",
    "    newXtest = np.hstack([np.ones([X_norm_test.shape[0], 1]), X_norm_test])\n",
    "    \n",
    "    \n",
    "    #Apartado 4.1\n",
    "    Lambdas = np.array([0, 0.001, 0.003, 0.01, 0.03, 0.1, 0.3, 1, 3, 10])\n",
    "    LambdasTest = np.array([2.5, 3,3.5, 4, 4.5 ,5])\n",
    "    \n",
    "    cal_func_lambdas(Lambdas, newX, newXval, y, yval, \"figure4.1_1.png\")\n",
    "    \n",
    "    cal_func_lambdas(LambdasTest, newX, newXval, y, yval, \"figure4.1_2.png\")\n",
    "    \n",
    "    #Sacamos la gráfica para lamdba= 3\n",
    "    Lambda = 3\n",
    "    Theta = np.zeros(newX.shape[1])\n",
    "    err1, err2 = learning_curve(newX, y, Lambda, Theta, newXval, yval)\n",
    "    draw_learning_curve(err1, err2, \"Lambda 3\")\n",
    "    plt.savefig(\"Apartado4_1_lambda3.png\")\n",
    "    plt.show()\n",
    "    \n",
    "    #Apartado 4.2\n",
    "   \n",
    "    Theta = np.zeros(newX.shape[1])\n",
    "    Lambda_3 = 3\n",
    "    res_error = opt.minimize(cost_and_gradient, Theta, args=(newX, y, Lambda_3), jac=True, method='TNC')\n",
    "\n",
    "    m=  newXtest.shape[0]\n",
    "\n",
    "    res_cost = cost(res_error.x, newXtest, ytest, m)\n",
    "    \n",
    "    print(res_cost)\n",
    "    "
   ]
  },
  {
   "cell_type": "code",
   "execution_count": 21,
   "metadata": {},
   "outputs": [
    {
     "data": {
      "image/png": "[encoded data removed]",
      "text/plain": [
       "<Figure size 432x288 with 1 Axes>"
      ]
     },
     "metadata": {
      "needs_background": "light"
     },
     "output_type": "display_data"
    },
    {
     "data": {
      "image/png": "[encoded data removed]",
      "text/plain": [
       "<Figure size 432x288 with 1 Axes>"
      ]
     },
     "metadata": {
      "needs_background": "light"
     },
     "output_type": "display_data"
    },
    {
     "data": {
      "image/png": "[encoded data removed]",
      "text/plain": [
       "<Figure size 432x288 with 1 Axes>"
      ]
     },
     "metadata": {
      "needs_background": "light"
     },
     "output_type": "display_data"
    },
    {
     "name": "stdout",
     "output_type": "stream",
     "text": [
      "3.572047186128942\n"
     ]
    }
   ],
   "source": [
    "main_parte4()"
   ]
  },
  {
   "cell_type": "code",
   "execution_count": null,
   "metadata": {},
   "outputs": [],
   "source": []
  }
 ],
 "metadata": {
  "kernelspec": {
   "display_name": "Python 3",
   "language": "python",
   "name": "python3"
  },
  "language_info": {
   "codemirror_mode": {
    "name": "ipython",
    "version": 3
   },
   "file_extension": ".py",
   "mimetype": "text/x-python",
   "name": "python",
   "nbconvert_exporter": "python",
   "pygments_lexer": "ipython3",
   "version": "3.8.3"
  }
 },
 "nbformat": 4,
 "nbformat_minor": 5
}
