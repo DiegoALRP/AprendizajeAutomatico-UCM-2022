{
 "cells": [
  {
   "cell_type": "code",
   "execution_count": 1,
   "id": "0b6b3e23",
   "metadata": {},
   "outputs": [],
   "source": [
    "#Imports\n",
    "import numpy as np\n",
    "from scipy.io import loadmat\n",
    "import scipy.optimize as opt\n",
    "import matplotlib.pyplot as plt\n",
    "from scipy.optimize import minimize"
   ]
  },
  {
   "cell_type": "markdown",
   "id": "4d12b585",
   "metadata": {},
   "source": [
    "# Apartado 1. Regresión Lineal Regularizada"
   ]
  },
  {
   "cell_type": "code",
   "execution_count": 2,
   "id": "140bfe0b",
   "metadata": {},
   "outputs": [],
   "source": [
    "#Funcion de la Hipotesis\n",
    "def h_vec(x, theta):\n",
    "    return np.dot(x, theta)"
   ]
  },
  {
   "cell_type": "code",
   "execution_count": 3,
   "id": "d1dce025",
   "metadata": {},
   "outputs": [],
   "source": [
    "#Hipotesis\n",
    "def hipotesis(X, Theta):\n",
    "    return Theta[0] + Theta[1] * X"
   ]
  },
  {
   "cell_type": "code",
   "execution_count": 4,
   "id": "b9bc40c9",
   "metadata": {},
   "outputs": [],
   "source": [
    "# Funcion de coste\n",
    "def cost_funct(Theta, X, y, Lambda):\n",
    "    m = X.shape[0]\n",
    "    #h = np.dot(X, Theta[:, None])\n",
    "    h = hipotesis(X, Theta)\n",
    "    J = np.sum((h - y)**2)\n",
    "    J = J/(2*m)\n",
    "    reg_term = np.sum(Theta[1:]**2)\n",
    "    reg_term = (reg_term*Lambda)/(2*m)\n",
    "    J = J + reg_term\n",
    "    return J"
   ]
  },
  {
   "cell_type": "code",
   "execution_count": 5,
   "id": "9563e4ec",
   "metadata": {},
   "outputs": [],
   "source": [
    "def gradient_funct(Theta, X, y, Lambda):\n",
    "    X = np.hstack((np.ones(shape=(X.shape[0], 1)), X))\n",
    "    m = np.shape(X)[0]\n",
    "    #h = np.dot(X, Theta[:, None])\n",
    "    h = hipotesis(X, Theta)\n",
    "    grad = np.matmul(X.T, h - y)\n",
    "    grad = grad/m\n",
    "    reg_term = (Lambda/m)*Theta\n",
    "    grad = grad + reg_term\n",
    "    grad = np.delete(grad, 0, 1)\n",
    "    return grad"
   ]
  },
  {
   "cell_type": "code",
   "execution_count": 6,
   "id": "ed377623",
   "metadata": {},
   "outputs": [],
   "source": [
    "def draw_graph(Theta, X, y):\n",
    "    plt.scatter(X, y, marker = 'x', c = 'red', label=\"Entry\")\n",
    "    y = hipotesis(X, Theta)\n",
    "    plt.plot(X, y, c='blue')\n",
    "    plt.legend()\n",
    "    plt.show()"
   ]
  },
  {
   "cell_type": "code",
   "execution_count": 7,
   "id": "07f318ea",
   "metadata": {},
   "outputs": [],
   "source": [
    "def main():\n",
    "    #Cargamos los datos del fichero \"ex5data1.mat'\n",
    "    datafile = 'ex5data1.mat'\n",
    "    mat = loadmat(datafile)\n",
    "    X = mat.get(\"X\")\n",
    "    y = mat.get(\"y\")\n",
    "    \n",
    "    Lambda = 1\n",
    "    X_ones = np.hstack((np.ones(shape=(X.shape[0], 1)), X))\n",
    "    Theta = np.ones(X_ones.shape[1])\n",
    "    \n",
    "    cost = cost_funct(Theta, X, y, Lambda)\n",
    "    grad = gradient_funct(Theta, X, y, Lambda)\n",
    "    m = np.shape(X)[0]\n",
    "    \n",
    "    print(\"cost:\", cost)\n",
    "    print(\"grad:\", grad)\n",
    "    \n",
    "    result = opt.fmin_tnc(func=cost_funct, x0=Theta, fprime=gradient_funct, args=(X, y, Lambda))\n",
    "    ThetaOpt = result[0]\n",
    "\n",
    "    draw_graph(ThetaOpt, X, y)"
   ]
  },
  {
   "cell_type": "code",
   "execution_count": 8,
   "id": "72be65cf",
   "metadata": {},
   "outputs": [
    {
     "name": "stdout",
     "output_type": "stream",
     "text": [
      "cost: 303.9931922202643\n",
      "grad: [[-15.21968234]\n",
      " [598.25074417]]\n"
     ]
    },
    {
     "name": "stderr",
     "output_type": "stream",
     "text": [
      "  NIT   NF   F                       GTG\n",
      "    0    1  3.039931922202643E+02   3.58135592E+05\n",
      "tnc: fscale = 0.0008355\n",
      "    1    3  9.300058311334985E+01   1.36411262E+02\n",
      "tnc: fscale = 0.04281\n",
      "    2    5  3.990093230962403E+01   2.21942135E+04\n",
      "    3    7  2.238063378199749E+01   6.20972740E-02\n",
      "tnc: fscale = 2.00647\n",
      "    4    9  2.238059660975817E+01   2.13983646E-04\n",
      "    5   11  2.238002564408817E+01   1.57387181E-06\n",
      "tnc: fscale = 398.552\n",
      "tnc: |fn-fn-1] = 6.62933e-10 -> convergence\n",
      "    6   13  2.238002564342524E+01   6.94372926E-15\n",
      "tnc: Converged (|f_n-f_(n-1)| ~= 0)\n"
     ]
    },
    {
     "data": {
      "image/png": "[encoded data removed]",
      "text/plain": [
       "<Figure size 432x288 with 1 Axes>"
      ]
     },
     "metadata": {
      "needs_background": "light"
     },
     "output_type": "display_data"
    }
   ],
   "source": [
    "main()"
   ]
  },
  {
   "cell_type": "code",
   "execution_count": null,
   "id": "0a37438f",
   "metadata": {},
   "outputs": [],
   "source": []
  },
  {
   "cell_type": "code",
   "execution_count": null,
   "id": "45c64b1d",
   "metadata": {},
   "outputs": [],
   "source": []
  }
 ],
 "metadata": {
  "kernelspec": {
   "display_name": "Python 3 (ipykernel)",
   "language": "python",
   "name": "python3"
  },
  "language_info": {
   "codemirror_mode": {
    "name": "ipython",
    "version": 3
   },
   "file_extension": ".py",
   "mimetype": "text/x-python",
   "name": "python",
   "nbconvert_exporter": "python",
   "pygments_lexer": "ipython3",
   "version": "3.9.7"
  }
 },
 "nbformat": 4,
 "nbformat_minor": 5
}
