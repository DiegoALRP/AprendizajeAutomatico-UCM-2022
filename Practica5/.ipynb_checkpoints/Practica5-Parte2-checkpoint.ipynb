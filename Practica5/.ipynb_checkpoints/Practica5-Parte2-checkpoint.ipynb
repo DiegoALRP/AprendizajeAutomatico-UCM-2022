{
 "cells": [
  {
   "cell_type": "code",
   "execution_count": 1,
   "id": "27ff1e18",
   "metadata": {},
   "outputs": [],
   "source": [
    "#Imports\n",
    "import numpy as np\n",
    "from scipy.io import loadmat\n",
    "import scipy.optimize as opt\n",
    "import matplotlib.pyplot as plt\n",
    "from scipy.optimize import minimize"
   ]
  },
  {
   "cell_type": "markdown",
   "id": "4ce8e24a",
   "metadata": {},
   "source": [
    "# Apartado 2. Regresión Lineal Regularizada - Curva de Aprendizaje"
   ]
  },
  {
   "cell_type": "code",
   "execution_count": 2,
   "id": "c875fb76",
   "metadata": {},
   "outputs": [],
   "source": [
    "#Hipotesis\n",
    "def hipotesis(X, Theta):\n",
    "    return Theta[0] + Theta[1] * X"
   ]
  },
  {
   "cell_type": "code",
   "execution_count": 3,
   "id": "f6208763",
   "metadata": {},
   "outputs": [],
   "source": [
    "# Funcion de coste\n",
    "def cost_funct(Theta, X, y, Lambda):\n",
    "    m = X.shape[0]\n",
    "    h = np.dot(X, Theta[:, None])\n",
    "    J = np.sum((h - y)**2)\n",
    "    J = J/(2*m)\n",
    "    reg_term = np.sum(Theta[1:]**2)\n",
    "    reg_term = (reg_term*Lambda)/(2*m)\n",
    "    J = J + reg_term\n",
    "    return J"
   ]
  },
  {
   "cell_type": "code",
   "execution_count": 4,
   "id": "caf909e5",
   "metadata": {},
   "outputs": [],
   "source": [
    "def gradient_funct(Theta, X, y, Lambda):\n",
    "    #X = np.hstack((np.ones(shape=(X.shape[0], 1)), X))\n",
    "    m = np.shape(X)[0]\n",
    "    h = np.dot(X, Theta[:, None])\n",
    "    #h = hipotesis(X, Theta)\n",
    "    grad = np.matmul(X.T, h - y)\n",
    "    grad = grad/m\n",
    "    reg_term = (Lambda/m)*Theta\n",
    "    grad = grad + reg_term\n",
    "    grad = np.delete(grad, 0, 1)\n",
    "    return grad"
   ]
  },
  {
   "cell_type": "code",
   "execution_count": 5,
   "id": "14f09990",
   "metadata": {},
   "outputs": [],
   "source": [
    "def cost_and_gradient(Theta, X, y, Lambda):\n",
    "    return cost_funct(Theta, X, y, Lambda), gradient_funct(Theta, X, y, Lambda)"
   ]
  },
  {
   "cell_type": "code",
   "execution_count": 6,
   "id": "1cd97cd7",
   "metadata": {},
   "outputs": [],
   "source": [
    "def draw_graph(Theta, X, y):\n",
    "    plt.scatter(X, y, marker = 'x', c = 'red')\n",
    "    y = hipotesis(X, Theta)\n",
    "    plt.plot(X, y, c='blue')\n",
    "    plt.legend()\n",
    "    plt.show()"
   ]
  },
  {
   "cell_type": "code",
   "execution_count": 7,
   "id": "9f1affec",
   "metadata": {},
   "outputs": [],
   "source": [
    "def learning_curve(X, y, Lambda, Theta, Xval, yval):\n",
    "    \n",
    "    m1 = X.shape[0]\n",
    "    m2 = Xval.shape[0]\n",
    "    err1 = np.zeros(m1)\n",
    "    err2 = np.zeros(m2)\n",
    "    \n",
    "    for i in range(1, X.shape[0] + 1):\n",
    "        ThetasOpt = opt.fmin_tnc(func=cost_funct, x0=Theta, fprime=gradient_funct, args=(X[0:i], y[0:i], Lambda))\n",
    "        ThetasOpt = ThetasOpt[0]\n",
    "        \n",
    "        err1[i - 1] = error_calculation(ThetasOpt, X[0:i], y[0:i], m1)\n",
    "        err2[i - 1] = error_calculation(ThetasOpt, Xval, yval, m2)\n",
    "        \n",
    "    return err1, err2"
   ]
  },
  {
   "cell_type": "code",
   "execution_count": 8,
   "id": "bc6328d1",
   "metadata": {},
   "outputs": [],
   "source": [
    "def error_calculation(Theta, X, y, m):\n",
    "    h = np.dot(X, Theta[:, None])\n",
    "    J = np.sum((h - y)**2)\n",
    "    J = J/(2*m)\n",
    "    return J"
   ]
  },
  {
   "cell_type": "code",
   "execution_count": 9,
   "id": "9b16b1be",
   "metadata": {},
   "outputs": [],
   "source": [
    "def draw_learning_curve(err1, err2):\n",
    "    l = np.arange(len(err1))\n",
    "    b = err1\n",
    "    plt.plot(l, b, c=\"blue\", label=\"Train\")\n",
    "\n",
    "    d = err2[0:len(err1)]\n",
    "    plt.plot(l, d, c=\"orange\", label=\"Cross Validation\")"
   ]
  },
  {
   "cell_type": "code",
   "execution_count": 10,
   "id": "01ce73b0",
   "metadata": {},
   "outputs": [],
   "source": [
    "def main():\n",
    "    #Cargamos los datos del fichero \"ex5data1.mat'\n",
    "    datafile = 'ex5data1.mat'\n",
    "    mat = loadmat(datafile)\n",
    "    X = mat.get(\"X\")\n",
    "    y = mat.get(\"y\")\n",
    "    \n",
    "    Xval = mat.get(\"Xval\")\n",
    "    yval = mat.get(\"yval\")\n",
    "    \n",
    "    print(X.shape, y.shape)\n",
    "    print(Xval.shape, yval.shape)\n",
    "    \n",
    "    print(np.mean(X), np.std(X))\n",
    "    print(np.mean(y), np.std(y))\n",
    "\n",
    "    Lambda = 0\n",
    "    X_ones = np.hstack((np.ones(shape=(X.shape[0], 1)), X))\n",
    "    Xval_ones = np.hstack((np.ones(shape=(Xval.shape[0],1)),Xval))\n",
    "    Theta = np.ones(X_ones.shape[1])\n",
    "    \n",
    "    cost = cost_funct(Theta, X_ones, y, Lambda)\n",
    "    grad = gradient_funct(Theta, X_ones, y, Lambda)\n",
    "    \n",
    "    print(\"cost:\", cost)\n",
    "    print(\"grad:\", grad)\n",
    "    \n",
    "    result = opt.fmin_tnc(func=cost_funct, x0=Theta, fprime=gradient_funct, args=(X_ones, y, Lambda))\n",
    "    print(result)\n",
    "    res_error = opt.minimize(cost_and_gradient, Theta, args=(X_ones, y, Lambda), jac=True, method='TNC')\n",
    "    print(res_error)\n",
    "    #ThetaOpt = result[0]\n",
    "    ThetaOpt = result.x\n",
    "    \n",
    "    err1, err2 = learning_curve(X_ones, y, Lambda, Theta, Xval_ones, yval)\n",
    "    draw_learning_curve(err1, err2)\n",
    "    \n",
    "    plt.legend()\n",
    "    plt.show()"
   ]
  },
  {
   "cell_type": "code",
   "execution_count": 11,
   "id": "42d0846f",
   "metadata": {},
   "outputs": [
    {
     "name": "stdout",
     "output_type": "stream",
     "text": [
      "(12, 1) (12, 1)\n",
      "(21, 1) (21, 1)\n",
      "-5.085426348834809 28.68873075847896\n",
      "11.217589325366376 12.492955274415026\n",
      "cost: 303.9515255535976\n",
      "grad: [[-15.30301567]\n",
      " [598.16741084]]\n",
      "(array([13.08790398,  0.36777923]), 9, 1)\n"
     ]
    },
    {
     "name": "stderr",
     "output_type": "stream",
     "text": [
      "  NIT   NF   F                       GTG\n",
      "    0    1  3.039515255535976E+02   3.58038434E+05\n",
      "tnc: fscale = 0.000835613\n",
      "    1    3  9.299577620594808E+01   1.36988337E+02\n",
      "tnc: fscale = 0.0427197\n",
      "    2    5  4.008670401834714E+01   2.25224917E+04\n",
      "    3    7  2.237390649510906E+01   6.62767544E-11\n",
      "tnc: fscale = 61417.1\n",
      "tnc: |fn-fn-1] = 3.41188e-14 -> convergence\n",
      "    4    9  2.237390649510902E+01   2.10473664E-13\n",
      "tnc: Converged (|f_n-f_(n-1)| ~= 0)\n"
     ]
    },
    {
     "ename": "AttributeError",
     "evalue": "'tuple' object has no attribute 'x'",
     "output_type": "error",
     "traceback": [
      "\u001b[0;31m---------------------------------------------------------------------------\u001b[0m",
      "\u001b[0;31mAttributeError\u001b[0m                            Traceback (most recent call last)",
      "\u001b[0;32m/var/folders/5g/32qmkgbs0ynf64vm8b185ky40000gn/T/ipykernel_3439/451043146.py\u001b[0m in \u001b[0;36m<module>\u001b[0;34m\u001b[0m\n\u001b[0;32m----> 1\u001b[0;31m \u001b[0mmain\u001b[0m\u001b[0;34m(\u001b[0m\u001b[0;34m)\u001b[0m\u001b[0;34m\u001b[0m\u001b[0;34m\u001b[0m\u001b[0m\n\u001b[0m",
      "\u001b[0;32m/var/folders/5g/32qmkgbs0ynf64vm8b185ky40000gn/T/ipykernel_3439/4065320089.py\u001b[0m in \u001b[0;36mmain\u001b[0;34m()\u001b[0m\n\u001b[1;32m     30\u001b[0m     \u001b[0mres_error\u001b[0m \u001b[0;34m=\u001b[0m \u001b[0mopt\u001b[0m\u001b[0;34m.\u001b[0m\u001b[0mminimize\u001b[0m\u001b[0;34m(\u001b[0m\u001b[0mcost_and_gradient\u001b[0m\u001b[0;34m,\u001b[0m \u001b[0mTheta\u001b[0m\u001b[0;34m,\u001b[0m \u001b[0margs\u001b[0m\u001b[0;34m=\u001b[0m\u001b[0;34m(\u001b[0m\u001b[0mX_ones\u001b[0m\u001b[0;34m,\u001b[0m \u001b[0my\u001b[0m\u001b[0;34m,\u001b[0m \u001b[0mLambda\u001b[0m\u001b[0;34m)\u001b[0m\u001b[0;34m,\u001b[0m \u001b[0mjac\u001b[0m\u001b[0;34m=\u001b[0m\u001b[0;32mTrue\u001b[0m\u001b[0;34m,\u001b[0m \u001b[0mmethod\u001b[0m\u001b[0;34m=\u001b[0m\u001b[0;34m'TNC'\u001b[0m\u001b[0;34m)\u001b[0m\u001b[0;34m\u001b[0m\u001b[0;34m\u001b[0m\u001b[0m\n\u001b[1;32m     31\u001b[0m     \u001b[0;31m#ThetaOpt = result[0]\u001b[0m\u001b[0;34m\u001b[0m\u001b[0;34m\u001b[0m\u001b[0m\n\u001b[0;32m---> 32\u001b[0;31m     \u001b[0mThetaOpt\u001b[0m \u001b[0;34m=\u001b[0m \u001b[0mresult\u001b[0m\u001b[0;34m.\u001b[0m\u001b[0mx\u001b[0m\u001b[0;34m\u001b[0m\u001b[0;34m\u001b[0m\u001b[0m\n\u001b[0m\u001b[1;32m     33\u001b[0m \u001b[0;34m\u001b[0m\u001b[0m\n\u001b[1;32m     34\u001b[0m     \u001b[0merr1\u001b[0m\u001b[0;34m,\u001b[0m \u001b[0merr2\u001b[0m \u001b[0;34m=\u001b[0m \u001b[0mlearning_curve\u001b[0m\u001b[0;34m(\u001b[0m\u001b[0mX_ones\u001b[0m\u001b[0;34m,\u001b[0m \u001b[0my\u001b[0m\u001b[0;34m,\u001b[0m \u001b[0mLambda\u001b[0m\u001b[0;34m,\u001b[0m \u001b[0mTheta\u001b[0m\u001b[0;34m,\u001b[0m \u001b[0mXval_ones\u001b[0m\u001b[0;34m,\u001b[0m \u001b[0myval\u001b[0m\u001b[0;34m)\u001b[0m\u001b[0;34m\u001b[0m\u001b[0;34m\u001b[0m\u001b[0m\n",
      "\u001b[0;31mAttributeError\u001b[0m: 'tuple' object has no attribute 'x'"
     ]
    }
   ],
   "source": [
    "main()"
   ]
  },
  {
   "cell_type": "code",
   "execution_count": null,
   "id": "7f97097a",
   "metadata": {},
   "outputs": [],
   "source": []
  },
  {
   "cell_type": "code",
   "execution_count": null,
   "id": "28d6cb3b",
   "metadata": {},
   "outputs": [],
   "source": []
  },
  {
   "cell_type": "code",
   "execution_count": null,
   "id": "f5e4a405",
   "metadata": {},
   "outputs": [],
   "source": []
  }
 ],
 "metadata": {
  "kernelspec": {
   "display_name": "Python 3 (ipykernel)",
   "language": "python",
   "name": "python3"
  },
  "language_info": {
   "codemirror_mode": {
    "name": "ipython",
    "version": 3
   },
   "file_extension": ".py",
   "mimetype": "text/x-python",
   "name": "python",
   "nbconvert_exporter": "python",
   "pygments_lexer": "ipython3",
   "version": "3.9.7"
  }
 },
 "nbformat": 4,
 "nbformat_minor": 5
}
