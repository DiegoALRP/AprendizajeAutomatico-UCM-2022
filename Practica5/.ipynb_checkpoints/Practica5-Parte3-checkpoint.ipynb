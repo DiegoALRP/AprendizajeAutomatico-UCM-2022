{
 "cells": [
  {
   "cell_type": "code",
   "execution_count": 1,
   "id": "27ff1e18",
   "metadata": {},
   "outputs": [],
   "source": [
    "#Imports\n",
    "import numpy as np\n",
    "from scipy.io import loadmat\n",
    "import scipy.optimize as opt\n",
    "import matplotlib.pyplot as plt\n",
    "from scipy.optimize import minimize"
   ]
  },
  {
   "cell_type": "markdown",
   "id": "4ce8e24a",
   "metadata": {},
   "source": [
    "# Apartado 2. Regresión Lineal Regularizada - Curva de Aprendizaje"
   ]
  },
  {
   "cell_type": "code",
   "execution_count": 2,
   "id": "c875fb76",
   "metadata": {},
   "outputs": [],
   "source": [
    "#Hipotesis\n",
    "def hipotesis(X, Theta):\n",
    "    return Theta[0] + Theta[1] * X"
   ]
  },
  {
   "cell_type": "code",
   "execution_count": 3,
   "id": "f6208763",
   "metadata": {},
   "outputs": [],
   "source": [
    "# Funcion de coste\n",
    "def cost_funct(Theta, X, y, Lambda):\n",
    "    m = X.shape[0]\n",
    "    h = np.dot(X, Theta)\n",
    "    #h = hipotesis(X, Theta)\n",
    "    J = np.sum((h - y.T)**2)\n",
    "    J = J/(2*m)\n",
    "    reg_term = np.sum(Theta[1:]**2)\n",
    "    reg_term = (reg_term*Lambda)/(2*m)\n",
    "    J = J + reg_term\n",
    "    return J"
   ]
  },
  {
   "cell_type": "code",
   "execution_count": 4,
   "id": "caf909e5",
   "metadata": {},
   "outputs": [],
   "source": [
    "def gradient_funct(Theta, X, y, Lambda):\n",
    "    m = np.shape(X)[0]\n",
    "    h = np.dot(X, Theta)\n",
    "    #h = hipotesis(X, Theta)\n",
    "    grad = np.dot(h - y.T, X)\n",
    "    grad = grad/m\n",
    "    grad_0 = grad[0]\n",
    "    reg_term = np.dot((Lambda/m),Theta)\n",
    "    grad = grad + reg_term\n",
    "    grad[0] = grad_0\n",
    "    return grad"
   ]
  },
  {
   "cell_type": "code",
   "execution_count": 5,
   "id": "1cd97cd7",
   "metadata": {},
   "outputs": [],
   "source": [
    "def draw_graph(Theta, X, y, result, newX):\n",
    "    #plt.scatter(X, y, marker = 'x', c = 'red')\n",
    "    lineY = newX.dot(result.x)\n",
    "    plt.plot(newX, lineY, c='blue')\n",
    "    plt.legend()\n",
    "    plt.show()"
   ]
  },
  {
   "cell_type": "code",
   "execution_count": 6,
   "id": "0507687b",
   "metadata": {},
   "outputs": [],
   "source": [
    "def learning_curve(X, y, Lambda, Theta, Xval, yval):\n",
    "    \n",
    "    m1 = X.shape[0]\n",
    "    m2 = Xval.shape[0]\n",
    "    err1 = np.zeros(m1)\n",
    "    err2 = np.zeros(m2)\n",
    "    \n",
    "    for i in range(1, X.shape[0] + 1):\n",
    "        result = opt.minimize(cost_and_gradient, Theta, args=(X[0:i], y[0:i], Lambda), jac=True, method='TNC')\n",
    "        ThetasOpt = result.x\n",
    "        \n",
    "        err1[i - 1] = error_calculation(ThetasOpt, X[0:i], y[0:i], m1)\n",
    "        err2[i - 1] = error_calculation(ThetasOpt, Xval, yval, m2)\n",
    "        \n",
    "    return err1, err2"
   ]
  },
  {
   "cell_type": "code",
   "execution_count": 7,
   "id": "9b39df0b",
   "metadata": {},
   "outputs": [],
   "source": [
    "def error_calculation(Theta, X, y, m):\n",
    "    h = np.dot(X, Theta)\n",
    "    J = np.sum((h - y.T)**2)\n",
    "    J = J/(2*m)\n",
    "    return J"
   ]
  },
  {
   "cell_type": "code",
   "execution_count": 8,
   "id": "0347545b",
   "metadata": {},
   "outputs": [],
   "source": [
    "def draw_learning_curve(err1, err2):\n",
    "    l = np.arange(len(err1))\n",
    "    b = err1\n",
    "    plt.plot(l, b, c=\"blue\", label=\"Train\")\n",
    "\n",
    "    d = err2[0:len(err1)]\n",
    "    plt.plot(l, d, c=\"orange\", label=\"Cross Validation\")"
   ]
  },
  {
   "cell_type": "markdown",
   "id": "c3f6adb9",
   "metadata": {},
   "source": [
    "# Nuevo del apartado 3"
   ]
  },
  {
   "cell_type": "code",
   "execution_count": 9,
   "id": "a3993d89",
   "metadata": {},
   "outputs": [],
   "source": [
    "def generate_new_training_data(X, p):\n",
    "    newX = X\n",
    "    for i in range(2, p + 1):\n",
    "        #newX = np.hstack([newX, X ** i])\n",
    "        newX = np.column_stack([newX, X ** i])\n",
    "    return newX"
   ]
  },
  {
   "cell_type": "code",
   "execution_count": 10,
   "id": "fe053d95",
   "metadata": {},
   "outputs": [],
   "source": [
    "def normalize_attributes(X, mean, std_des):\n",
    "    X_norm = X - mean\n",
    "    X_norm = X_norm / std_des\n",
    "    return X_norm"
   ]
  },
  {
   "cell_type": "code",
   "execution_count": 11,
   "id": "3cf28ae4",
   "metadata": {},
   "outputs": [],
   "source": [
    "def cost_and_gradient(Theta, X, y, Lambda):\n",
    "    return cost_funct(Theta, X, y, Lambda), gradient_funct(Theta, X, y, Lambda)"
   ]
  },
  {
   "cell_type": "code",
   "execution_count": 12,
   "id": "23aec87f",
   "metadata": {},
   "outputs": [],
   "source": [
    "def draw_points(X, y, p, mean, std_des, result):\n",
    "    # Pintamos grafica\n",
    "    plt.figure()\n",
    "    plt.plot(X, y, \"x\", color='red')\n",
    "    lineX = np.arange(np.min(X) - 5,np.max(X) + 6,0.05)\n",
    "    aux_x = (generate_new_training_data(lineX, p) - mean) / std_des\n",
    "    lineY = np.hstack([np.ones([len(aux_x),1]),aux_x]).dot(result.x)\n",
    "    plt.plot(lineX, lineY, '-', c = 'blue')\n",
    "    plt.show()\n",
    "    plt.close()\n",
    "    #draw_graph(ThetaOpt, X, y, result, newX)"
   ]
  },
  {
   "cell_type": "code",
   "execution_count": 13,
   "id": "01ce73b0",
   "metadata": {},
   "outputs": [],
   "source": [
    "def main():\n",
    "    \n",
    "    #Cargamos los datos del fichero \"ex5data1.mat'\n",
    "    datafile = 'ex5data1.mat'\n",
    "    mat = loadmat(datafile)\n",
    "    \n",
    "    X = mat.get(\"X\")\n",
    "    y = mat.get(\"y\")\n",
    "    \n",
    "    Xval = mat.get(\"Xval\")\n",
    "    yval = mat.get(\"yval\")\n",
    "    \n",
    "    print(X.shape, y.shape)\n",
    "    print(Xval.shape, yval.shape)\n",
    "    \n",
    "    print(np.mean(X), np.std(X))\n",
    "    print(np.mean(y), np.std(y))\n",
    "\n",
    "    Lambda = 0\n",
    "    #Grado del polinomio\n",
    "    p = 8\n",
    "    \n",
    "    #Se genera nuevos datos de entrenamiento a partir de los datos originales X\n",
    "    newX = generate_new_training_data(X, p)\n",
    "    #Media\n",
    "    mean = np.mean(newX, axis = 0)\n",
    "    #Desviacion Estandar\n",
    "    std_des = np.std(newX, axis = 0)\n",
    "    #Se normalizan los atributos\n",
    "    X_norm = normalize_attributes(newX, mean, std_des)\n",
    "    #Se añade columna de 1s\n",
    "    newX = np.hstack([np.ones([X_norm.shape[0], 1]), X_norm])\n",
    "    #Tambien se puede escribir: newX = np.insert(X_norm, 0, 1, axis=1)\n",
    "    #print(\"newX:\", newX)\n",
    "    \n",
    "    #Theta = np.ones(newX.shape[1])\n",
    "    Theta = np.zeros(newX.shape[1])\n",
    "    \n",
    "    #result = opt.fmin_tnc(func=cost_funct, x0=Theta, fprime=gradient_funct, args=(newX, y, Lambda))\n",
    "    result = opt.minimize(cost_and_gradient, Theta, args=(newX, y, Lambda), jac=True, method='TNC')\n",
    "    \n",
    "    draw_points(X, y, p, mean, std_des, result)\n",
    "    \n",
    "    \n",
    "    #Apartado 3.2\n",
    "    \n",
    "    #Se genera nuevos datos de VALIDACION a partir de los datos originales Xval\n",
    "    newXval = generate_new_training_data(Xval, p)\n",
    "    #Media\n",
    "    mean_val = np.mean(newXval, axis = 0)\n",
    "    #Desviacion Estandar\n",
    "    std_des_val = np.std(newXval, axis = 0)\n",
    "    #Se normalizan los atributos\n",
    "    X_norm_val = normalize_attributes(newXval, mean, std_des)\n",
    "    #Se añade columna de 1s\n",
    "    newXval = np.hstack([np.ones([X_norm_val.shape[0], 1]), X_norm_val])\n",
    "    #newXval = X_norm_val\n",
    "    \n",
    "    print(\"newX\", newX)\n",
    "    print(\"newXval\", newXval)\n",
    "    \n",
    "    err1, err2 = learning_curve(newX, y, Lambda, Theta, newXval, yval)\n",
    "    draw_learning_curve(err1, err2)\n",
    "    \n",
    "    plt.show()\n",
    "    "
   ]
  },
  {
   "cell_type": "code",
   "execution_count": null,
   "id": "60f28985",
   "metadata": {},
   "outputs": [],
   "source": []
  },
  {
   "cell_type": "code",
   "execution_count": 14,
   "id": "42d0846f",
   "metadata": {},
   "outputs": [
    {
     "name": "stdout",
     "output_type": "stream",
     "text": [
      "(12, 1) (12, 1)\n",
      "(21, 1) (21, 1)\n",
      "-5.085426348834809 28.68873075847896\n",
      "11.217589325366376 12.492955274415026\n"
     ]
    },
    {
     "data": {
      "image/png": "[encoded data removed]",
      "text/plain": [
       "<Figure size 432x288 with 1 Axes>"
      ]
     },
     "metadata": {
      "needs_background": "light"
     },
     "output_type": "display_data"
    },
    {
     "name": "stdout",
     "output_type": "stream",
     "text": [
      "newX [[ 1.00000000e+00 -3.78243704e-01 -7.88662325e-01  1.90328720e-01\n",
      "  -7.37591303e-01  3.20251970e-01 -6.17151602e-01  3.59835014e-01\n",
      "  -5.31091256e-01]\n",
      " [ 1.00000000e+00 -8.38920100e-01  1.31420204e-03 -2.58961742e-01\n",
      "  -3.41564822e-01  9.75492734e-02 -4.55196644e-01  2.66773432e-01\n",
      "  -4.68873807e-01]\n",
      " [ 1.00000000e+00  1.43871736e+00  6.10831582e-01  1.30534069e+00\n",
      "   2.56220001e-01  1.02186338e+00 -1.26962121e-02  7.90210009e-01\n",
      "  -1.77926980e-01]\n",
      " [ 1.00000000e+00  1.48412330e+00  7.38068463e-01  1.42031240e+00\n",
      "   4.13121830e-01  1.15534830e+00  1.31223708e-01  9.10700224e-01\n",
      "  -6.22895388e-02]\n",
      " [ 1.00000000e+00 -1.49791929e+00  1.93643966e+00 -2.12774745e+00\n",
      "   2.43510061e+00 -2.51876748e+00  2.71792174e+00 -2.76331690e+00\n",
      "   2.88908182e+00]\n",
      " [ 1.00000000e+00 -1.34409278e-01 -1.01936614e+00  2.62563148e-01\n",
      "  -7.72577738e-01  3.31046537e-01 -6.21453712e-01  3.61188658e-01\n",
      "  -5.31586524e-01]\n",
      " [ 1.00000000e+00  7.10844248e-01 -8.14713668e-01  3.55803314e-01\n",
      "  -7.43368461e-01  3.41027665e-01 -6.18104683e-01  3.62252117e-01\n",
      "  -5.31229003e-01]\n",
      " [ 1.00000000e+00 -1.03249041e+00  4.71428060e-01 -6.28018432e-01\n",
      "   9.70487696e-02 -2.28187552e-01 -1.47905228e-01  4.11556057e-02\n",
      "  -2.78551428e-01]\n",
      " [ 1.00000000e+00  2.25683763e-01 -1.12279332e+00  2.78115330e-01\n",
      "  -7.76423647e-01  3.31682056e-01 -6.21592224e-01  3.61212770e-01\n",
      "  -5.31591435e-01]\n",
      " [ 1.00000000e+00 -1.36981778e+00  1.48607235e+00 -1.61695958e+00\n",
      "   1.55980151e+00 -1.58331392e+00  1.45040261e+00 -1.42914967e+00\n",
      "   1.27857621e+00]\n",
      " [ 1.00000000e+00  4.21731046e-01 -1.06014377e+00  2.85534542e-01\n",
      "  -7.74969228e-01  3.31870677e-01 -6.21559967e-01  3.61217175e-01\n",
      "  -5.31590732e-01]\n",
      " [ 1.00000000e+00  9.70700848e-01 -4.38475085e-01  5.33689054e-01\n",
      "  -6.14797521e-01  3.99629101e-01 -5.83887796e-01  3.77921571e-01\n",
      "  -5.22927330e-01]]\n",
      "newXval [[ 1.         -0.40647004 -0.75357738  0.17626474 -0.72907603  0.31703757\n",
      "  -0.6156137   0.35926361 -0.53084786]\n",
      " [ 1.         -0.33086317 -0.84364715  0.2109163  -0.74923975  0.32436289\n",
      "  -0.61899124  0.36047461 -0.53134631]\n",
      " [ 1.          1.38037424  0.45394632  1.16929394  0.07802764  0.87635334\n",
      "  -0.16329347  0.66917276 -0.28945203]\n",
      " [ 1.         -1.46136299  1.80426713 -1.97365896  2.1638126  -2.221032\n",
      "   2.30383863 -2.31616091  2.33558019]\n",
      " [ 1.          1.4660999   0.68702469  1.37370142  0.34884499  1.10009607\n",
      "   0.07103828  0.85979799 -0.11163646]\n",
      " [ 1.         -1.2409292   1.06907746 -1.18169553  0.87326825 -0.90790853\n",
      "   0.60788686 -0.61264496  0.37100879]\n",
      " [ 1.          0.02138175 -1.09883996  0.2761188  -0.7761851   0.33166211\n",
      "  -0.62159006  0.36121258 -0.53159142]\n",
      " [ 1.          1.10214221 -0.19204845  0.68294163 -0.47802113  0.4779102\n",
      "  -0.52700671  0.41007233 -0.50205894]\n",
      " [ 1.         -1.31453207  1.30276603 -1.42097483  1.24333422 -1.26474365\n",
      "   1.04398849 -1.02654652  0.82137852]\n",
      " [ 1.          1.06172441 -0.27183787  0.63214645 -0.52686226  0.4486321\n",
      "  -0.54925065  0.39694884 -0.5109352 ]\n",
      " [ 1.         -0.90712022  0.15761925 -0.37450533 -0.21253654  0.0077034\n",
      "  -0.37589127  0.2124039  -0.42613421]\n",
      " [ 1.          1.12926554 -0.1365051   0.71961779 -0.44144652  0.50064691\n",
      "  -0.50909467  0.42102928 -0.49437586]\n",
      " [ 1.          0.06349407 -1.11122961  0.27730364 -0.77635757  0.33167788\n",
      "  -0.6215919   0.36121275 -0.53159143]\n",
      " [ 1.          0.11388269 -1.12096872  0.27792694 -0.77641931  0.33168178\n",
      "  -0.62159222  0.36121277 -0.53159144]\n",
      " [ 1.         -1.24209873  1.07269828 -1.18530993  0.87871676 -0.9130282\n",
      "   0.61398287 -0.61828063  0.37698074]\n",
      " [ 1.         -1.56604409  2.19053175 -2.43335696  2.99025512 -3.14746288\n",
      "   3.62024759 -3.76895303  4.17391377]\n",
      " [ 1.         -0.42965809 -0.72345418  0.16364573 -0.72109208  0.31388846\n",
      "  -0.61403953  0.35865257 -0.53057596]\n",
      " [ 1.          0.30233544 -1.10828356  0.27905854 -0.77632609  0.33168861\n",
      "  -0.62159165  0.36121281 -0.53159143]\n",
      " [ 1.          0.42423998 -1.05879848  0.28576713 -0.7749085   0.33188056\n",
      "  -0.62155793  0.3612175  -0.53159067]\n",
      " [ 1.          1.79052171  1.7142693   2.4268154   1.98593921  2.69284141\n",
      "   2.04242861  2.7616005   1.99916721]\n",
      " [ 1.          0.68660115 -0.84229984  0.3456804  -0.74897909  0.33908894\n",
      "  -0.61895375  0.36196336 -0.53134159]]\n"
     ]
    },
    {
     "ename": "ValueError",
     "evalue": "x and y must have same first dimension, but have shapes (1,) and (12,)",
     "output_type": "error",
     "traceback": [
      "\u001b[0;31m---------------------------------------------------------------------------\u001b[0m",
      "\u001b[0;31mValueError\u001b[0m                                Traceback (most recent call last)",
      "\u001b[0;32m/var/folders/5g/32qmkgbs0ynf64vm8b185ky40000gn/T/ipykernel_2532/451043146.py\u001b[0m in \u001b[0;36m<module>\u001b[0;34m\u001b[0m\n\u001b[0;32m----> 1\u001b[0;31m \u001b[0mmain\u001b[0m\u001b[0;34m(\u001b[0m\u001b[0;34m)\u001b[0m\u001b[0;34m\u001b[0m\u001b[0;34m\u001b[0m\u001b[0m\n\u001b[0m",
      "\u001b[0;32m/var/folders/5g/32qmkgbs0ynf64vm8b185ky40000gn/T/ipykernel_2532/706280728.py\u001b[0m in \u001b[0;36mmain\u001b[0;34m()\u001b[0m\n\u001b[1;32m     61\u001b[0m \u001b[0;34m\u001b[0m\u001b[0m\n\u001b[1;32m     62\u001b[0m     \u001b[0merr1\u001b[0m\u001b[0;34m,\u001b[0m \u001b[0merr2\u001b[0m \u001b[0;34m=\u001b[0m \u001b[0mlearning_curve\u001b[0m\u001b[0;34m(\u001b[0m\u001b[0mnewX\u001b[0m\u001b[0;34m,\u001b[0m \u001b[0my\u001b[0m\u001b[0;34m,\u001b[0m \u001b[0mLambda\u001b[0m\u001b[0;34m,\u001b[0m \u001b[0mTheta\u001b[0m\u001b[0;34m,\u001b[0m \u001b[0mnewXval\u001b[0m\u001b[0;34m,\u001b[0m \u001b[0myval\u001b[0m\u001b[0;34m)\u001b[0m\u001b[0;34m\u001b[0m\u001b[0;34m\u001b[0m\u001b[0m\n\u001b[0;32m---> 63\u001b[0;31m     \u001b[0mdraw_learning_curve\u001b[0m\u001b[0;34m(\u001b[0m\u001b[0merr1\u001b[0m\u001b[0;34m,\u001b[0m \u001b[0merr2\u001b[0m\u001b[0;34m)\u001b[0m\u001b[0;34m\u001b[0m\u001b[0;34m\u001b[0m\u001b[0m\n\u001b[0m\u001b[1;32m     64\u001b[0m \u001b[0;34m\u001b[0m\u001b[0m\n\u001b[1;32m     65\u001b[0m     \u001b[0mplt\u001b[0m\u001b[0;34m.\u001b[0m\u001b[0mshow\u001b[0m\u001b[0;34m(\u001b[0m\u001b[0;34m)\u001b[0m\u001b[0;34m\u001b[0m\u001b[0;34m\u001b[0m\u001b[0m\n",
      "\u001b[0;32m/var/folders/5g/32qmkgbs0ynf64vm8b185ky40000gn/T/ipykernel_2532/1910847052.py\u001b[0m in \u001b[0;36mdraw_learning_curve\u001b[0;34m(err1, err2)\u001b[0m\n\u001b[1;32m      9\u001b[0m     \u001b[0ml\u001b[0m \u001b[0;34m=\u001b[0m \u001b[0mnp\u001b[0m\u001b[0;34m.\u001b[0m\u001b[0marange\u001b[0m\u001b[0;34m(\u001b[0m\u001b[0mnp\u001b[0m\u001b[0;34m.\u001b[0m\u001b[0mmin\u001b[0m\u001b[0;34m(\u001b[0m\u001b[0merr1\u001b[0m\u001b[0;34m)\u001b[0m\u001b[0;34m,\u001b[0m \u001b[0mnp\u001b[0m\u001b[0;34m.\u001b[0m\u001b[0mmax\u001b[0m\u001b[0;34m(\u001b[0m\u001b[0merr1\u001b[0m\u001b[0;34m)\u001b[0m\u001b[0;34m,\u001b[0m \u001b[0mlen\u001b[0m\u001b[0;34m(\u001b[0m\u001b[0merr1\u001b[0m\u001b[0;34m)\u001b[0m\u001b[0;34m)\u001b[0m\u001b[0;34m\u001b[0m\u001b[0;34m\u001b[0m\u001b[0m\n\u001b[1;32m     10\u001b[0m     \u001b[0mb\u001b[0m \u001b[0;34m=\u001b[0m \u001b[0merr1\u001b[0m\u001b[0;34m\u001b[0m\u001b[0;34m\u001b[0m\u001b[0m\n\u001b[0;32m---> 11\u001b[0;31m     \u001b[0mplt\u001b[0m\u001b[0;34m.\u001b[0m\u001b[0mplot\u001b[0m\u001b[0;34m(\u001b[0m\u001b[0ml\u001b[0m\u001b[0;34m,\u001b[0m \u001b[0mb\u001b[0m\u001b[0;34m,\u001b[0m \u001b[0mc\u001b[0m\u001b[0;34m=\u001b[0m\u001b[0;34m\"blue\"\u001b[0m\u001b[0;34m,\u001b[0m \u001b[0mlabel\u001b[0m\u001b[0;34m=\u001b[0m\u001b[0;34m\"Train\"\u001b[0m\u001b[0;34m)\u001b[0m\u001b[0;34m\u001b[0m\u001b[0;34m\u001b[0m\u001b[0m\n\u001b[0m\u001b[1;32m     12\u001b[0m \u001b[0;34m\u001b[0m\u001b[0m\n\u001b[1;32m     13\u001b[0m     \u001b[0md\u001b[0m \u001b[0;34m=\u001b[0m \u001b[0merr2\u001b[0m\u001b[0;34m[\u001b[0m\u001b[0;36m0\u001b[0m\u001b[0;34m:\u001b[0m\u001b[0mlen\u001b[0m\u001b[0;34m(\u001b[0m\u001b[0merr1\u001b[0m\u001b[0;34m)\u001b[0m\u001b[0;34m]\u001b[0m\u001b[0;34m\u001b[0m\u001b[0;34m\u001b[0m\u001b[0m\n",
      "\u001b[0;32m/opt/anaconda3/lib/python3.9/site-packages/matplotlib/pyplot.py\u001b[0m in \u001b[0;36mplot\u001b[0;34m(scalex, scaley, data, *args, **kwargs)\u001b[0m\n\u001b[1;32m   3017\u001b[0m \u001b[0;34m@\u001b[0m\u001b[0m_copy_docstring_and_deprecators\u001b[0m\u001b[0;34m(\u001b[0m\u001b[0mAxes\u001b[0m\u001b[0;34m.\u001b[0m\u001b[0mplot\u001b[0m\u001b[0;34m)\u001b[0m\u001b[0;34m\u001b[0m\u001b[0;34m\u001b[0m\u001b[0m\n\u001b[1;32m   3018\u001b[0m \u001b[0;32mdef\u001b[0m \u001b[0mplot\u001b[0m\u001b[0;34m(\u001b[0m\u001b[0;34m*\u001b[0m\u001b[0margs\u001b[0m\u001b[0;34m,\u001b[0m \u001b[0mscalex\u001b[0m\u001b[0;34m=\u001b[0m\u001b[0;32mTrue\u001b[0m\u001b[0;34m,\u001b[0m \u001b[0mscaley\u001b[0m\u001b[0;34m=\u001b[0m\u001b[0;32mTrue\u001b[0m\u001b[0;34m,\u001b[0m \u001b[0mdata\u001b[0m\u001b[0;34m=\u001b[0m\u001b[0;32mNone\u001b[0m\u001b[0;34m,\u001b[0m \u001b[0;34m**\u001b[0m\u001b[0mkwargs\u001b[0m\u001b[0;34m)\u001b[0m\u001b[0;34m:\u001b[0m\u001b[0;34m\u001b[0m\u001b[0;34m\u001b[0m\u001b[0m\n\u001b[0;32m-> 3019\u001b[0;31m     return gca().plot(\n\u001b[0m\u001b[1;32m   3020\u001b[0m         \u001b[0;34m*\u001b[0m\u001b[0margs\u001b[0m\u001b[0;34m,\u001b[0m \u001b[0mscalex\u001b[0m\u001b[0;34m=\u001b[0m\u001b[0mscalex\u001b[0m\u001b[0;34m,\u001b[0m \u001b[0mscaley\u001b[0m\u001b[0;34m=\u001b[0m\u001b[0mscaley\u001b[0m\u001b[0;34m,\u001b[0m\u001b[0;34m\u001b[0m\u001b[0;34m\u001b[0m\u001b[0m\n\u001b[1;32m   3021\u001b[0m         **({\"data\": data} if data is not None else {}), **kwargs)\n",
      "\u001b[0;32m/opt/anaconda3/lib/python3.9/site-packages/matplotlib/axes/_axes.py\u001b[0m in \u001b[0;36mplot\u001b[0;34m(self, scalex, scaley, data, *args, **kwargs)\u001b[0m\n\u001b[1;32m   1603\u001b[0m         \"\"\"\n\u001b[1;32m   1604\u001b[0m         \u001b[0mkwargs\u001b[0m \u001b[0;34m=\u001b[0m \u001b[0mcbook\u001b[0m\u001b[0;34m.\u001b[0m\u001b[0mnormalize_kwargs\u001b[0m\u001b[0;34m(\u001b[0m\u001b[0mkwargs\u001b[0m\u001b[0;34m,\u001b[0m \u001b[0mmlines\u001b[0m\u001b[0;34m.\u001b[0m\u001b[0mLine2D\u001b[0m\u001b[0;34m)\u001b[0m\u001b[0;34m\u001b[0m\u001b[0;34m\u001b[0m\u001b[0m\n\u001b[0;32m-> 1605\u001b[0;31m         \u001b[0mlines\u001b[0m \u001b[0;34m=\u001b[0m \u001b[0;34m[\u001b[0m\u001b[0;34m*\u001b[0m\u001b[0mself\u001b[0m\u001b[0;34m.\u001b[0m\u001b[0m_get_lines\u001b[0m\u001b[0;34m(\u001b[0m\u001b[0;34m*\u001b[0m\u001b[0margs\u001b[0m\u001b[0;34m,\u001b[0m \u001b[0mdata\u001b[0m\u001b[0;34m=\u001b[0m\u001b[0mdata\u001b[0m\u001b[0;34m,\u001b[0m \u001b[0;34m**\u001b[0m\u001b[0mkwargs\u001b[0m\u001b[0;34m)\u001b[0m\u001b[0;34m]\u001b[0m\u001b[0;34m\u001b[0m\u001b[0;34m\u001b[0m\u001b[0m\n\u001b[0m\u001b[1;32m   1606\u001b[0m         \u001b[0;32mfor\u001b[0m \u001b[0mline\u001b[0m \u001b[0;32min\u001b[0m \u001b[0mlines\u001b[0m\u001b[0;34m:\u001b[0m\u001b[0;34m\u001b[0m\u001b[0;34m\u001b[0m\u001b[0m\n\u001b[1;32m   1607\u001b[0m             \u001b[0mself\u001b[0m\u001b[0;34m.\u001b[0m\u001b[0madd_line\u001b[0m\u001b[0;34m(\u001b[0m\u001b[0mline\u001b[0m\u001b[0;34m)\u001b[0m\u001b[0;34m\u001b[0m\u001b[0;34m\u001b[0m\u001b[0m\n",
      "\u001b[0;32m/opt/anaconda3/lib/python3.9/site-packages/matplotlib/axes/_base.py\u001b[0m in \u001b[0;36m__call__\u001b[0;34m(self, data, *args, **kwargs)\u001b[0m\n\u001b[1;32m    313\u001b[0m                 \u001b[0mthis\u001b[0m \u001b[0;34m+=\u001b[0m \u001b[0margs\u001b[0m\u001b[0;34m[\u001b[0m\u001b[0;36m0\u001b[0m\u001b[0;34m]\u001b[0m\u001b[0;34m,\u001b[0m\u001b[0;34m\u001b[0m\u001b[0;34m\u001b[0m\u001b[0m\n\u001b[1;32m    314\u001b[0m                 \u001b[0margs\u001b[0m \u001b[0;34m=\u001b[0m \u001b[0margs\u001b[0m\u001b[0;34m[\u001b[0m\u001b[0;36m1\u001b[0m\u001b[0;34m:\u001b[0m\u001b[0;34m]\u001b[0m\u001b[0;34m\u001b[0m\u001b[0;34m\u001b[0m\u001b[0m\n\u001b[0;32m--> 315\u001b[0;31m             \u001b[0;32myield\u001b[0m \u001b[0;32mfrom\u001b[0m \u001b[0mself\u001b[0m\u001b[0;34m.\u001b[0m\u001b[0m_plot_args\u001b[0m\u001b[0;34m(\u001b[0m\u001b[0mthis\u001b[0m\u001b[0;34m,\u001b[0m \u001b[0mkwargs\u001b[0m\u001b[0;34m)\u001b[0m\u001b[0;34m\u001b[0m\u001b[0;34m\u001b[0m\u001b[0m\n\u001b[0m\u001b[1;32m    316\u001b[0m \u001b[0;34m\u001b[0m\u001b[0m\n\u001b[1;32m    317\u001b[0m     \u001b[0;32mdef\u001b[0m \u001b[0mget_next_color\u001b[0m\u001b[0;34m(\u001b[0m\u001b[0mself\u001b[0m\u001b[0;34m)\u001b[0m\u001b[0;34m:\u001b[0m\u001b[0;34m\u001b[0m\u001b[0;34m\u001b[0m\u001b[0m\n",
      "\u001b[0;32m/opt/anaconda3/lib/python3.9/site-packages/matplotlib/axes/_base.py\u001b[0m in \u001b[0;36m_plot_args\u001b[0;34m(self, tup, kwargs, return_kwargs)\u001b[0m\n\u001b[1;32m    499\u001b[0m \u001b[0;34m\u001b[0m\u001b[0m\n\u001b[1;32m    500\u001b[0m         \u001b[0;32mif\u001b[0m \u001b[0mx\u001b[0m\u001b[0;34m.\u001b[0m\u001b[0mshape\u001b[0m\u001b[0;34m[\u001b[0m\u001b[0;36m0\u001b[0m\u001b[0;34m]\u001b[0m \u001b[0;34m!=\u001b[0m \u001b[0my\u001b[0m\u001b[0;34m.\u001b[0m\u001b[0mshape\u001b[0m\u001b[0;34m[\u001b[0m\u001b[0;36m0\u001b[0m\u001b[0;34m]\u001b[0m\u001b[0;34m:\u001b[0m\u001b[0;34m\u001b[0m\u001b[0;34m\u001b[0m\u001b[0m\n\u001b[0;32m--> 501\u001b[0;31m             raise ValueError(f\"x and y must have same first dimension, but \"\n\u001b[0m\u001b[1;32m    502\u001b[0m                              f\"have shapes {x.shape} and {y.shape}\")\n\u001b[1;32m    503\u001b[0m         \u001b[0;32mif\u001b[0m \u001b[0mx\u001b[0m\u001b[0;34m.\u001b[0m\u001b[0mndim\u001b[0m \u001b[0;34m>\u001b[0m \u001b[0;36m2\u001b[0m \u001b[0;32mor\u001b[0m \u001b[0my\u001b[0m\u001b[0;34m.\u001b[0m\u001b[0mndim\u001b[0m \u001b[0;34m>\u001b[0m \u001b[0;36m2\u001b[0m\u001b[0;34m:\u001b[0m\u001b[0;34m\u001b[0m\u001b[0;34m\u001b[0m\u001b[0m\n",
      "\u001b[0;31mValueError\u001b[0m: x and y must have same first dimension, but have shapes (1,) and (12,)"
     ]
    },
    {
     "data": {
      "image/png": "[encoded data removed]",
      "text/plain": [
       "<Figure size 432x288 with 1 Axes>"
      ]
     },
     "metadata": {
      "needs_background": "light"
     },
     "output_type": "display_data"
    }
   ],
   "source": [
    "main()"
   ]
  },
  {
   "cell_type": "code",
   "execution_count": null,
   "id": "28d6cb3b",
   "metadata": {},
   "outputs": [],
   "source": []
  },
  {
   "cell_type": "code",
   "execution_count": null,
   "id": "f5e4a405",
   "metadata": {},
   "outputs": [],
   "source": []
  }
 ],
 "metadata": {
  "kernelspec": {
   "display_name": "Python 3 (ipykernel)",
   "language": "python",
   "name": "python3"
  },
  "language_info": {
   "codemirror_mode": {
    "name": "ipython",
    "version": 3
   },
   "file_extension": ".py",
   "mimetype": "text/x-python",
   "name": "python",
   "nbconvert_exporter": "python",
   "pygments_lexer": "ipython3",
   "version": "3.9.7"
  }
 },
 "nbformat": 4,
 "nbformat_minor": 5
}
