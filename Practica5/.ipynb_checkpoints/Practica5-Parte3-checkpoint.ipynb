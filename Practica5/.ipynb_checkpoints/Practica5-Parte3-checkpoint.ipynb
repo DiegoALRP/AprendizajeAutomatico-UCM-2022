{
 "cells": [
  {
   "cell_type": "code",
   "execution_count": 1,
   "id": "27ff1e18",
   "metadata": {},
   "outputs": [],
   "source": [
    "#Imports\n",
    "import numpy as np\n",
    "from scipy.io import loadmat\n",
    "import scipy.optimize as opt\n",
    "import matplotlib.pyplot as plt\n",
    "from scipy.optimize import minimize"
   ]
  },
  {
   "cell_type": "markdown",
   "id": "4ce8e24a",
   "metadata": {},
   "source": [
    "# Apartado 2. Regresión Lineal Regularizada - Curva de Aprendizaje"
   ]
  },
  {
   "cell_type": "code",
   "execution_count": 2,
   "id": "c875fb76",
   "metadata": {},
   "outputs": [],
   "source": [
    "#Hipotesis\n",
    "def hipotesis(X, Theta):\n",
    "    return Theta[0] + Theta[1] * X"
   ]
  },
  {
   "cell_type": "code",
   "execution_count": 3,
   "id": "f6208763",
   "metadata": {},
   "outputs": [],
   "source": [
    "# Funcion de coste\n",
    "def cost_funct(Theta, X, y, Lambda):\n",
    "    m = X.shape[0]\n",
    "    h = np.dot(X, Theta)\n",
    "    #h = hipotesis(X, Theta)\n",
    "    J = np.sum((h - y.T)**2)\n",
    "    J = J/(2*m)\n",
    "    reg_term = np.sum(Theta[1:]**2)\n",
    "    reg_term = (reg_term*Lambda)/(2*m)\n",
    "    J = J + reg_term\n",
    "    return J"
   ]
  },
  {
   "cell_type": "code",
   "execution_count": 4,
   "id": "caf909e5",
   "metadata": {},
   "outputs": [],
   "source": [
    "def gradient_funct(Theta, X, y, Lambda):\n",
    "    m = np.shape(X)[0]\n",
    "    h = np.dot(X, Theta)\n",
    "    #h = hipotesis(X, Theta)\n",
    "    grad = np.dot(h - y.T, X)\n",
    "    grad = grad/m\n",
    "    grad_0 = grad[0]\n",
    "    reg_term = np.dot((Lambda/m),Theta)\n",
    "    grad = grad + reg_term\n",
    "    grad[0] = grad_0\n",
    "    return grad"
   ]
  },
  {
   "cell_type": "code",
   "execution_count": 5,
   "id": "1cd97cd7",
   "metadata": {},
   "outputs": [],
   "source": [
    "def draw_graph(Theta, X, y, result, newX):\n",
    "    #plt.scatter(X, y, marker = 'x', c = 'red')\n",
    "    lineY = newX.dot(result.x)\n",
    "    plt.plot(newX, lineY, c='blue')\n",
    "    plt.legend()\n",
    "    plt.show()"
   ]
  },
  {
   "cell_type": "markdown",
   "id": "c3f6adb9",
   "metadata": {},
   "source": [
    "# Nuevo del apartado 3"
   ]
  },
  {
   "cell_type": "code",
   "execution_count": 6,
   "id": "a3993d89",
   "metadata": {},
   "outputs": [],
   "source": [
    "def generate_new_training_data(X, p):\n",
    "    newX = X\n",
    "    for i in range(2, p + 1):\n",
    "        #newX = np.hstack([newX, X ** i])\n",
    "        newX = np.column_stack([newX, X ** i])\n",
    "    return newX"
   ]
  },
  {
   "cell_type": "code",
   "execution_count": 7,
   "id": "fe053d95",
   "metadata": {},
   "outputs": [],
   "source": [
    "def normalize_attributes(X, mean, std_des):\n",
    "    X_norm = X - mean\n",
    "    X_norm = X_norm / std_des\n",
    "    return X_norm"
   ]
  },
  {
   "cell_type": "code",
   "execution_count": 8,
   "id": "54834b0e",
   "metadata": {},
   "outputs": [],
   "source": [
    "def cost_and_gradient(Theta, X, y, Lambda):\n",
    "    return cost_funct(Theta, X, y, Lambda), gradient_funct(Theta, X, y, Lambda)"
   ]
  },
  {
   "cell_type": "code",
   "execution_count": 9,
   "id": "23aec87f",
   "metadata": {},
   "outputs": [],
   "source": [
    "def draw_points(X, y, p, mean, std_des, result):\n",
    "    # Pintamos grafica\n",
    "    plt.figure()\n",
    "    plt.plot(X, y, \"x\", color='red')\n",
    "    lineX = np.arange(np.min(X) - 5,np.max(X) + 6,0.05)\n",
    "    aux_x = (generate_new_training_data(lineX, p) - mean) / std_des\n",
    "    lineY = np.hstack([np.ones([len(aux_x),1]),aux_x]).dot(result.x)\n",
    "    plt.plot(lineX, lineY, '-', c = 'blue')\n",
    "    plt.show()\n",
    "    plt.close()\n",
    "    #draw_graph(ThetaOpt, X, y, result, newX)"
   ]
  },
  {
   "cell_type": "code",
   "execution_count": 10,
   "id": "01ce73b0",
   "metadata": {},
   "outputs": [],
   "source": [
    "def main():\n",
    "    \n",
    "    #Cargamos los datos del fichero \"ex5data1.mat'\n",
    "    datafile = 'ex5data1.mat'\n",
    "    mat = loadmat(datafile)\n",
    "    \n",
    "    X = mat.get(\"X\")\n",
    "    y = mat.get(\"y\")\n",
    "    \n",
    "    Xval = mat.get(\"Xval\")\n",
    "    yval = mat.get(\"yval\")\n",
    "    \n",
    "    print(X.shape, y.shape)\n",
    "    print(Xval.shape, yval.shape)\n",
    "    \n",
    "    print(np.mean(X), np.std(X))\n",
    "    print(np.mean(y), np.std(y))\n",
    "\n",
    "    Lambda = 0\n",
    "    #Grado del polinomio\n",
    "    p = 8\n",
    "    \n",
    "    #Se genera nuevos datos de entrenamiento a partir de los datos originales X\n",
    "    newX = generate_new_training_data(X, p)\n",
    "    #Media\n",
    "    mean = np.mean(newX, axis = 0)\n",
    "    #Desviacion Estandar\n",
    "    std_des = np.std(newX, axis = 0)\n",
    "    #Se normalizan los atributos\n",
    "    X_norm = normalize_attributes(newX, mean, std_des)\n",
    "    #Se añade columna de 1s\n",
    "    newX = np.hstack([np.ones([X_norm.shape[0], 1]), X_norm])\n",
    "    #Tambien se puede escribir: newX = np.insert(X_norm, 0, 1, axis=1)\n",
    "    print(\"newX:\", newX)\n",
    "    \n",
    "    #Theta = np.ones(newX.shape[1])\n",
    "    Theta = np.zeros(newX.shape[1])\n",
    "    \n",
    "    #result = opt.fmin_tnc(func=cost_funct, x0=Theta, fprime=gradient_funct, args=(newX, y, Lambda))\n",
    "    result = opt.minimize(cost_and_gradient, Theta, args=(newX, y, Lambda), jac=True, method='TNC')\n",
    "    \n",
    "    draw_points(X, y, p, mean, std_des, result)\n",
    "    \n",
    "    \n",
    "    #Apartado 3.2\n",
    "    \n",
    "    #Se genera nuevos datos de entrenamiento a partir de los datos originales X\n",
    "    newXval = generate_new_training_data(Xval, p)\n",
    "    #Media\n",
    "    #mean_val = np.mean(newXval, axis = 0)\n",
    "    #Desviacion Estandar\n",
    "    #std_des_val = np.std(newXval, axis = 0)\n",
    "    #Se normalizan los atributos\n",
    "    X_norm_val = normalize_attributes(Xval, mean, std_des)\n",
    "    #Se añade columna de 1s\n",
    "    newXval = np.hstack([np.ones([X_norm_val.shape[0], 1]), X_norm_val])\n",
    "    \n",
    "    #Theta = np.zeros((X.shape[1], 1))\n",
    "    #err1, err2 = learning_curve(newX, y, Lambda, Theta, newXval, yval)\n",
    "    #draw_learning_curve(err1, err2)\n",
    "    \n",
    "    #plt.show()\n",
    "    "
   ]
  },
  {
   "cell_type": "code",
   "execution_count": null,
   "id": "60f28985",
   "metadata": {},
   "outputs": [],
   "source": []
  },
  {
   "cell_type": "code",
   "execution_count": 11,
   "id": "42d0846f",
   "metadata": {},
   "outputs": [
    {
     "name": "stdout",
     "output_type": "stream",
     "text": [
      "(12, 1) (12, 1)\n",
      "(21, 1) (21, 1)\n",
      "-5.085426348834809 28.68873075847896\n",
      "11.217589325366376 12.492955274415026\n",
      "nuevos: [[-1.59367581e+01  2.53980260e+02 -4.04762197e+03  6.45059724e+04\n",
      "  -1.02801608e+06  1.63832436e+07 -2.61095791e+08  4.16102047e+09]\n",
      " [-2.91529792e+01  8.49896197e+02 -2.47770062e+04  7.22323546e+05\n",
      "  -2.10578833e+07  6.13900035e+08 -1.78970150e+10  5.21751305e+11]\n",
      " [ 3.61895486e+01  1.30968343e+03  4.73968522e+04  1.71527069e+06\n",
      "   6.20748719e+07  2.24646160e+09  8.12984311e+10  2.94215353e+12]\n",
      " [ 3.74921873e+01  1.40566411e+03  5.27014222e+04  1.97589159e+06\n",
      "   7.40804977e+07  2.77743990e+09  1.04132297e+11  3.90414759e+12]\n",
      " [-4.80588295e+01  2.30965109e+03 -1.10999128e+05  5.33448815e+06\n",
      "  -2.56369256e+08  1.23208064e+10 -5.92123532e+11  2.84567638e+13]\n",
      " [-8.94145794e+00  7.99496701e+01 -7.14866612e+02  6.39194974e+03\n",
      "  -5.71533498e+04  5.11034273e+05 -4.56939146e+06  4.08570215e+07]\n",
      " [ 1.53077929e+01  2.34328523e+02  3.58705250e+03  5.49098568e+04\n",
      "   8.40548715e+05  1.28669456e+07  1.96964539e+08  3.01509237e+09]\n",
      " [-3.47062658e+01  1.20452489e+03 -4.18045609e+04  1.45088020e+06\n",
      "  -5.03546340e+07  1.74762131e+09 -6.06534098e+10  2.10505336e+12]\n",
      " [ 1.38915437e+00  1.92974986e+00  2.68072045e+00  3.72393452e+00\n",
      "   5.17311991e+00  7.18626212e+00  9.98282742e+00  1.38676883e+01]\n",
      " [-4.43837599e+01  1.96991814e+03 -8.74323736e+04  3.88057747e+06\n",
      "  -1.72234619e+08  7.64441995e+09 -3.39288099e+11  1.50588815e+13]\n",
      " [ 7.01350208e+00  4.91892115e+01  3.44988637e+02  2.41957852e+03\n",
      "   1.69697190e+04  1.19017160e+05  8.34727097e+05  5.85436023e+06]\n",
      " [ 2.27627489e+01  5.18142738e+02  1.17943531e+04  2.68471897e+05\n",
      "   6.11115839e+06  1.39106764e+08  3.16645234e+09  7.20771597e+10]]\n",
      "newX: [[ 1.00000000e+00 -3.78243704e-01 -7.88662325e-01  1.90328720e-01\n",
      "  -7.37591303e-01  3.20251970e-01 -6.17151602e-01  3.59835014e-01\n",
      "  -5.31091256e-01]\n",
      " [ 1.00000000e+00 -8.38920100e-01  1.31420204e-03 -2.58961742e-01\n",
      "  -3.41564822e-01  9.75492734e-02 -4.55196644e-01  2.66773432e-01\n",
      "  -4.68873807e-01]\n",
      " [ 1.00000000e+00  1.43871736e+00  6.10831582e-01  1.30534069e+00\n",
      "   2.56220001e-01  1.02186338e+00 -1.26962121e-02  7.90210009e-01\n",
      "  -1.77926980e-01]\n",
      " [ 1.00000000e+00  1.48412330e+00  7.38068463e-01  1.42031240e+00\n",
      "   4.13121830e-01  1.15534830e+00  1.31223708e-01  9.10700224e-01\n",
      "  -6.22895388e-02]\n",
      " [ 1.00000000e+00 -1.49791929e+00  1.93643966e+00 -2.12774745e+00\n",
      "   2.43510061e+00 -2.51876748e+00  2.71792174e+00 -2.76331690e+00\n",
      "   2.88908182e+00]\n",
      " [ 1.00000000e+00 -1.34409278e-01 -1.01936614e+00  2.62563148e-01\n",
      "  -7.72577738e-01  3.31046537e-01 -6.21453712e-01  3.61188658e-01\n",
      "  -5.31586524e-01]\n",
      " [ 1.00000000e+00  7.10844248e-01 -8.14713668e-01  3.55803314e-01\n",
      "  -7.43368461e-01  3.41027665e-01 -6.18104683e-01  3.62252117e-01\n",
      "  -5.31229003e-01]\n",
      " [ 1.00000000e+00 -1.03249041e+00  4.71428060e-01 -6.28018432e-01\n",
      "   9.70487696e-02 -2.28187552e-01 -1.47905228e-01  4.11556057e-02\n",
      "  -2.78551428e-01]\n",
      " [ 1.00000000e+00  2.25683763e-01 -1.12279332e+00  2.78115330e-01\n",
      "  -7.76423647e-01  3.31682056e-01 -6.21592224e-01  3.61212770e-01\n",
      "  -5.31591435e-01]\n",
      " [ 1.00000000e+00 -1.36981778e+00  1.48607235e+00 -1.61695958e+00\n",
      "   1.55980151e+00 -1.58331392e+00  1.45040261e+00 -1.42914967e+00\n",
      "   1.27857621e+00]\n",
      " [ 1.00000000e+00  4.21731046e-01 -1.06014377e+00  2.85534542e-01\n",
      "  -7.74969228e-01  3.31870677e-01 -6.21559967e-01  3.61217175e-01\n",
      "  -5.31590732e-01]\n",
      " [ 1.00000000e+00  9.70700848e-01 -4.38475085e-01  5.33689054e-01\n",
      "  -6.14797521e-01  3.99629101e-01 -5.83887796e-01  3.77921571e-01\n",
      "  -5.22927330e-01]]\n",
      "nuevos: [[-5.30588295e+01  2.81523938e+03 -1.49373306e+05 ...  2.23123846e+10\n",
      "  -1.18386901e+12  6.28147039e+13]\n",
      " [-5.30088295e+01  2.80993600e+03 -1.48951418e+05 ...  2.21865250e+10\n",
      "  -1.17608172e+12  6.23427153e+13]\n",
      " [-5.29588295e+01  2.80463762e+03 -1.48530325e+05 ...  2.20612575e+10\n",
      "  -1.16833837e+12  6.18738327e+13]\n",
      " ...\n",
      " [ 4.33911705e+01  1.88279368e+03  8.16966217e+04 ...  6.67433800e+09\n",
      "   2.89607339e+11  1.25664014e+13]\n",
      " [ 4.34411705e+01  1.88713530e+03  8.19793663e+04 ...  6.72061651e+09\n",
      "   2.91951448e+11  1.26827126e+13]\n",
      " [ 4.34911705e+01  1.89148192e+03  8.22627626e+04 ...  6.76716211e+09\n",
      "   2.94311801e+11  1.27999647e+13]]\n",
      "aux [[-1.67220375  2.60667326 -2.9594727  ...  5.42610611 -5.88585166\n",
      "   7.01911177]\n",
      " [-1.6704609   2.59964282 -2.95032866 ...  5.39199227 -5.84475951\n",
      "   6.96237591]\n",
      " [-1.66871806  2.59261902 -2.94120186 ...  5.35803893 -5.80389927\n",
      "   6.90601342]\n",
      " ...\n",
      " [ 1.68974352  1.37057573  2.04875686 ...  1.1874651   1.88941875\n",
      "   0.97896519]\n",
      " [ 1.69148636  1.3763312   2.05488509 ...  1.20000874  1.9017882\n",
      "   0.9929465 ]\n",
      " [ 1.69322921  1.3820933   2.06102744 ...  1.21262477  1.91424336\n",
      "   1.0070409 ]]\n"
     ]
    },
    {
     "data": {
      "image/png": "[encoded data removed]",
      "text/plain": [
       "<Figure size 432x288 with 1 Axes>"
      ]
     },
     "metadata": {
      "needs_background": "light"
     },
     "output_type": "display_data"
    },
    {
     "name": "stdout",
     "output_type": "stream",
     "text": [
      "nuevos: [[-1.67465358e+01  2.80446461e+02 -4.69650669e+03  7.86502172e+04\n",
      "  -1.31711868e+06  2.20571750e+07 -3.69381271e+08  6.18585667e+09]\n",
      " [-1.45774707e+01  2.12502653e+02 -3.09775121e+03  4.51573777e+04\n",
      "  -6.58280353e+05  9.59606259e+06 -1.39886322e+08  2.03918876e+09]\n",
      " [ 3.45157587e+01  1.19133760e+03  4.11199209e+04  1.41928527e+06\n",
      "   4.89877077e+07  1.69084790e+09  5.83608980e+10  2.01437067e+12]\n",
      " [-4.70100757e+01  2.20994722e+03 -1.03889786e+05  4.88386672e+06\n",
      "  -2.29590944e+08  1.07930877e+10 -5.07383870e+11  2.38521542e+13]\n",
      " [ 3.69751190e+01  1.36715943e+03  5.05508826e+04  1.86912490e+06\n",
      "   6.91111158e+07  2.55539173e+09  9.44859136e+10  3.49362790e+12]\n",
      " [-4.06861100e+01  1.65535955e+03 -6.73501407e+04  2.74021523e+06\n",
      "  -1.11488698e+08  4.53604145e+09 -1.84553882e+11  7.50877953e+12]\n",
      " [-4.47201098e+00  1.99988822e+01 -8.94352206e+01  3.99955288e+02\n",
      "  -1.78860444e+03  7.99865868e+03 -3.57700894e+04  1.59964232e+05]\n",
      " [ 2.65336349e+01  7.04033781e+02  1.86805753e+04  4.95663564e+05\n",
      "   1.31517560e+07  3.48963893e+08  9.25928053e+09  2.45682369e+11]\n",
      " [-4.27976831e+01  1.83164168e+03 -7.83900201e+04  3.35491124e+06\n",
      "  -1.43582428e+08  6.14499525e+09 -2.62991560e+11  1.12554294e+13]\n",
      " [ 2.53740994e+01  6.43844920e+02  1.63369850e+04  4.14536280e+05\n",
      "   1.05184848e+07  2.66897078e+08  6.77227298e+09  1.71840328e+11]\n",
      " [-3.11095540e+01  9.67804349e+02 -3.01079616e+04  9.36645257e+05\n",
      "  -2.91386162e+07  9.06489353e+08 -2.82004795e+10  8.77304338e+11]\n",
      " [ 2.73117686e+01  7.45932706e+02  2.03727415e+04  5.56415602e+05\n",
      "   1.51966942e+07  4.15048596e+08  1.13357112e+10  3.09598322e+11]\n",
      " [-3.26386201e+00  1.06527952e+01 -3.47692537e+01  1.13482047e+02\n",
      "  -3.70389741e+02  1.20890101e+03 -3.94568607e+03  1.28781749e+04]\n",
      " [-1.81827649e+00  3.30612938e+00 -6.01145732e+00  1.09304915e+01\n",
      "  -1.98746557e+01  3.61376191e+01 -6.57081832e+01  1.19475644e+02]\n",
      " [-4.07196624e+01  1.65809091e+03 -6.75169019e+04  2.74926545e+06\n",
      "  -1.11949161e+08  4.55853205e+09 -1.85621886e+11  7.55846053e+12]\n",
      " [-5.00132436e+01  2.50132454e+03 -1.25099354e+05  6.25662445e+06\n",
      "  -3.12914083e+08  1.56498483e+10 -7.82699675e+11  3.91453496e+13]\n",
      " [-1.74117715e+01  3.03169788e+02 -5.27872310e+03  9.19119206e+04\n",
      "  -1.60034936e+06  2.78649175e+07 -4.85177578e+08  8.44780115e+09]\n",
      " [ 3.58819370e+00  1.28751340e+01  4.61984747e+01  1.65769076e+02\n",
      "   5.94811552e+02  2.13429906e+03  7.65827844e+03  2.74793864e+04]\n",
      " [ 7.08548026e+00  5.02040305e+01  3.55719667e+02  2.52044468e+03\n",
      "   1.78585611e+04  1.26536482e+05  8.96571744e+05  6.35264140e+06]\n",
      " [ 4.62823690e+01  2.14205768e+03  9.91395041e+04  4.58841111e+06\n",
      "   2.12362536e+08  9.82864127e+09  4.54892802e+11  2.10535165e+13]\n",
      " [ 1.46122891e+01  2.13518992e+02  3.12000124e+03  4.55903602e+04\n",
      "   6.66179522e+05  9.73440777e+06  1.42241980e+08  2.07848094e+09]]\n"
     ]
    }
   ],
   "source": [
    "main()"
   ]
  },
  {
   "cell_type": "code",
   "execution_count": null,
   "id": "28d6cb3b",
   "metadata": {},
   "outputs": [],
   "source": []
  },
  {
   "cell_type": "code",
   "execution_count": null,
   "id": "f5e4a405",
   "metadata": {},
   "outputs": [],
   "source": []
  }
 ],
 "metadata": {
  "kernelspec": {
   "display_name": "Python 3 (ipykernel)",
   "language": "python",
   "name": "python3"
  },
  "language_info": {
   "codemirror_mode": {
    "name": "ipython",
    "version": 3
   },
   "file_extension": ".py",
   "mimetype": "text/x-python",
   "name": "python",
   "nbconvert_exporter": "python",
   "pygments_lexer": "ipython3",
   "version": "3.9.7"
  }
 },
 "nbformat": 4,
 "nbformat_minor": 5
}
