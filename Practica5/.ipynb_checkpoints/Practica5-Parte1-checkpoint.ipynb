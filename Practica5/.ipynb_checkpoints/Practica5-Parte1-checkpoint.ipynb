{
 "cells": [
  {
   "cell_type": "code",
   "execution_count": 1,
   "id": "0b6b3e23",
   "metadata": {},
   "outputs": [],
   "source": [
    "#Imports\n",
    "import numpy as np\n",
    "from scipy.io import loadmat\n",
    "import scipy.optimize as opt\n",
    "import matplotlib.pyplot as plt\n",
    "from scipy.optimize import minimize"
   ]
  },
  {
   "cell_type": "markdown",
   "id": "4d12b585",
   "metadata": {},
   "source": [
    "# Apartado 1. Regresión Lineal Regularizada"
   ]
  },
  {
   "cell_type": "code",
   "execution_count": 2,
   "id": "140bfe0b",
   "metadata": {},
   "outputs": [],
   "source": [
    "#Funcion de la Hipotesis\n",
    "def h_vec(x, theta):\n",
    "    return np.dot(x, theta)"
   ]
  },
  {
   "cell_type": "code",
   "execution_count": 3,
   "id": "d1dce025",
   "metadata": {},
   "outputs": [],
   "source": [
    "#Hipotesis\n",
    "def hipotesis(X, Theta):\n",
    "    return Theta[0] + Theta[1] * X"
   ]
  },
  {
   "cell_type": "code",
   "execution_count": 4,
   "id": "b9bc40c9",
   "metadata": {},
   "outputs": [],
   "source": [
    "# Funcion de coste\n",
    "def cost_funct(Theta, X, y, Lambda):\n",
    "    m = X.shape[0]\n",
    "    #h = np.dot(X, Theta[:, None])\n",
    "    h = hipotesis(X, Theta)\n",
    "    J = np.sum((h - y)**2)\n",
    "    J = J/(2*m)\n",
    "    reg_term = np.sum(Theta[1:]**2)\n",
    "    reg_term = (reg_term*Lambda)/(2*m)\n",
    "    J = J + reg_term\n",
    "    return J"
   ]
  },
  {
   "cell_type": "code",
   "execution_count": 5,
   "id": "9563e4ec",
   "metadata": {},
   "outputs": [],
   "source": [
    "def gradient_funct(Theta, X, y, Lambda):\n",
    "    X = np.hstack((np.ones(shape=(X.shape[0], 1)), X))\n",
    "    m = np.shape(X)[0]\n",
    "    #h = np.dot(X, Theta[:, None])\n",
    "    h = hipotesis(X, Theta)\n",
    "    grad = np.matmul(X.T, h - y)\n",
    "    grad = grad/m\n",
    "    reg_term = (Lambda/m)*Theta\n",
    "    grad = grad + reg_term\n",
    "    grad = np.delete(grad, 0, 1)\n",
    "    return grad"
   ]
  },
  {
   "cell_type": "code",
   "execution_count": 6,
   "id": "ed377623",
   "metadata": {},
   "outputs": [],
   "source": [
    "def draw_graph(Theta, X, y):\n",
    "    plt.scatter(X, y, marker = 'x', c = 'red')\n",
    "    y = hipotesis(X, Theta)\n",
    "    plt.plot(X, y, c='blue')\n",
    "    plt.legend()\n",
    "    plt.show()"
   ]
  },
  {
   "cell_type": "code",
   "execution_count": 7,
   "id": "07f318ea",
   "metadata": {},
   "outputs": [],
   "source": [
    "def main():\n",
    "    #Cargamos los datos del fichero \"ex5data1.mat'\n",
    "    datafile = 'ex5data1.mat'\n",
    "    mat = loadmat(datafile)\n",
    "    X = mat.get(\"X\")\n",
    "    y = mat.get(\"y\")\n",
    "    \n",
    "    Lambda = 0\n",
    "    X_ones = np.hstack((np.ones(shape=(X.shape[0], 1)), X))\n",
    "    Theta = np.ones(X_ones.shape[1])\n",
    "    \n",
    "    cost = cost_funct(Theta, X, y, Lambda)\n",
    "    grad = gradient_funct(Theta, X, y, Lambda)\n",
    "    m = np.shape(X)[0]\n",
    "    \n",
    "    print(\"cost:\", cost)\n",
    "    print(\"grad:\", grad)\n",
    "    \n",
    "    result = opt.fmin_tnc(func=cost_funct, x0=Theta, fprime=gradient_funct, args=(X, y, Lambda))\n",
    "    ThetaOpt = result[0]\n",
    "\n",
    "    draw_graph(ThetaOpt, X, y)"
   ]
  },
  {
   "cell_type": "code",
   "execution_count": 8,
   "id": "72be65cf",
   "metadata": {},
   "outputs": [
    {
     "name": "stderr",
     "output_type": "stream",
     "text": [
      "  NIT   NF   F                       GTG\n",
      "    0    1  3.039515255535976E+02   3.58038434E+05\n",
      "tnc: fscale = 0.000835613\n",
      "    1    3  9.299577620594808E+01   1.36988337E+02\n",
      "tnc: fscale = 0.0427197\n",
      "    2    5  4.008670401834714E+01   2.25224917E+04\n",
      "    3    7  2.237390649510906E+01   6.62767544E-11\n",
      "tnc: fscale = 61417.1\n",
      "tnc: |fn-fn-1] = 3.41188e-14 -> convergence\n",
      "    4    9  2.237390649510902E+01   2.10473664E-13\n",
      "tnc: Converged (|f_n-f_(n-1)| ~= 0)\n",
      "No handles with labels found to put in legend.\n"
     ]
    },
    {
     "name": "stdout",
     "output_type": "stream",
     "text": [
      "(12, 1) (12, 1)\n",
      "(21, 1) (21, 1)\n",
      "-5.085426348834809 28.68873075847896\n",
      "11.217589325366376 12.492955274415026\n",
      "cost: 303.9515255535976\n",
      "grad: [[-15.30301567]\n",
      " [598.16741084]]\n"
     ]
    },
    {
     "data": {
      "image/png": "[encoded data removed]",
      "text/plain": [
       "<Figure size 432x288 with 1 Axes>"
      ]
     },
     "metadata": {
      "needs_background": "light"
     },
     "output_type": "display_data"
    }
   ],
   "source": [
    "main()"
   ]
  },
  {
   "cell_type": "code",
   "execution_count": null,
   "id": "0a37438f",
   "metadata": {},
   "outputs": [],
   "source": []
  },
  {
   "cell_type": "code",
   "execution_count": null,
   "id": "45c64b1d",
   "metadata": {},
   "outputs": [],
   "source": []
  }
 ],
 "metadata": {
  "kernelspec": {
   "display_name": "Python 3 (ipykernel)",
   "language": "python",
   "name": "python3"
  },
  "language_info": {
   "codemirror_mode": {
    "name": "ipython",
    "version": 3
   },
   "file_extension": ".py",
   "mimetype": "text/x-python",
   "name": "python",
   "nbconvert_exporter": "python",
   "pygments_lexer": "ipython3",
   "version": "3.9.7"
  }
 },
 "nbformat": 4,
 "nbformat_minor": 5
}
