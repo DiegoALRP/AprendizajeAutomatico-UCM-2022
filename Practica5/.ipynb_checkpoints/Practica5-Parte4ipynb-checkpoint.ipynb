{
 "cells": [
  {
   "cell_type": "code",
   "execution_count": 1,
   "id": "27ff1e18",
   "metadata": {},
   "outputs": [],
   "source": [
    "#Imports\n",
    "import numpy as np\n",
    "from scipy.io import loadmat\n",
    "import scipy.optimize as opt\n",
    "import matplotlib.pyplot as plt\n",
    "from scipy.optimize import minimize"
   ]
  },
  {
   "cell_type": "markdown",
   "id": "4ce8e24a",
   "metadata": {},
   "source": [
    "# Apartado 2. Regresión Lineal Regularizada - Curva de Aprendizaje"
   ]
  },
  {
   "cell_type": "code",
   "execution_count": 2,
   "id": "c875fb76",
   "metadata": {},
   "outputs": [],
   "source": [
    "#Hipotesis\n",
    "def hipotesis(X, Theta):\n",
    "    return Theta[0] + Theta[1] * X"
   ]
  },
  {
   "cell_type": "code",
   "execution_count": 3,
   "id": "f6208763",
   "metadata": {},
   "outputs": [],
   "source": [
    "# Funcion de coste\n",
    "def cost_funct(Theta, X, y, Lambda):\n",
    "    m = X.shape[0]\n",
    "    h = np.dot(X, Theta)\n",
    "    J = np.sum((h - y)**2)\n",
    "    J = J/(2*m)\n",
    "    reg_term = np.sum(Theta[1:]**2)\n",
    "    reg_term = (reg_term*Lambda)/(2*m)\n",
    "    J = J + reg_term\n",
    "    return J\n",
    "\n",
    "def linear_cost_funct(Theta, X, y, Lambda):\n",
    "    m = X.shape[0]\n",
    "    h = np.dot(X, Theta)\n",
    "    J = np.sum((h - y.T)**2)\n",
    "    J = J/(2*m)\n",
    "    return J"
   ]
  },
  {
   "cell_type": "code",
   "execution_count": 4,
   "id": "caf909e5",
   "metadata": {},
   "outputs": [],
   "source": [
    "def gradient_funct(Theta, X, y, Lambda):\n",
    "    m = np.shape(X)[0]\n",
    "    h = np.dot(X, Theta)\n",
    "    grad = np.matmul(h - y, X)\n",
    "    grad = grad/m\n",
    "    grad_0 = grad[0]\n",
    "    reg_term = (Lambda/m)*Theta\n",
    "    grad = grad + reg_term\n",
    "    grad[0] = grad_0\n",
    "    return grad"
   ]
  },
  {
   "cell_type": "code",
   "execution_count": 5,
   "id": "1cd97cd7",
   "metadata": {},
   "outputs": [],
   "source": [
    "def draw_graph(Theta, X, y, result, newX):\n",
    "    #plt.scatter(X, y, marker = 'x', c = 'red')\n",
    "    lineY = newX.dot(result.x)\n",
    "    plt.plot(newX, lineY, c='blue')\n",
    "    plt.legend()\n",
    "    plt.show()"
   ]
  },
  {
   "cell_type": "code",
   "execution_count": 6,
   "id": "093ef8c4",
   "metadata": {},
   "outputs": [],
   "source": [
    "def learning_curve(X, y, Lambda, Theta, Xval, yval):\n",
    "    \n",
    "    m1 = X.shape[0]\n",
    "    m2 = Xval.shape[0]\n",
    "    err1 = np.zeros(m1)\n",
    "    err2 = np.zeros(m2)\n",
    "    \n",
    "    for i in range(1, X.shape[0] + 1):\n",
    "        result = opt.minimize(cost_and_gradient, Theta, args=(X[0:i], y[0:i], Lambda), jac=True, method='TNC')\n",
    "        ThetasOpt = result.x\n",
    "        \n",
    "        err1[i - 1] = error_calculation(ThetasOpt, X[0:i], y[0:i], m1)\n",
    "        err2[i - 1] = error_calculation(ThetasOpt, Xval, yval, m2)\n",
    "        \n",
    "    return err1, err2"
   ]
  },
  {
   "cell_type": "code",
   "execution_count": 7,
   "id": "855e8047",
   "metadata": {},
   "outputs": [],
   "source": [
    "def error_calculation(Theta, X, y, m):\n",
    "    h = np.dot(X, Theta)\n",
    "    J = np.sum((h - y.T)**2)\n",
    "    J = J/(2*m)\n",
    "    return J"
   ]
  },
  {
   "cell_type": "code",
   "execution_count": 8,
   "id": "38c190f1",
   "metadata": {},
   "outputs": [],
   "source": [
    "def draw_learning_curve(err1, err2):\n",
    "    l = np.arange(len(err1))\n",
    "    b = err1\n",
    "    plt.plot(l, b, c=\"blue\", label=\"Train\")\n",
    "\n",
    "    d = err2[0:len(err1)]\n",
    "    plt.plot(l, d, c=\"orange\", label=\"Cross Validation\")"
   ]
  },
  {
   "cell_type": "markdown",
   "id": "c3f6adb9",
   "metadata": {},
   "source": [
    "# Nuevo del apartado 4"
   ]
  },
  {
   "cell_type": "code",
   "execution_count": 9,
   "id": "a3993d89",
   "metadata": {},
   "outputs": [],
   "source": [
    "def generate_new_training_data(X, p):\n",
    "    newX = X\n",
    "    for i in range(2, p + 1):\n",
    "        #newX = np.hstack([newX, X ** i])\n",
    "        newX = np.column_stack([newX, X ** i])\n",
    "    return newX"
   ]
  },
  {
   "cell_type": "code",
   "execution_count": 10,
   "id": "fe053d95",
   "metadata": {},
   "outputs": [],
   "source": [
    "def normalize_attributes(X, mean, std_des):\n",
    "    X_norm = X - mean\n",
    "    X_norm = X_norm / std_des\n",
    "    return X_norm"
   ]
  },
  {
   "cell_type": "code",
   "execution_count": 11,
   "id": "3cf28ae4",
   "metadata": {},
   "outputs": [],
   "source": [
    "def cost_and_gradient(Theta, X, y, Lambda):\n",
    "    return cost_funct(Theta, X, y, Lambda), gradient_funct(Theta, X, y, Lambda)"
   ]
  },
  {
   "cell_type": "code",
   "execution_count": 12,
   "id": "23aec87f",
   "metadata": {},
   "outputs": [],
   "source": [
    "def draw_points(X, y, p, mean, std_des, result):\n",
    "    # Pintamos grafica\n",
    "    plt.figure()\n",
    "    plt.plot(X, y, \"x\", color='red')\n",
    "    lineX = np.arange(np.min(X) - 5,np.max(X) + 6,0.05)\n",
    "    aux_x = (generate_new_training_data(lineX, p) - mean) / std_des\n",
    "    lineY = np.hstack([np.ones([len(aux_x),1]),aux_x]).dot(result.x)\n",
    "    plt.plot(lineX, lineY, '-', c = 'blue')\n",
    "    plt.show()\n",
    "    plt.close()\n",
    "    #draw_graph(ThetaOpt, X, y, result, newX)"
   ]
  },
  {
   "cell_type": "code",
   "execution_count": 20,
   "id": "01ce73b0",
   "metadata": {},
   "outputs": [],
   "source": [
    "def main():\n",
    "    \n",
    "    #Cargamos los datos del fichero \"ex5data1.mat'\n",
    "    datafile = 'ex5data1.mat'\n",
    "    mat = loadmat(datafile)\n",
    "    \n",
    "    X = mat.get(\"X\")\n",
    "    y = mat.get(\"y\")\n",
    "    y = y[:, -1]\n",
    "    Xval = mat.get(\"Xval\")\n",
    "    yval = mat.get(\"yval\")\n",
    "    yval = yval[:, -1]\n",
    "    Xtest = mat.get(\"Xtest\")\n",
    "    ytest = mat.get(\"ytest\")\n",
    "    ytest = ytest[:, -1]\n",
    "\n",
    "    Lambda = 0\n",
    "    #Grado del polinomio\n",
    "    p = 8\n",
    "    \n",
    "    #Se genera nuevos datos de entrenamiento a partir de los datos originales X\n",
    "    newX = generate_new_training_data(X, p)\n",
    "    #Media\n",
    "    mean = np.mean(newX, axis = 0)\n",
    "    #Desviacion Estandar\n",
    "    std_des = np.std(newX, axis = 0)\n",
    "    #Se normalizan los atributos\n",
    "    X_norm = normalize_attributes(newX, mean, std_des)\n",
    "    #Se añade columna de 1s\n",
    "    newX = np.hstack([np.ones([X_norm.shape[0], 1]), X_norm])\n",
    "    \n",
    "    #Se genera nuevos datos de VALIDACION a partir de los datos originales Xval\n",
    "    newXval = generate_new_training_data(Xval, p)\n",
    "    #Se normalizan los atributos\n",
    "    X_norm_val = normalize_attributes(newXval, mean, std_des)\n",
    "    #Se añade columna de 1s\n",
    "    newXval = np.hstack([np.ones([X_norm_val.shape[0], 1]), X_norm_val])\n",
    "    #newXval = X_norm_val\n",
    "    \n",
    "    #Se genera nuevos datos de TEST a partir de los datos originales Xtest\n",
    "    newXtest = generate_new_training_data(Xtest, p)\n",
    "    #Se normalizan los atributos\n",
    "    X_norm_test = normalize_attributes(newXtest, mean, std_des)\n",
    "    #Se añade columna de 1s\n",
    "    newXtest = np.hstack([np.ones([X_norm_test.shape[0], 1]), X_norm_test])\n",
    "    \n",
    "    \n",
    "    #Apartado 4.1\n",
    "    \n",
    "    Lambdas = np.array([0, 0.001, 0.003, 0.01, 0.03, 0.1, 0.3, 1, 3, 10])\n",
    "    \n",
    "    training = np.zeros((Lambdas.shape[0], 1))\n",
    "    validation = np.zeros((Lambdas.shape[0], 1))\n",
    "    i = 0\n",
    "    for Lambda in Lambdas:\n",
    "        \n",
    "        Theta = np.zeros(newX.shape[1])\n",
    "        result = opt.minimize(cost_and_gradient, Theta, args=(newX, y, Lambda), jac=True, method='TNC')\n",
    "        \n",
    "        ThetaOpt = result.x\n",
    "        \n",
    "        #Creo que el profesor lo tiene con Lambda = 0, pero me parece mejor si fuese el Lambda actual\n",
    "        training[i] = cost_funct(ThetaOpt, newX, y, 0)\n",
    "        validation[i] = cost_funct(ThetaOpt, newXval, yval, 0)\n",
    "        i = i + 1\n",
    "    \n",
    "    plt.figure()\n",
    "    plt.plot(Lambdas,training,label=\"Entrenamiento\")\n",
    "    plt.plot(Lambdas,validation,label=\"Validacion\")\n",
    "    plt.show()\n",
    "    plt.close()\n",
    "    \n",
    "    #Apartado 4.2\n",
    "    Theta = np.ones(newX.shape[1])\n",
    "    Lambda_3 = 3\n",
    "    res_error = opt.minimize(cost_and_gradient, Theta, args=(newX, y, Lambda_3), jac=True, method='TNC')\n",
    "    res_cost = linear_cost_funct(res_error.x, newXtest, ytest, Lambda_3)\n",
    "    \n",
    "    print(res_cost)\n",
    "    "
   ]
  },
  {
   "cell_type": "code",
   "execution_count": null,
   "id": "60f28985",
   "metadata": {},
   "outputs": [],
   "source": []
  },
  {
   "cell_type": "code",
   "execution_count": 21,
   "id": "42d0846f",
   "metadata": {},
   "outputs": [
    {
     "data": {
      "image/png": "[encoded data removed]",
      "text/plain": [
       "<Figure size 432x288 with 1 Axes>"
      ]
     },
     "metadata": {
      "needs_background": "light"
     },
     "output_type": "display_data"
    },
    {
     "name": "stdout",
     "output_type": "stream",
     "text": [
      "3.57202602515638\n"
     ]
    }
   ],
   "source": [
    "main()"
   ]
  },
  {
   "cell_type": "code",
   "execution_count": null,
   "id": "38275ab8",
   "metadata": {},
   "outputs": [],
   "source": []
  }
 ],
 "metadata": {
  "kernelspec": {
   "display_name": "Python 3 (ipykernel)",
   "language": "python",
   "name": "python3"
  },
  "language_info": {
   "codemirror_mode": {
    "name": "ipython",
    "version": 3
   },
   "file_extension": ".py",
   "mimetype": "text/x-python",
   "name": "python",
   "nbconvert_exporter": "python",
   "pygments_lexer": "ipython3",
   "version": "3.9.7"
  }
 },
 "nbformat": 4,
 "nbformat_minor": 5
}
