{
 "cells": [
  {
   "cell_type": "code",
   "execution_count": 1,
   "id": "27ff1e18",
   "metadata": {},
   "outputs": [],
   "source": [
    "#Imports\n",
    "import numpy as np\n",
    "from scipy.io import loadmat\n",
    "import scipy.optimize as opt\n",
    "import matplotlib.pyplot as plt\n",
    "from scipy.optimize import minimize"
   ]
  },
  {
   "cell_type": "markdown",
   "id": "4ce8e24a",
   "metadata": {},
   "source": [
    "# Apartado 2. Regresión Lineal Regularizada - Curva de Aprendizaje"
   ]
  },
  {
   "cell_type": "code",
   "execution_count": 2,
   "id": "c875fb76",
   "metadata": {},
   "outputs": [],
   "source": [
    "#Hipotesis\n",
    "def hipotesis(X, Theta):\n",
    "    return Theta[0] + Theta[1] * X"
   ]
  },
  {
   "cell_type": "code",
   "execution_count": 3,
   "id": "f6208763",
   "metadata": {},
   "outputs": [],
   "source": [
    "# Funcion de coste\n",
    "def cost_funct(Theta, X, y, Lambda):\n",
    "    m = X.shape[0]\n",
    "    h = np.dot(X, Theta)\n",
    "    #h = hipotesis(X, Theta)\n",
    "    J = np.sum((h - y)**2)\n",
    "    J = J/(2*m)\n",
    "    reg_term = np.sum(Theta[1:]**2)\n",
    "    reg_term = (reg_term*Lambda)/(2*m)\n",
    "    J = J + reg_term\n",
    "    return J\n",
    "\n",
    "def linear_cost_funct(Theta, X, y, Lambda):\n",
    "    m = X.shape[0]\n",
    "    h = np.dot(X, Theta)\n",
    "    #h = hipotesis(X, Theta)\n",
    "    J = np.sum((h - y.T)**2)\n",
    "    J = J/(2*m)\n",
    "    return J"
   ]
  },
  {
   "cell_type": "code",
   "execution_count": 4,
   "id": "caf909e5",
   "metadata": {},
   "outputs": [],
   "source": [
    "def gradient_funct(Theta, X, y, Lambda):\n",
    "    m = np.shape(X)[0]\n",
    "    h = np.dot(X, Theta)\n",
    "    #h = hipotesis(X, Theta)\n",
    "    grad = np.matmul(h - y, X)\n",
    "    grad = grad/m\n",
    "    grad_0 = grad[0]\n",
    "    reg_term = (Lambda/m)*Theta\n",
    "    grad = grad + reg_term\n",
    "    grad[0] = grad_0\n",
    "    return grad\n",
    "    \"\"\"Y = y.T\n",
    "    print(\"Theta\", Theta.shape)\n",
    "    print(\"X\", X.shape)\n",
    "    print(\"Y\", Y.shape)\n",
    "    m = np.shape(X)[0]\n",
    "    H = np.dot(X, Theta)\n",
    "    a = np.matmul(np.transpose(X), H - Y)\n",
    "    grad = a/m\n",
    "    g_0 = grad[0]\n",
    "    regularizador = (Lambda / np.shape(X)[0]) * Theta\n",
    "    grad = grad + regularizador\n",
    "    grad[0] = g_0\n",
    "    return grad\"\"\""
   ]
  },
  {
   "cell_type": "code",
   "execution_count": 5,
   "id": "1cd97cd7",
   "metadata": {},
   "outputs": [],
   "source": [
    "def draw_graph(Theta, X, y, result, newX):\n",
    "    #plt.scatter(X, y, marker = 'x', c = 'red')\n",
    "    lineY = newX.dot(result.x)\n",
    "    plt.plot(newX, lineY, c='blue')\n",
    "    plt.legend()\n",
    "    plt.show()"
   ]
  },
  {
   "cell_type": "code",
   "execution_count": 6,
   "id": "093ef8c4",
   "metadata": {},
   "outputs": [],
   "source": [
    "def learning_curve(X, y, Lambda, Theta, Xval, yval):\n",
    "    \n",
    "    m1 = X.shape[0]\n",
    "    m2 = Xval.shape[0]\n",
    "    err1 = np.zeros(m1)\n",
    "    err2 = np.zeros(m2)\n",
    "    \n",
    "    for i in range(1, X.shape[0] + 1):\n",
    "        result = opt.minimize(cost_and_gradient, Theta, args=(X[0:i], y[0:i], Lambda), jac=True, method='TNC')\n",
    "        ThetasOpt = result.x\n",
    "        \n",
    "        err1[i - 1] = error_calculation(ThetasOpt, X[0:i], y[0:i], m1)\n",
    "        err2[i - 1] = error_calculation(ThetasOpt, Xval, yval, m2)\n",
    "        \n",
    "    return err1, err2"
   ]
  },
  {
   "cell_type": "code",
   "execution_count": 7,
   "id": "855e8047",
   "metadata": {},
   "outputs": [],
   "source": [
    "def error_calculation(Theta, X, y, m):\n",
    "    h = np.dot(X, Theta)\n",
    "    J = np.sum((h - y.T)**2)\n",
    "    J = J/(2*m)\n",
    "    return J"
   ]
  },
  {
   "cell_type": "code",
   "execution_count": 8,
   "id": "38c190f1",
   "metadata": {},
   "outputs": [],
   "source": [
    "def draw_learning_curve(err1, err2):\n",
    "    l = np.arange(len(err1))\n",
    "    b = err1\n",
    "    plt.plot(l, b, c=\"blue\", label=\"Train\")\n",
    "\n",
    "    d = err2[0:len(err1)]\n",
    "    plt.plot(l, d, c=\"orange\", label=\"Cross Validation\")"
   ]
  },
  {
   "cell_type": "markdown",
   "id": "c3f6adb9",
   "metadata": {},
   "source": [
    "# Nuevo del apartado 4"
   ]
  },
  {
   "cell_type": "code",
   "execution_count": 9,
   "id": "a3993d89",
   "metadata": {},
   "outputs": [],
   "source": [
    "def generate_new_training_data(X, p):\n",
    "    newX = X\n",
    "    for i in range(2, p + 1):\n",
    "        #newX = np.hstack([newX, X ** i])\n",
    "        newX = np.column_stack([newX, X ** i])\n",
    "    return newX"
   ]
  },
  {
   "cell_type": "code",
   "execution_count": 10,
   "id": "fe053d95",
   "metadata": {},
   "outputs": [],
   "source": [
    "def normalize_attributes(X, mean, std_des):\n",
    "    X_norm = X - mean\n",
    "    X_norm = X_norm / std_des\n",
    "    return X_norm"
   ]
  },
  {
   "cell_type": "code",
   "execution_count": 11,
   "id": "3cf28ae4",
   "metadata": {},
   "outputs": [],
   "source": [
    "def cost_and_gradient(Theta, X, y, Lambda):\n",
    "    return cost_funct(Theta, X, y, Lambda), gradient_funct(Theta, X, y, Lambda)"
   ]
  },
  {
   "cell_type": "code",
   "execution_count": 12,
   "id": "23aec87f",
   "metadata": {},
   "outputs": [],
   "source": [
    "def draw_points(X, y, p, mean, std_des, result):\n",
    "    # Pintamos grafica\n",
    "    plt.figure()\n",
    "    plt.plot(X, y, \"x\", color='red')\n",
    "    lineX = np.arange(np.min(X) - 5,np.max(X) + 6,0.05)\n",
    "    aux_x = (generate_new_training_data(lineX, p) - mean) / std_des\n",
    "    lineY = np.hstack([np.ones([len(aux_x),1]),aux_x]).dot(result.x)\n",
    "    plt.plot(lineX, lineY, '-', c = 'blue')\n",
    "    plt.show()\n",
    "    plt.close()\n",
    "    #draw_graph(ThetaOpt, X, y, result, newX)"
   ]
  },
  {
   "cell_type": "code",
   "execution_count": 13,
   "id": "01ce73b0",
   "metadata": {},
   "outputs": [],
   "source": [
    "def main():\n",
    "    \n",
    "    #Cargamos los datos del fichero \"ex5data1.mat'\n",
    "    datafile = 'ex5data1.mat'\n",
    "    mat = loadmat(datafile)\n",
    "    \n",
    "    X = mat.get(\"X\")\n",
    "    y = mat.get(\"y\")\n",
    "    y = y[:, -1]\n",
    "    Xval = mat.get(\"Xval\")\n",
    "    yval = mat.get(\"yval\")\n",
    "    yval = yval[:, -1]\n",
    "    Xtest = mat.get(\"Xtest\")\n",
    "    ytest = mat.get(\"ytest\")\n",
    "    ytest = ytest[:, -1]\n",
    "\n",
    "    Lambda = 0\n",
    "    #Grado del polinomio\n",
    "    p = 8\n",
    "    \n",
    "    #Se genera nuevos datos de entrenamiento a partir de los datos originales X\n",
    "    newX = generate_new_training_data(X, p)\n",
    "    #Media\n",
    "    mean = np.mean(newX, axis = 0)\n",
    "    #Desviacion Estandar\n",
    "    std_des = np.std(newX, axis = 0)\n",
    "    #Se normalizan los atributos\n",
    "    X_norm = normalize_attributes(newX, mean, std_des)\n",
    "    #Se añade columna de 1s\n",
    "    newX = np.hstack([np.ones([X_norm.shape[0], 1]), X_norm])\n",
    "    #Tambien se puede escribir: newX = np.insert(X_norm, 0, 1, axis=1)\n",
    "    #print(\"X:\", X)\n",
    "    #print(\"newX:\", newX)\n",
    "    \n",
    "    #Theta = np.ones(newX.shape[1])\n",
    "    #Theta = np.zeros(newX.shape[1])\n",
    "    \n",
    "    #result = opt.fmin_tnc(func=cost_funct, x0=Theta, fprime=gradient_funct, args=(newX, y, Lambda))\n",
    "    #result = opt.minimize(cost_and_gradient, Theta, args=(newX, y, Lambda), jac=True, method='TNC')\n",
    "    \n",
    "    #draw_points(X, y, p, mean, std_des, result)\n",
    "    \n",
    "    \n",
    "    #Apartado 3.2\n",
    "    \n",
    "    #Se genera nuevos datos de VALIDACION a partir de los datos originales Xval\n",
    "    newXval = generate_new_training_data(Xval, p)\n",
    "    #Media\n",
    "    mean_val = np.mean(newXval, axis = 0)\n",
    "    #Desviacion Estandar\n",
    "    std_des_val = np.std(newXval, axis = 0)\n",
    "    #Se normalizan los atributos\n",
    "    X_norm_val = normalize_attributes(newXval, mean, std_des)\n",
    "    #Se añade columna de 1s\n",
    "    newXval = np.hstack([np.ones([X_norm_val.shape[0], 1]), X_norm_val])\n",
    "    #newXval = X_norm_val\n",
    "    \n",
    "    #Se genera nuevos datos de TEST a partir de los datos originales Xtest\n",
    "    newXtest = generate_new_training_data(Xtest, p)\n",
    "    #Media\n",
    "    mean_test = np.mean(newXtest, axis = 0)\n",
    "    #Desviacion Estandar\n",
    "    std_des_test = np.std(newXtest, axis = 0)\n",
    "    #Se normalizan los atributos\n",
    "    X_norm_test = normalize_attributes(newXtest, mean, std_des)\n",
    "    #Se añade columna de 1s\n",
    "    newXtest = np.hstack([np.ones([X_norm_test.shape[0], 1]), X_norm_test])\n",
    "    \n",
    "    #err1, err2 = learning_curve(newX, y, Lambda, Theta, newXval, yval)\n",
    "    #draw_learning_curve(err1, err2)\n",
    "    \n",
    "    #plt.show()\n",
    "    \n",
    "    \n",
    "    #Apartado4\n",
    "    \n",
    "    Lambdas = np.array([0, 0.001, 0.003, 0.01, 0.03, 0.1, 0.3, 1, 3, 10])\n",
    "    \n",
    "    training = np.zeros((Lambdas.shape[0], 1))\n",
    "    validation = np.zeros((Lambdas.shape[0], 1))\n",
    "    i = 0\n",
    "    \"\"\"for Lambda in Lambdas:\n",
    "        \n",
    "        Theta = np.zeros(newX.shape[1])\n",
    "        result = opt.minimize(cost_and_gradient, Theta, args=(newX, y, Lambda), jac=True, method='TNC')\n",
    "        \n",
    "        ThetaOpt = result.x\n",
    "        \n",
    "        #Creo que el profesor lo tiene con Lambda = 0, pero me parece mejor si fuese el Lambda actual\n",
    "        training[i] = cost_funct(ThetaOpt, newX, y, Lambda)\n",
    "        validation[i] = cost_funct(ThetaOpt, newXval, yval, Lambda)\n",
    "        i = i + 1\n",
    "    \n",
    "    plt.figure()\n",
    "    plt.plot(Lambdas,training,label=\"Entrenamiento\")\n",
    "    plt.plot(Lambdas,validation,label=\"Validacion\")\n",
    "    plt.show()\n",
    "    plt.close()\"\"\"\n",
    "    \n",
    "    Theta = np.ones(newX.shape[1])\n",
    "    Lambda_3 = 3\n",
    "    #res_error = opt.minimize(cost_and_gradient, Theta, args=(newX, y, Lambda_3), jac=True, method='TNC')\n",
    "    #res_cost = linear_cost_funct(res_error.x, newXtest, ytest, Lambda_3)\n",
    "    \n",
    "    #print(res_error)\n",
    "    #print(\"Coste:\", res_cost)\n",
    "    print(\"cost\", linear_cost_funct(Theta, newXtest, ytest, Lambda_3))\n",
    "    print(\"grad\", gradient_funct(Theta, newX, y, 3))\n",
    "    "
   ]
  },
  {
   "cell_type": "code",
   "execution_count": null,
   "id": "60f28985",
   "metadata": {},
   "outputs": [],
   "source": []
  },
  {
   "cell_type": "code",
   "execution_count": 14,
   "id": "42d0846f",
   "metadata": {},
   "outputs": [
    {
     "name": "stdout",
     "output_type": "stream",
     "text": [
      "(12, 1) (12,)\n",
      "(21, 1) (21,)\n",
      "-5.085426348834809 28.68873075847896\n",
      "11.217589325366376 12.492955274415026\n",
      "cost 129.50550759559079\n",
      "grad [-10.21758933  -8.77356739  -0.18668793  -7.39073489   1.38604641\n",
      "  -6.07800778   2.36358063  -5.09594533   2.93928726]\n"
     ]
    }
   ],
   "source": [
    "main()"
   ]
  },
  {
   "cell_type": "code",
   "execution_count": 15,
   "id": "28d6cb3b",
   "metadata": {},
   "outputs": [
    {
     "ename": "SyntaxError",
     "evalue": "invalid syntax (726962215.py, line 1)",
     "output_type": "error",
     "traceback": [
      "\u001b[0;36m  File \u001b[0;32m\"/var/folders/5g/32qmkgbs0ynf64vm8b185ky40000gn/T/ipykernel_4080/726962215.py\"\u001b[0;36m, line \u001b[0;32m1\u001b[0m\n\u001b[0;31m    X [[ 1.00000000e+00  1.00000000e+00  1.00000000e+00  1.00000000e+00\u001b[0m\n\u001b[0m                         ^\u001b[0m\n\u001b[0;31mSyntaxError\u001b[0m\u001b[0;31m:\u001b[0m invalid syntax\n"
     ]
    }
   ],
   "source": [
    "X [[ 1.00000000e+00  1.00000000e+00  1.00000000e+00  1.00000000e+00\n",
    "   1.00000000e+00  1.00000000e+00  1.00000000e+00  1.00000000e+00\n",
    "   1.00000000e+00  1.00000000e+00  1.00000000e+00  1.00000000e+00]\n",
    " [-3.78243704e-01 -8.38920100e-01  1.43871736e+00  1.48412330e+00\n",
    "  -1.49791929e+00 -1.34409278e-01  7.10844248e-01 -1.03249041e+00\n",
    "   2.25683763e-01 -1.36981778e+00  4.21731046e-01  9.70700848e-01]\n",
    " [-7.88662325e-01  1.31420204e-03  6.10831582e-01  7.38068463e-01\n",
    "   1.93643966e+00 -1.01936614e+00 -8.14713668e-01  4.71428060e-01\n",
    "  -1.12279332e+00  1.48607235e+00 -1.06014377e+00 -4.38475085e-01]\n",
    " [ 1.90328720e-01 -2.58961742e-01  1.30534069e+00  1.42031240e+00\n",
    "  -2.12774745e+00  2.62563148e-01  3.55803314e-01 -6.28018432e-01\n",
    "   2.78115330e-01 -1.61695958e+00  2.85534542e-01  5.33689054e-01]\n",
    " [-7.37591303e-01 -3.41564822e-01  2.56220001e-01  4.13121830e-01\n",
    "   2.43510061e+00 -7.72577738e-01 -7.43368461e-01  9.70487696e-02\n",
    "  -7.76423647e-01  1.55980151e+00 -7.74969228e-01 -6.14797521e-01]\n",
    " [ 3.20251970e-01  9.75492734e-02  1.02186338e+00  1.15534830e+00\n",
    "  -2.51876748e+00  3.31046537e-01  3.41027665e-01 -2.28187552e-01\n",
    "   3.31682056e-01 -1.58331392e+00  3.31870677e-01  3.99629101e-01]\n",
    " [-6.17151602e-01 -4.55196644e-01 -1.26962121e-02  1.31223708e-01\n",
    "   2.71792174e+00 -6.21453712e-01 -6.18104683e-01 -1.47905228e-01\n",
    "  -6.21592224e-01  1.45040261e+00 -6.21559967e-01 -5.83887796e-01]\n",
    " [ 3.59835014e-01  2.66773432e-01  7.90210009e-01  9.10700224e-01\n",
    "  -2.76331690e+00  3.61188658e-01  3.62252117e-01  4.11556057e-02\n",
    "   3.61212770e-01 -1.42914967e+00  3.61217175e-01  3.77921571e-01]\n",
    " [-5.31091256e-01 -4.68873807e-01 -1.77926980e-01 -6.22895388e-02\n",
    "   2.88908182e+00 -5.31586524e-01 -5.31229003e-01 -2.78551428e-01\n",
    "  -5.31591435e-01  1.27857621e+00 -5.31590732e-01 -5.22927330e-01]]"
   ]
  },
  {
   "cell_type": "code",
   "execution_count": null,
   "id": "f5e4a405",
   "metadata": {},
   "outputs": [],
   "source": [
    "X.T [[ 1.00000000e+00  1.00000000e+00  1.00000000e+00  1.00000000e+00\n",
    "   1.00000000e+00  1.00000000e+00  1.00000000e+00  1.00000000e+00\n",
    "   1.00000000e+00  1.00000000e+00  1.00000000e+00  1.00000000e+00]\n",
    " [-3.78243704e-01 -8.38920100e-01  1.43871736e+00  1.48412330e+00\n",
    "  -1.49791929e+00 -1.34409278e-01  7.10844248e-01 -1.03249041e+00\n",
    "   2.25683763e-01 -1.36981778e+00  4.21731046e-01  9.70700848e-01]\n",
    " [-7.88662325e-01  1.31420204e-03  6.10831582e-01  7.38068463e-01\n",
    "   1.93643966e+00 -1.01936614e+00 -8.14713668e-01  4.71428060e-01\n",
    "  -1.12279332e+00  1.48607235e+00 -1.06014377e+00 -4.38475085e-01]\n",
    " [ 1.90328720e-01 -2.58961742e-01  1.30534069e+00  1.42031240e+00\n",
    "  -2.12774745e+00  2.62563148e-01  3.55803314e-01 -6.28018432e-01\n",
    "   2.78115330e-01 -1.61695958e+00  2.85534542e-01  5.33689054e-01]\n",
    " [-7.37591303e-01 -3.41564822e-01  2.56220001e-01  4.13121830e-01\n",
    "   2.43510061e+00 -7.72577738e-01 -7.43368461e-01  9.70487696e-02\n",
    "  -7.76423647e-01  1.55980151e+00 -7.74969228e-01 -6.14797521e-01]\n",
    " [ 3.20251970e-01  9.75492734e-02  1.02186338e+00  1.15534830e+00\n",
    "  -2.51876748e+00  3.31046537e-01  3.41027665e-01 -2.28187552e-01\n",
    "   3.31682056e-01 -1.58331392e+00  3.31870677e-01  3.99629101e-01]\n",
    " [-6.17151602e-01 -4.55196644e-01 -1.26962121e-02  1.31223708e-01\n",
    "   2.71792174e+00 -6.21453712e-01 -6.18104683e-01 -1.47905228e-01\n",
    "  -6.21592224e-01  1.45040261e+00 -6.21559967e-01 -5.83887796e-01]\n",
    " [ 3.59835014e-01  2.66773432e-01  7.90210009e-01  9.10700224e-01\n",
    "  -2.76331690e+00  3.61188658e-01  3.62252117e-01  4.11556057e-02\n",
    "   3.61212770e-01 -1.42914967e+00  3.61217175e-01  3.77921571e-01]\n",
    " [-5.31091256e-01 -4.68873807e-01 -1.77926980e-01 -6.22895388e-02\n",
    "   2.88908182e+00 -5.31586524e-01 -5.31229003e-01 -2.78551428e-01\n",
    "  -5.31591435e-01  1.27857621e+00 -5.31590732e-01 -5.22927330e-01]]"
   ]
  }
 ],
 "metadata": {
  "kernelspec": {
   "display_name": "Python 3 (ipykernel)",
   "language": "python",
   "name": "python3"
  },
  "language_info": {
   "codemirror_mode": {
    "name": "ipython",
    "version": 3
   },
   "file_extension": ".py",
   "mimetype": "text/x-python",
   "name": "python",
   "nbconvert_exporter": "python",
   "pygments_lexer": "ipython3",
   "version": "3.9.7"
  }
 },
 "nbformat": 4,
 "nbformat_minor": 5
}
