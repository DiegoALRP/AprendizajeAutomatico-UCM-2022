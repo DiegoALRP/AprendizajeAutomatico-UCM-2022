{
 "cells": [
  {
   "cell_type": "code",
   "execution_count": 10,
   "id": "0ecf7e4a",
   "metadata": {},
   "outputs": [],
   "source": [
    "import time\n",
    "import numpy as np\n",
    "import random as rn\n",
    "import scipy.integrate\n",
    "import math\n",
    "import matplotlib.pyplot as plt"
   ]
  },
  {
   "cell_type": "code",
   "execution_count": 11,
   "id": "589bae20",
   "metadata": {},
   "outputs": [],
   "source": [
    "def integra_mc(fun, a, b, num_puntos=10000):\n",
    "    lista_puntos = list()\n",
    "    MAX = float('-inf')\n",
    "    MIN = float('inf')\n",
    "    for i in range(0, num_puntos):\n",
    "        temp = fun(rn.uniform(a,b))\n",
    "        if(temp > MAX): \n",
    "            MAX = temp\n",
    "        if(temp < MIN):\n",
    "            MIN = temp\n",
    "    \n",
    "    for i in range(0, num_puntos):\n",
    "                                #X                    #Y\n",
    "        lista_puntos.append( (rn.uniform(a, b), rn.uniform(0, MAX)) )\n",
    "    \n",
    "    num_debajo = 0\n",
    "    for punto in lista_puntos:\n",
    "        if(punto[1] < fun(punto[0])):\n",
    "            num_debajo = num_debajo+1\n",
    "    \n",
    "    return (num_debajo/num_puntos)*(b-a)*MAX"
   ]
  },
  {
   "cell_type": "code",
   "execution_count": 12,
   "id": "b21f12bb",
   "metadata": {},
   "outputs": [],
   "source": [
    "def integra_mc_vec(fun, a, b, num_puntos):\n",
    "    \n",
    "    x = np.random.uniform(a, b, num_puntos)\n",
    "    MAX = max(x)\n",
    "    y = np.random.uniform(0, MAX, num_puntos)\n",
    "    \n",
    "    puntosY = np.array([fun(xi) for xi in x])\n",
    "    \n",
    "    num_debajo = np.sum(y < puntosY)\n",
    "    \n",
    "    res = num_debajo/num_puntos*(b-a)*MAX\n",
    "    \n",
    "    return res"
   ]
  },
  {
   "cell_type": "code",
   "execution_count": 17,
   "id": "c30757cc",
   "metadata": {},
   "outputs": [],
   "source": [
    "def compara_tiempos():\n",
    "    \n",
    "    sizes = np.linspace(100, 10000000, 20) \n",
    "    \n",
    "    times_iter = [] \n",
    "    times_vec = []\n",
    "    \n",
    "    for size in sizes: \n",
    "        \n",
    "        a = 1\n",
    "        b = 100\n",
    "        \n",
    "        tic = time.process_time()\n",
    "        res_iter = integra_mc(math.sin, a, b, int(size))\n",
    "        toc = time.process_time()\n",
    "        times_iter += [1000  * (toc - tic)]\n",
    "        \n",
    "        tic = time.process_time()\n",
    "        res_vec = integra_mc_vec(math.sin, a, b, int(size))\n",
    "        toc = time.process_time()\n",
    "        times_vec += [1000  * (toc - tic)]\n",
    "        \n",
    "        p1 = len(sizes)\n",
    "        p2 = len(times_iter)\n",
    "        \n",
    "        #print(\"size1\", p1, \"size2\", p2)\n",
    "        \n",
    "    plt.figure()\n",
    "    plt.scatter(sizes, times_iter,  c='red',  label='bucle')\n",
    "    plt.scatter(sizes, times_vec, c='blue',  label='vector')\n",
    "    plt.legend()\n",
    "    plt.savefig('compara_tiempos_dot.png')\n",
    "    "
   ]
  },
  {
   "cell_type": "code",
   "execution_count": 18,
   "id": "780ea407",
   "metadata": {},
   "outputs": [
    {
     "name": "stdout",
     "output_type": "stream",
     "text": [
      "size: \n",
      "100.0\n",
      "\n",
      "\n",
      "size1 20 size2 1\n",
      "size: \n",
      "526410.5263157894\n",
      "\n",
      "\n",
      "size1 20 size2 2\n",
      "size: \n",
      "1052721.0526315789\n",
      "\n",
      "\n",
      "size1 20 size2 3\n",
      "size: \n",
      "1579031.5789473683\n",
      "\n",
      "\n",
      "size1 20 size2 4\n",
      "size: \n",
      "2105342.1052631577\n",
      "\n",
      "\n"
     ]
    },
    {
     "ename": "KeyboardInterrupt",
     "evalue": "",
     "output_type": "error",
     "traceback": [
      "\u001b[0;31m---------------------------------------------------------------------------\u001b[0m",
      "\u001b[0;31mKeyboardInterrupt\u001b[0m                         Traceback (most recent call last)",
      "\u001b[0;32m/var/folders/5g/32qmkgbs0ynf64vm8b185ky40000gn/T/ipykernel_3427/684496979.py\u001b[0m in \u001b[0;36m<module>\u001b[0;34m\u001b[0m\n\u001b[0;32m----> 1\u001b[0;31m \u001b[0mcompara_tiempos\u001b[0m\u001b[0;34m(\u001b[0m\u001b[0;34m)\u001b[0m\u001b[0;34m\u001b[0m\u001b[0;34m\u001b[0m\u001b[0m\n\u001b[0m",
      "\u001b[0;32m/var/folders/5g/32qmkgbs0ynf64vm8b185ky40000gn/T/ipykernel_3427/1250323754.py\u001b[0m in \u001b[0;36mcompara_tiempos\u001b[0;34m()\u001b[0m\n\u001b[1;32m     16\u001b[0m \u001b[0;34m\u001b[0m\u001b[0m\n\u001b[1;32m     17\u001b[0m         \u001b[0mtic\u001b[0m \u001b[0;34m=\u001b[0m \u001b[0mtime\u001b[0m\u001b[0;34m.\u001b[0m\u001b[0mprocess_time\u001b[0m\u001b[0;34m(\u001b[0m\u001b[0;34m)\u001b[0m\u001b[0;34m\u001b[0m\u001b[0;34m\u001b[0m\u001b[0m\n\u001b[0;32m---> 18\u001b[0;31m         \u001b[0mres_iter\u001b[0m \u001b[0;34m=\u001b[0m \u001b[0mintegra_mc\u001b[0m\u001b[0;34m(\u001b[0m\u001b[0mmath\u001b[0m\u001b[0;34m.\u001b[0m\u001b[0msin\u001b[0m\u001b[0;34m,\u001b[0m \u001b[0ma\u001b[0m\u001b[0;34m,\u001b[0m \u001b[0mb\u001b[0m\u001b[0;34m,\u001b[0m \u001b[0mint\u001b[0m\u001b[0;34m(\u001b[0m\u001b[0msize\u001b[0m\u001b[0;34m)\u001b[0m\u001b[0;34m)\u001b[0m\u001b[0;34m\u001b[0m\u001b[0;34m\u001b[0m\u001b[0m\n\u001b[0m\u001b[1;32m     19\u001b[0m         \u001b[0mtoc\u001b[0m \u001b[0;34m=\u001b[0m \u001b[0mtime\u001b[0m\u001b[0;34m.\u001b[0m\u001b[0mprocess_time\u001b[0m\u001b[0;34m(\u001b[0m\u001b[0;34m)\u001b[0m\u001b[0;34m\u001b[0m\u001b[0;34m\u001b[0m\u001b[0m\n\u001b[1;32m     20\u001b[0m         \u001b[0mtimes_iter\u001b[0m \u001b[0;34m+=\u001b[0m \u001b[0;34m[\u001b[0m\u001b[0;36m1000\u001b[0m  \u001b[0;34m*\u001b[0m \u001b[0;34m(\u001b[0m\u001b[0mtoc\u001b[0m \u001b[0;34m-\u001b[0m \u001b[0mtic\u001b[0m\u001b[0;34m)\u001b[0m\u001b[0;34m]\u001b[0m\u001b[0;34m\u001b[0m\u001b[0;34m\u001b[0m\u001b[0m\n",
      "\u001b[0;32m/var/folders/5g/32qmkgbs0ynf64vm8b185ky40000gn/T/ipykernel_3427/2299965945.py\u001b[0m in \u001b[0;36mintegra_mc\u001b[0;34m(fun, a, b, num_puntos)\u001b[0m\n\u001b[1;32m     15\u001b[0m \u001b[0;34m\u001b[0m\u001b[0m\n\u001b[1;32m     16\u001b[0m     \u001b[0mnum_debajo\u001b[0m \u001b[0;34m=\u001b[0m \u001b[0;36m0\u001b[0m\u001b[0;34m\u001b[0m\u001b[0;34m\u001b[0m\u001b[0m\n\u001b[0;32m---> 17\u001b[0;31m     \u001b[0;32mfor\u001b[0m \u001b[0mpunto\u001b[0m \u001b[0;32min\u001b[0m \u001b[0mlista_puntos\u001b[0m\u001b[0;34m:\u001b[0m\u001b[0;34m\u001b[0m\u001b[0;34m\u001b[0m\u001b[0m\n\u001b[0m\u001b[1;32m     18\u001b[0m         \u001b[0;32mif\u001b[0m\u001b[0;34m(\u001b[0m\u001b[0mpunto\u001b[0m\u001b[0;34m[\u001b[0m\u001b[0;36m1\u001b[0m\u001b[0;34m]\u001b[0m \u001b[0;34m<\u001b[0m \u001b[0mfun\u001b[0m\u001b[0;34m(\u001b[0m\u001b[0mpunto\u001b[0m\u001b[0;34m[\u001b[0m\u001b[0;36m0\u001b[0m\u001b[0;34m]\u001b[0m\u001b[0;34m)\u001b[0m\u001b[0;34m)\u001b[0m\u001b[0;34m:\u001b[0m\u001b[0;34m\u001b[0m\u001b[0;34m\u001b[0m\u001b[0m\n\u001b[1;32m     19\u001b[0m             \u001b[0mnum_debajo\u001b[0m \u001b[0;34m=\u001b[0m \u001b[0mnum_debajo\u001b[0m\u001b[0;34m+\u001b[0m\u001b[0;36m1\u001b[0m\u001b[0;34m\u001b[0m\u001b[0;34m\u001b[0m\u001b[0m\n",
      "\u001b[0;31mKeyboardInterrupt\u001b[0m: "
     ]
    }
   ],
   "source": [
    "compara_tiempos()"
   ]
  },
  {
   "cell_type": "code",
   "execution_count": null,
   "id": "e55cbdc4",
   "metadata": {},
   "outputs": [],
   "source": [
    "\n",
    "scipy.integrate.quad(math.sin,1,3)"
   ]
  },
  {
   "cell_type": "code",
   "execution_count": null,
   "id": "63408e2c",
   "metadata": {},
   "outputs": [],
   "source": [
    "integra_mc(math.sin, 1,3, 900000)"
   ]
  },
  {
   "cell_type": "code",
   "execution_count": null,
   "id": "1c404ac5",
   "metadata": {},
   "outputs": [],
   "source": [
    "scipy.integrate.quad(math.log,1,3)"
   ]
  },
  {
   "cell_type": "code",
   "execution_count": null,
   "id": "241c5a50",
   "metadata": {},
   "outputs": [],
   "source": [
    "integra_mc(math.log, 1,3, 10000)"
   ]
  },
  {
   "cell_type": "code",
   "execution_count": null,
   "id": "94f62779",
   "metadata": {},
   "outputs": [],
   "source": [
    "integra_mc_vec(math.log, 1, 3, 10000)"
   ]
  },
  {
   "cell_type": "code",
   "execution_count": null,
   "id": "7a929c46",
   "metadata": {},
   "outputs": [],
   "source": []
  }
 ],
 "metadata": {
  "kernelspec": {
   "display_name": "Python 3 (ipykernel)",
   "language": "python",
   "name": "python3"
  },
  "language_info": {
   "codemirror_mode": {
    "name": "ipython",
    "version": 3
   },
   "file_extension": ".py",
   "mimetype": "text/x-python",
   "name": "python",
   "nbconvert_exporter": "python",
   "pygments_lexer": "ipython3",
   "version": "3.9.7"
  }
 },
 "nbformat": 4,
 "nbformat_minor": 5
}
