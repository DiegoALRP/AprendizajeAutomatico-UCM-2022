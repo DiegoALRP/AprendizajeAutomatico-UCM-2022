{
 "cells": [
  {
   "cell_type": "code",
   "execution_count": 1,
   "id": "0ecf7e4a",
   "metadata": {},
   "outputs": [],
   "source": [
    "import time\n",
    "import numpy as np\n",
    "import random as rn\n",
    "import scipy.integrate\n",
    "import math\n",
    "import matplotlib.pyplot as plt"
   ]
  },
  {
   "cell_type": "code",
   "execution_count": 2,
   "id": "589bae20",
   "metadata": {},
   "outputs": [],
   "source": [
    "def integra_mc(fun, a, b, num_puntos=10000):\n",
    "    lista_puntos = list()\n",
    "    MAX = float('-inf')\n",
    "    MIN = float('inf')\n",
    "    for i in range(0, num_puntos):\n",
    "        temp = fun(rn.uniform(a,b))\n",
    "        if(temp > MAX): \n",
    "            MAX = temp\n",
    "        if(temp < MIN):\n",
    "            MIN = temp\n",
    "    \n",
    "    for i in range(0, num_puntos):\n",
    "                                #X                    #Y\n",
    "        lista_puntos.append( (rn.uniform(a, b), rn.uniform(0, MAX)) )\n",
    "    \n",
    "    num_debajo = 0\n",
    "    for punto in lista_puntos:\n",
    "        if(punto[1] < fun(punto[0])):\n",
    "            num_debajo = num_debajo+1\n",
    "    \n",
    "    return (num_debajo/num_puntos)*(b-a)*MAX"
   ]
  },
  {
   "cell_type": "code",
   "execution_count": 3,
   "id": "d3fa1916",
   "metadata": {},
   "outputs": [],
   "source": [
    "def integra_mc_vec(fun, a, b, num_puntos):\n",
    "    \n",
    "    x = np.random.uniform(a, b, num_puntos)\n",
    "    MAX = max(x)\n",
    "    y = np.random.uniform(0, MAX, num_puntos)\n",
    "    \n",
    "    puntosY = np.array([fun(xi) for xi in x])\n",
    "    \n",
    "    num_debajo = np.sum(y < puntosY)\n",
    "    \n",
    "    res = num_debajo/num_puntos*(b-a)*MAX\n",
    "    \n",
    "    return res"
   ]
  },
  {
   "cell_type": "code",
   "execution_count": 4,
   "id": "f74e9367",
   "metadata": {},
   "outputs": [],
   "source": [
    "def compara_tiempos():\n",
    "    \n",
    "    sizes = np.linspace(100, 10000000, 20) \n",
    "    \n",
    "    times_iter = [] \n",
    "    times_vec = []\n",
    "    \n",
    "    for size in sizes: \n",
    "        \n",
    "        a = 1\n",
    "        b = 100\n",
    "        \n",
    "        tic = time.process_time()\n",
    "        res_iter = integra_mc(math.sin, a, b, int(size))\n",
    "        toc = time.process_time()\n",
    "        times_iter += [1000  * (toc - tic)]\n",
    "        \n",
    "        tic = time.process_time()\n",
    "        res_vec = integra_mc_vec(math.sin, a, b, int(size))\n",
    "        toc = time.process_time()\n",
    "        times_vec += [1000  * (toc - tic)]\n",
    "        \n",
    "        p1 = len(sizes)\n",
    "        p2 = len(times_iter)\n",
    "        \n",
    "        #print(\"size1\", p1, \"size2\", p2)\n",
    "        \n",
    "    plt.figure()\n",
    "    plt.scatter(sizes, times_iter,  c='red',  label='bucle')\n",
    "    plt.scatter(sizes, times_vec, c='blue',  label='vector')\n",
    "    plt.legend()\n",
    "    plt.savefig('compara_tiempos_dot.png')\n",
    "    "
   ]
  },
  {
   "cell_type": "code",
   "execution_count": 5,
   "id": "6c940aea",
   "metadata": {},
   "outputs": [
    {
     "data": {
      "image/png": "[encoded data removed]",
      "text/plain": [
       "<Figure size 432x288 with 1 Axes>"
      ]
     },
     "metadata": {
      "needs_background": "light"
     },
     "output_type": "display_data"
    }
   ],
   "source": [
    "compara_tiempos()"
   ]
  },
  {
   "cell_type": "code",
   "execution_count": null,
   "id": "e55cbdc4",
   "metadata": {},
   "outputs": [],
   "source": [
    "\n",
    "scipy.integrate.quad(math.sin,1,3)"
   ]
  },
  {
   "cell_type": "code",
   "execution_count": null,
   "id": "63408e2c",
   "metadata": {},
   "outputs": [],
   "source": [
    "integra_mc(math.sin, 1,3, 900000)"
   ]
  },
  {
   "cell_type": "code",
   "execution_count": null,
   "id": "fd0aa7bd",
   "metadata": {},
   "outputs": [],
   "source": [
    "scipy.integrate.quad(math.log,1,3)"
   ]
  },
  {
   "cell_type": "code",
   "execution_count": null,
   "id": "f4621618",
   "metadata": {},
   "outputs": [],
   "source": [
    "integra_mc(math.log, 1,3, 10000)"
   ]
  },
  {
   "cell_type": "code",
   "execution_count": null,
   "id": "94f62779",
   "metadata": {},
   "outputs": [],
   "source": [
    "integra_mc_vec(math.log, 1, 3, 10000)"
   ]
  },
  {
   "cell_type": "code",
   "execution_count": null,
   "id": "e3bba7ee",
   "metadata": {},
   "outputs": [],
   "source": []
  }
 ],
 "metadata": {
  "kernelspec": {
   "display_name": "Python 3 (ipykernel)",
   "language": "python",
   "name": "python3"
  },
  "language_info": {
   "codemirror_mode": {
    "name": "ipython",
    "version": 3
   },
   "file_extension": ".py",
   "mimetype": "text/x-python",
   "name": "python",
   "nbconvert_exporter": "python",
   "pygments_lexer": "ipython3",
   "version": "3.9.7"
  }
 },
 "nbformat": 4,
 "nbformat_minor": 5
}
