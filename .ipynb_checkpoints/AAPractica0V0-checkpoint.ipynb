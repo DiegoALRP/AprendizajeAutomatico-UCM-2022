{
 "cells": [
  {
   "cell_type": "markdown",
   "id": "ec16951f",
   "metadata": {},
   "source": [
    "Importación de librerias que vamos a usar.\n",
    "Especialmente Numpy, la cual nos ayudará a realizar los calculos vectorialess."
   ]
  },
  {
   "cell_type": "code",
   "execution_count": 1,
   "id": "b8cc70ce",
   "metadata": {},
   "outputs": [],
   "source": [
    "import time\n",
    "import numpy as np\n",
    "import random as rn\n",
    "import scipy.integrate\n",
    "import matplotlib.pyplot as plt"
   ]
  },
  {
   "cell_type": "code",
   "execution_count": 2,
   "id": "589bae20",
   "metadata": {},
   "outputs": [],
   "source": [
    "def integra_mc(fun, a, b, num_puntos=10000):\n",
    "    \n",
    "    #x = np.linspace(a, b, num = num_puntos)\n",
    "    #puntosY = fun(x) \n",
    "    #MAXI = np.max(puntosY)\n",
    "    \n",
    "    #Generación de números aleatorios\n",
    "    #Posteriormente se obtienen los puntos de la coordenada Y\n",
    "    #Por último alculamos el máximo valor de Y\n",
    "    MAX = -1\n",
    "    for i in range(0, num_puntos):\n",
    "        y = fun(rn.uniform(a,b))\n",
    "        if(y > MAX): \n",
    "            MAX = y\n",
    "    \n",
    "            \n",
    "    num_debajo = 0\n",
    "    for i in range(0, num_puntos):\n",
    "        x = rn.uniform(a, b)\n",
    "        y = rn.uniform(0, MAX)\n",
    "        if(y < fun(x)):\n",
    "            num_debajo = num_debajo+1\n",
    "    \n",
    "    return (num_debajo/num_puntos)*(b-a)*MAX"
   ]
  },
  {
   "cell_type": "code",
   "execution_count": 3,
   "id": "5b6cb767",
   "metadata": {},
   "outputs": [],
   "source": [
    "def integra_mc_vec(fun, a, b, num_puntos):\n",
    "\n",
    "    #Generación de números aleatorios equiespaciados\n",
    "    #Posteriormente se obtienen los puntos de la coordenada Y\n",
    "    x = np.linspace(a, b, num = num_puntos)\n",
    "    puntosY = fun(x) \n",
    "    #Calculamos el máximo valor de Y\n",
    "    MAX = np.max(puntosY)\n",
    "    \n",
    "    y = np.random.uniform(0, MAX, num_puntos)\n",
    "    \n",
    "    num_debajo = np.sum(y < puntosY)\n",
    "    \n",
    "    res = (num_debajo/num_puntos)*(b-a)*MAX\n",
    "    \n",
    "    return res"
   ]
  },
  {
   "cell_type": "code",
   "execution_count": 4,
   "id": "e3052cf0",
   "metadata": {},
   "outputs": [],
   "source": [
    "def compara_tiempos(fun):\n",
    "    \n",
    "    sizes = np.linspace(100, 10000000, 20) \n",
    "    \n",
    "    times_iter = [] \n",
    "    times_vec = []\n",
    "    \n",
    "    for size in sizes: \n",
    "        \n",
    "        a = 1\n",
    "        b = 100\n",
    "        \n",
    "        tic = time.process_time()\n",
    "        res_iter = integra_mc(fun, a, b, int(size))\n",
    "        toc = time.process_time()\n",
    "        times_iter += [1000  * (toc - tic)]\n",
    "        \n",
    "        tic = time.process_time()\n",
    "        res_vec = integra_mc_vec(fun, a, b, int(size))\n",
    "        toc = time.process_time()\n",
    "        times_vec += [1000  * (toc - tic)]\n",
    "        \n",
    "        p1 = len(sizes)\n",
    "        p2 = len(times_iter)\n",
    "        \n",
    "        \n",
    "    plt.figure()\n",
    "    plt.scatter(sizes, times_iter,  c='red',  label='bucle')\n",
    "    plt.scatter(sizes, times_vec, c='blue',  label='vector')\n",
    "    plt.legend()\n",
    "    plt.savefig('compara_tiempos_dot.png')\n",
    "    "
   ]
  },
  {
   "cell_type": "code",
   "execution_count": null,
   "id": "0528d586",
   "metadata": {},
   "outputs": [],
   "source": [
    "compara_tiempos(np.sin)"
   ]
  },
  {
   "cell_type": "code",
   "execution_count": 23,
   "id": "9e2de170",
   "metadata": {},
   "outputs": [
    {
     "data": {
      "image/png": "[encoded data removed]",
      "text/plain": [
       "<Figure size 432x288 with 1 Axes>"
      ]
     },
     "metadata": {
      "needs_background": "light"
     },
     "output_type": "display_data"
    }
   ],
   "source": [
    "compara_tiempos(np.sin)"
   ]
  },
  {
   "cell_type": "code",
   "execution_count": 126,
   "id": "23342563",
   "metadata": {},
   "outputs": [
    {
     "data": {
      "image/png": "[encoded data removed]",
      "text/plain": [
       "<Figure size 432x288 with 1 Axes>"
      ]
     },
     "metadata": {
      "needs_background": "light"
     },
     "output_type": "display_data"
    }
   ],
   "source": [
    "compara_tiempos(np.sin)"
   ]
  },
  {
   "cell_type": "code",
   "execution_count": 6,
   "id": "e55cbdc4",
   "metadata": {},
   "outputs": [
    {
     "data": {
      "text/plain": [
       "(1.530294802468585, 1.698968524164829e-14)"
      ]
     },
     "execution_count": 6,
     "metadata": {},
     "output_type": "execute_result"
    }
   ],
   "source": [
    "\n",
    "scipy.integrate.quad(math.sin,1,3)"
   ]
  },
  {
   "cell_type": "code",
   "execution_count": 121,
   "id": "63408e2c",
   "metadata": {},
   "outputs": [
    {
     "data": {
      "text/plain": [
       "1.5299866666666522"
      ]
     },
     "execution_count": 121,
     "metadata": {},
     "output_type": "execute_result"
    }
   ],
   "source": [
    "integra_mc(np.sin, 1,3, 900000)"
   ]
  },
  {
   "cell_type": "code",
   "execution_count": 122,
   "id": "6a816080",
   "metadata": {},
   "outputs": [
    {
     "data": {
      "text/plain": [
       "1.5286577777777632"
      ]
     },
     "execution_count": 122,
     "metadata": {},
     "output_type": "execute_result"
    }
   ],
   "source": [
    "integra_mc_vec(np.sin, 1,3, 900000)"
   ]
  },
  {
   "cell_type": "code",
   "execution_count": 106,
   "id": "86e83810",
   "metadata": {},
   "outputs": [
    {
     "data": {
      "text/plain": [
       "(1.2958368660043291, 1.43866792479611e-14)"
      ]
     },
     "execution_count": 106,
     "metadata": {},
     "output_type": "execute_result"
    }
   ],
   "source": [
    "scipy.integrate.quad(math.log,1,3)"
   ]
  },
  {
   "cell_type": "code",
   "execution_count": 10,
   "id": "ea1fe431",
   "metadata": {},
   "outputs": [
    {
     "data": {
      "text/plain": [
       "1.2947492396164064"
      ]
     },
     "execution_count": 10,
     "metadata": {},
     "output_type": "execute_result"
    }
   ],
   "source": [
    "integra_mc(np.log, 1,3, 10000)"
   ]
  },
  {
   "cell_type": "code",
   "execution_count": 123,
   "id": "94f62779",
   "metadata": {},
   "outputs": [
    {
     "data": {
      "text/plain": [
       "1.3009766722407756"
      ]
     },
     "execution_count": 123,
     "metadata": {},
     "output_type": "execute_result"
    }
   ],
   "source": [
    "integra_mc_vec(np.log, 1, 3, 10000)"
   ]
  },
  {
   "cell_type": "code",
   "execution_count": null,
   "id": "5321ca28",
   "metadata": {},
   "outputs": [],
   "source": []
  }
 ],
 "metadata": {
  "kernelspec": {
   "display_name": "Python 3 (ipykernel)",
   "language": "python",
   "name": "python3"
  },
  "language_info": {
   "codemirror_mode": {
    "name": "ipython",
    "version": 3
   },
   "file_extension": ".py",
   "mimetype": "text/x-python",
   "name": "python",
   "nbconvert_exporter": "python",
   "pygments_lexer": "ipython3",
   "version": "3.9.7"
  }
 },
 "nbformat": 4,
 "nbformat_minor": 5
}
